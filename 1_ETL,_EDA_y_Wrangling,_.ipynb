{
  "nbformat": 4,
  "nbformat_minor": 0,
  "metadata": {
    "colab": {
      "provenance": [],
      "mount_file_id": "1HYAH5A27cya5CDMzLiDLwLpMbL4r6f5t",
      "authorship_tag": "ABX9TyONFMiIi7wMUW8L9Y/sh+/R",
      "include_colab_link": true
    },
    "kernelspec": {
      "name": "python3",
      "display_name": "Python 3"
    },
    "language_info": {
      "name": "python"
    }
  },
  "cells": [
    {
      "cell_type": "markdown",
      "metadata": {
        "id": "view-in-github",
        "colab_type": "text"
      },
      "source": [
        "<a href=\"https://colab.research.google.com/github/SantiData87/CoderHouse_DataScience_Biblioteca/blob/main/1_ETL%2C_EDA_y_Wrangling%2C_.ipynb\" target=\"_parent\"><img src=\"https://colab.research.google.com/assets/colab-badge.svg\" alt=\"Open In Colab\"/></a>"
      ]
    },
    {
      "cell_type": "code",
      "source": [
        "# Importo las librerias que voy a utilizar\n",
        "import pandas as pd\n",
        "import numpy as np\n",
        "\n",
        "#Visualizacion\n",
        "import matplotlib as mpl\n",
        "import matplotlib.pyplot as plt\n",
        "import seaborn as sns"
      ],
      "metadata": {
        "id": "1owHFB0tGwUY"
      },
      "execution_count": null,
      "outputs": []
    },
    {
      "cell_type": "markdown",
      "source": [
        "#1) **Data Adquisición**\n",
        "\n",
        "C4: https://colab.research.google.com/drive/1Eq4VChtD8OdGvhbOSndK5T62r8cg-ni_#scrollTo=WUA7-zARStyN\n",
        "\n",
        "C23:\n",
        "https://colab.research.google.com/drive/1malQgtTsa7ZDvihzjw1xeLOxLNX_FuIi\n",
        "\n",
        "C27:\n",
        "https://colab.research.google.com/drive/1vmnj5ti9B_-twnT23z4p4Rp7nJsY-ME3\n",
        "\n",
        "C27 - Ejemplo Profe:\n",
        "https://colab.research.google.com/drive/1o4bG2eoQoWR1ps_YxQj0exN9nHGr42Cx\n",
        "\n",
        "C4 - DIAPOSITIVA 51: https://docs.google.com/presentation/d/1Z5kt8ulBPjWTtwA0jKj1RzOh7AGDlvwMtDPtJ2zplzE/edit#slide=id.g127577e0d43_0_481\n",
        "\n",
        "C23 - DIAPOSITIVA 33: https://docs.google.com/presentation/d/1L03GxIZkN238jmIheahHJxFz4nVZfyI4QRLX4Ayf1sU/edit#slide=id.g118047ffdcc_0_471\n",
        "\n",
        "C27 - DIAPOSITIVAS: https://docs.google.com/presentation/d/1KVF-vIXsLw-aUMkvwK2WXt3UmZEHboGXeUGmK2vdKOs/edit#slide=id.g116998d1bc9_0_40"
      ],
      "metadata": {
        "id": "7mLbFEcM1bcW"
      }
    },
    {
      "cell_type": "markdown",
      "source": [
        "## Local"
      ],
      "metadata": {
        "id": "9-8UG0EoWZdL"
      }
    },
    {
      "cell_type": "code",
      "source": [
        "#Importar librerias - Clase\n",
        "import pandas as pd\n",
        "import numpy as np\n",
        "\n",
        "#Usar metodo files.upload()\n",
        "from google.colab import files\n",
        "uploaded = files.upload()\n",
        "import io\n",
        "\n",
        "#Selecciono archivo haciendo click en \"Elegir Archivos\""
      ],
      "metadata": {
        "id": "mFESC85sXDus"
      },
      "execution_count": null,
      "outputs": []
    },
    {
      "cell_type": "markdown",
      "source": [
        "**XLXS**"
      ],
      "metadata": {
        "id": "93TsVjRAY8I1"
      }
    },
    {
      "cell_type": "code",
      "source": [
        "#XLXS - Metodo Local\n",
        "archivo = 'NOMBRE_ARCHIVO.xlsx'\n",
        "df = pd.read_excel(archivo)"
      ],
      "metadata": {
        "id": "X_6L7RxJY7hj"
      },
      "execution_count": null,
      "outputs": []
    },
    {
      "cell_type": "markdown",
      "source": [
        "**CSV**"
      ],
      "metadata": {
        "id": "x0vz4sitY7TT"
      }
    },
    {
      "cell_type": "code",
      "source": [
        "#CSV - Metodo Local\n",
        "df = pd.read_csv(io.BytesIO(uploaded['NOMBRE_ARCHIVO.csv']),sep=\",\")"
      ],
      "metadata": {
        "id": "ghS1b3iGmw_B"
      },
      "execution_count": null,
      "outputs": []
    },
    {
      "cell_type": "markdown",
      "source": [
        "**TXT**"
      ],
      "metadata": {
        "id": "SwZc0ai3ZHos"
      }
    },
    {
      "cell_type": "code",
      "source": [
        "#TXT - Metodo Local\n",
        "ruta = 'C:/Downloads/David/EJEMPLO.txt'\n",
        "resultados= [] #Creo una lista vacia\n",
        "\n",
        "#Itero para que lea linea por lines\n",
        "with open(ruta) as f:\n",
        "   linea= f.readline()\n",
        "   with linea:\n",
        "     resultados.append(linea.strip().split(“ ”)) #Agrego a la lista vacia resultados cada linea\n",
        "     linea= f.readline()\n",
        "f.close() #Fin de la iteracion\n",
        "\n",
        "#Cargo el df\n",
        "df= pd.DataFrame(resultados,columns=['Col1',’Col2’])"
      ],
      "metadata": {
        "id": "oeF9R4TkYkhd"
      },
      "execution_count": null,
      "outputs": []
    },
    {
      "cell_type": "markdown",
      "source": [
        "##Drive"
      ],
      "metadata": {
        "id": "kaud4nqXTCnS"
      }
    },
    {
      "cell_type": "code",
      "source": [
        "#Importar librerias - Clase\n",
        "import pandas as pd\n",
        "import numpy as np\n",
        "#Montar en drive\n",
        "from google.colab import drive\n",
        "import os\n",
        "drive.mount('/content/drive')\n",
        "%cd '/content/drive/MyDrive/- DATA/DATA SCIENCE/Data Sets/'\n",
        "%ls"
      ],
      "metadata": {
        "id": "WTNK3qOX1gw_",
        "colab": {
          "base_uri": "https://localhost:8080/"
        },
        "outputId": "48b35407-9eb8-4e19-fead-0adcba09ec6c"
      },
      "execution_count": null,
      "outputs": [
        {
          "output_type": "stream",
          "name": "stdout",
          "text": [
            "Drive already mounted at /content/drive; to attempt to forcibly remount, call drive.mount(\"/content/drive\", force_remount=True).\n",
            "/content/drive/MyDrive/- DATA/DATA SCIENCE/Data Sets\n",
            "\u001b[0m\u001b[01;34m'CODER Clases DataSets'\u001b[0m/   IBM.csv\n",
            " FED_rates.csv             locales-en-venta-2020.csv\n",
            "'Housing Market USA.csv'   nyc-rolling-sales.csv\n",
            " housing_test.csv          SUELDOSPY.xlsx\n",
            " housing_train.csv        'unemployment analysis.csv'\n"
          ]
        }
      ]
    },
    {
      "cell_type": "markdown",
      "source": [
        "**XLXS**"
      ],
      "metadata": {
        "id": "6Xvk6WFF7JZ5"
      }
    },
    {
      "cell_type": "code",
      "source": [
        "#XLXS - Drive\n",
        "path='COPIO Y PEGO ACA RUTA DEL ARCHIVO'\n",
        "df = pd.read_excel(path)"
      ],
      "metadata": {
        "id": "higOOSSX1x6_"
      },
      "execution_count": null,
      "outputs": []
    },
    {
      "cell_type": "markdown",
      "source": [
        "**CSV**"
      ],
      "metadata": {
        "id": "u7lEO_Ls7Uvg"
      }
    },
    {
      "cell_type": "code",
      "source": [
        "#CSV - Drive\n",
        "path='COPIO Y PEGO ACA RUTA DEL ARCHIVO'\n",
        "df = pd.read_csv(path)"
      ],
      "metadata": {
        "id": "11qEWOqG7W5N"
      },
      "execution_count": null,
      "outputs": []
    },
    {
      "cell_type": "markdown",
      "source": [
        "**TXT**"
      ],
      "metadata": {
        "id": "00Cg4PUm_N2K"
      }
    },
    {
      "cell_type": "code",
      "source": [
        "#CSV - Drive\n",
        "path='COPIO Y PEGO ACA RUTA DEL ARCHIVO'\n",
        "df = pd.read_csv(path, delimiter='\\t')"
      ],
      "metadata": {
        "id": "x319uwod_RE6"
      },
      "execution_count": null,
      "outputs": []
    },
    {
      "cell_type": "markdown",
      "source": [
        "## Github\n",
        "\n"
      ],
      "metadata": {
        "id": "k6vqNpRG7XEW"
      }
    },
    {
      "cell_type": "markdown",
      "source": [
        "GitHub Mercado Valores"
      ],
      "metadata": {
        "id": "s6e6q9NdaW5m"
      }
    },
    {
      "cell_type": "code",
      "source": [
        "#CSV - GitHub\n",
        "import pandas as pd\n",
        "\n",
        "url = 'https://raw.githubusercontent.com/JJTorresDS/stocks-ds-edu/main/stocks.csv'\n",
        "df = pd.read_csv(url, index_col=0)\n",
        "\n",
        "print(df[['AMZN','MCD','SBUX','GOOG','MSFT']].head(5).round(1))"
      ],
      "metadata": {
        "colab": {
          "base_uri": "https://localhost:8080/"
        },
        "id": "xKZFNsvwaV9c",
        "outputId": "fbd262f8-4b46-4836-cd2f-136fc9fbb105"
      },
      "execution_count": null,
      "outputs": [
        {
          "output_type": "stream",
          "name": "stdout",
          "text": [
            "                 AMZN    MCD  SBUX   GOOG  MSFT\n",
            "formatted_date                                 \n",
            "2016-01-01      587.0  106.3  54.4  743.0  49.9\n",
            "2016-02-01      552.5  100.7  52.1  697.8  46.0\n",
            "2016-03-01      593.6  108.8  53.6  745.0  50.3\n",
            "2016-04-01      659.6  109.5  50.5  693.0  45.5\n",
            "2016-05-01      722.8  105.6  49.3  735.7  48.3\n"
          ]
        }
      ]
    },
    {
      "cell_type": "markdown",
      "source": [
        "## SQLite"
      ],
      "metadata": {
        "id": "B8_9_LEP6IaV"
      }
    },
    {
      "cell_type": "markdown",
      "source": [
        "### **SQLite Drive**"
      ],
      "metadata": {
        "id": "466tEgh9q0_m"
      }
    },
    {
      "cell_type": "code",
      "source": [
        "#Importar librerias - Clase\n",
        "import pandas as pd\n",
        "import numpy as np\n",
        "#Montar en drive\n",
        "from google.colab import drive\n",
        "import os\n",
        "drive.mount('/content/drive')\n",
        "%cd '/content/drive/MyDrive/- DATA/DATA SCIENCE/Data Sets/'\n",
        "%ls"
      ],
      "metadata": {
        "colab": {
          "base_uri": "https://localhost:8080/"
        },
        "id": "ovZB5KZs6_GB",
        "outputId": "39a40cae-4296-45f1-b430-cf5da9ed9740"
      },
      "execution_count": null,
      "outputs": [
        {
          "output_type": "stream",
          "name": "stdout",
          "text": [
            "Drive already mounted at /content/drive; to attempt to forcibly remount, call drive.mount(\"/content/drive\", force_remount=True).\n",
            "/content/drive/MyDrive/- DATA/DATA SCIENCE/Data Sets\n",
            " aary.sqlite               IBM.csv\n",
            "\u001b[0m\u001b[01;34m'CODER Clases DataSets'\u001b[0m/   locales-en-venta-2020.csv\n",
            " FED_rates.csv             nba_salary.sqlite\n",
            "'Housing Market USA.csv'   nyc-rolling-sales.csv\n",
            " housing_test.csv          SUELDOSPY.xlsx\n",
            " housing_train.csv        'unemployment analysis.csv'\n",
            "'IBM (1).csv'\n"
          ]
        }
      ]
    },
    {
      "cell_type": "code",
      "source": [
        "#Conecto con la base de dato: conn\n",
        "import pandas as pd\n",
        "import matplotlib.pyplot as plt\n",
        "\n",
        "import sqlite3 as sql\n",
        "\n",
        "conn= sql.connect('/content/drive/MyDrive/- DATA/DATA SCIENCE/Data Sets/CODER Clases DataSets/Copia de nba_salary.sqlite')\n",
        "conn"
      ],
      "metadata": {
        "colab": {
          "base_uri": "https://localhost:8080/"
        },
        "id": "pssgl-ml6_Rw",
        "outputId": "4acb40b9-3b1b-4d04-9ed3-a939f1f58e12"
      },
      "execution_count": null,
      "outputs": [
        {
          "output_type": "execute_result",
          "data": {
            "text/plain": [
              "<sqlite3.Connection at 0x7f090aa53e40>"
            ]
          },
          "metadata": {},
          "execution_count": 5
        }
      ]
    },
    {
      "cell_type": "code",
      "source": [
        "# Visualizar las tablas\n",
        "cursor = conn.cursor()\n",
        "cursor.execute(\"SELECT name FROM sqlite_master WHERE type='table';\")\n",
        "print(cursor. fetchall())"
      ],
      "metadata": {
        "colab": {
          "base_uri": "https://localhost:8080/"
        },
        "id": "cp9DTqFr6_Uo",
        "outputId": "bb82982a-6cdf-49f7-e010-f3407690fe87"
      },
      "execution_count": null,
      "outputs": [
        {
          "output_type": "stream",
          "name": "stdout",
          "text": [
            "[('NBA_season1718_salary',), ('Seasons_Stats',)]\n"
          ]
        }
      ]
    },
    {
      "cell_type": "code",
      "source": [
        "#Cargo tabla por tabla\n",
        "df_salary = pd.read_sql_query(\"SELECT * from NBA_season1718_salary\", conn)\n",
        "df_salary.head()"
      ],
      "metadata": {
        "colab": {
          "base_uri": "https://localhost:8080/",
          "height": 206
        },
        "id": "LfOb6P0M6_X6",
        "outputId": "509ef9d2-351c-4f98-b88f-327b87911d61"
      },
      "execution_count": null,
      "outputs": [
        {
          "output_type": "execute_result",
          "data": {
            "text/plain": [
              "    X1          Player   Tm  season17_18\n",
              "0  1.0   Stephen Curry  GSW   34682550.0\n",
              "1  2.0    LeBron James  CLE   33285709.0\n",
              "2  3.0    Paul Millsap  DEN   31269231.0\n",
              "3  4.0  Gordon Hayward  BOS   29727900.0\n",
              "4  5.0   Blake Griffin  DET   29512900.0"
            ],
            "text/html": [
              "\n",
              "  <div id=\"df-b36009e9-5f10-4bd2-9402-b5705733c458\">\n",
              "    <div class=\"colab-df-container\">\n",
              "      <div>\n",
              "<style scoped>\n",
              "    .dataframe tbody tr th:only-of-type {\n",
              "        vertical-align: middle;\n",
              "    }\n",
              "\n",
              "    .dataframe tbody tr th {\n",
              "        vertical-align: top;\n",
              "    }\n",
              "\n",
              "    .dataframe thead th {\n",
              "        text-align: right;\n",
              "    }\n",
              "</style>\n",
              "<table border=\"1\" class=\"dataframe\">\n",
              "  <thead>\n",
              "    <tr style=\"text-align: right;\">\n",
              "      <th></th>\n",
              "      <th>X1</th>\n",
              "      <th>Player</th>\n",
              "      <th>Tm</th>\n",
              "      <th>season17_18</th>\n",
              "    </tr>\n",
              "  </thead>\n",
              "  <tbody>\n",
              "    <tr>\n",
              "      <th>0</th>\n",
              "      <td>1.0</td>\n",
              "      <td>Stephen Curry</td>\n",
              "      <td>GSW</td>\n",
              "      <td>34682550.0</td>\n",
              "    </tr>\n",
              "    <tr>\n",
              "      <th>1</th>\n",
              "      <td>2.0</td>\n",
              "      <td>LeBron James</td>\n",
              "      <td>CLE</td>\n",
              "      <td>33285709.0</td>\n",
              "    </tr>\n",
              "    <tr>\n",
              "      <th>2</th>\n",
              "      <td>3.0</td>\n",
              "      <td>Paul Millsap</td>\n",
              "      <td>DEN</td>\n",
              "      <td>31269231.0</td>\n",
              "    </tr>\n",
              "    <tr>\n",
              "      <th>3</th>\n",
              "      <td>4.0</td>\n",
              "      <td>Gordon Hayward</td>\n",
              "      <td>BOS</td>\n",
              "      <td>29727900.0</td>\n",
              "    </tr>\n",
              "    <tr>\n",
              "      <th>4</th>\n",
              "      <td>5.0</td>\n",
              "      <td>Blake Griffin</td>\n",
              "      <td>DET</td>\n",
              "      <td>29512900.0</td>\n",
              "    </tr>\n",
              "  </tbody>\n",
              "</table>\n",
              "</div>\n",
              "      <button class=\"colab-df-convert\" onclick=\"convertToInteractive('df-b36009e9-5f10-4bd2-9402-b5705733c458')\"\n",
              "              title=\"Convert this dataframe to an interactive table.\"\n",
              "              style=\"display:none;\">\n",
              "        \n",
              "  <svg xmlns=\"http://www.w3.org/2000/svg\" height=\"24px\"viewBox=\"0 0 24 24\"\n",
              "       width=\"24px\">\n",
              "    <path d=\"M0 0h24v24H0V0z\" fill=\"none\"/>\n",
              "    <path d=\"M18.56 5.44l.94 2.06.94-2.06 2.06-.94-2.06-.94-.94-2.06-.94 2.06-2.06.94zm-11 1L8.5 8.5l.94-2.06 2.06-.94-2.06-.94L8.5 2.5l-.94 2.06-2.06.94zm10 10l.94 2.06.94-2.06 2.06-.94-2.06-.94-.94-2.06-.94 2.06-2.06.94z\"/><path d=\"M17.41 7.96l-1.37-1.37c-.4-.4-.92-.59-1.43-.59-.52 0-1.04.2-1.43.59L10.3 9.45l-7.72 7.72c-.78.78-.78 2.05 0 2.83L4 21.41c.39.39.9.59 1.41.59.51 0 1.02-.2 1.41-.59l7.78-7.78 2.81-2.81c.8-.78.8-2.07 0-2.86zM5.41 20L4 18.59l7.72-7.72 1.47 1.35L5.41 20z\"/>\n",
              "  </svg>\n",
              "      </button>\n",
              "      \n",
              "  <style>\n",
              "    .colab-df-container {\n",
              "      display:flex;\n",
              "      flex-wrap:wrap;\n",
              "      gap: 12px;\n",
              "    }\n",
              "\n",
              "    .colab-df-convert {\n",
              "      background-color: #E8F0FE;\n",
              "      border: none;\n",
              "      border-radius: 50%;\n",
              "      cursor: pointer;\n",
              "      display: none;\n",
              "      fill: #1967D2;\n",
              "      height: 32px;\n",
              "      padding: 0 0 0 0;\n",
              "      width: 32px;\n",
              "    }\n",
              "\n",
              "    .colab-df-convert:hover {\n",
              "      background-color: #E2EBFA;\n",
              "      box-shadow: 0px 1px 2px rgba(60, 64, 67, 0.3), 0px 1px 3px 1px rgba(60, 64, 67, 0.15);\n",
              "      fill: #174EA6;\n",
              "    }\n",
              "\n",
              "    [theme=dark] .colab-df-convert {\n",
              "      background-color: #3B4455;\n",
              "      fill: #D2E3FC;\n",
              "    }\n",
              "\n",
              "    [theme=dark] .colab-df-convert:hover {\n",
              "      background-color: #434B5C;\n",
              "      box-shadow: 0px 1px 3px 1px rgba(0, 0, 0, 0.15);\n",
              "      filter: drop-shadow(0px 1px 2px rgba(0, 0, 0, 0.3));\n",
              "      fill: #FFFFFF;\n",
              "    }\n",
              "  </style>\n",
              "\n",
              "      <script>\n",
              "        const buttonEl =\n",
              "          document.querySelector('#df-b36009e9-5f10-4bd2-9402-b5705733c458 button.colab-df-convert');\n",
              "        buttonEl.style.display =\n",
              "          google.colab.kernel.accessAllowed ? 'block' : 'none';\n",
              "\n",
              "        async function convertToInteractive(key) {\n",
              "          const element = document.querySelector('#df-b36009e9-5f10-4bd2-9402-b5705733c458');\n",
              "          const dataTable =\n",
              "            await google.colab.kernel.invokeFunction('convertToInteractive',\n",
              "                                                     [key], {});\n",
              "          if (!dataTable) return;\n",
              "\n",
              "          const docLinkHtml = 'Like what you see? Visit the ' +\n",
              "            '<a target=\"_blank\" href=https://colab.research.google.com/notebooks/data_table.ipynb>data table notebook</a>'\n",
              "            + ' to learn more about interactive tables.';\n",
              "          element.innerHTML = '';\n",
              "          dataTable['output_type'] = 'display_data';\n",
              "          await google.colab.output.renderOutput(dataTable, element);\n",
              "          const docLink = document.createElement('div');\n",
              "          docLink.innerHTML = docLinkHtml;\n",
              "          element.appendChild(docLink);\n",
              "        }\n",
              "      </script>\n",
              "    </div>\n",
              "  </div>\n",
              "  "
            ]
          },
          "metadata": {},
          "execution_count": 7
        }
      ]
    },
    {
      "cell_type": "code",
      "source": [
        "cursor.execute(\n",
        "    \"\"\"\n",
        "    SELECT * from NBA_season1718_salary\n",
        "    \"\"\"\n",
        ").fetchall()"
      ],
      "metadata": {
        "id": "FylwNiTa8jrX"
      },
      "execution_count": null,
      "outputs": []
    },
    {
      "cell_type": "markdown",
      "source": [
        "### **SQLite Local**"
      ],
      "metadata": {
        "id": "HCVcs3Toq374"
      }
    },
    {
      "cell_type": "code",
      "source": [
        "from google.colab import files\n",
        "\n",
        "# Cargar el archivo de la base de datos desde tu escritorio local\n",
        "uploaded = files.upload()\n",
        "\n",
        "#Selecciono archivo haciendo click en \"Elegir Archivos\""
      ],
      "metadata": {
        "id": "cf14N6Sxryeu",
        "colab": {
          "base_uri": "https://localhost:8080/",
          "height": 73
        },
        "outputId": "3c5de7d6-02f1-47fe-92d2-8cb424c864bd"
      },
      "execution_count": null,
      "outputs": [
        {
          "output_type": "display_data",
          "data": {
            "text/plain": [
              "<IPython.core.display.HTML object>"
            ],
            "text/html": [
              "\n",
              "     <input type=\"file\" id=\"files-dd7d9c39-68f9-4cbe-bf49-17b9927b04a4\" name=\"files[]\" multiple disabled\n",
              "        style=\"border:none\" />\n",
              "     <output id=\"result-dd7d9c39-68f9-4cbe-bf49-17b9927b04a4\">\n",
              "      Upload widget is only available when the cell has been executed in the\n",
              "      current browser session. Please rerun this cell to enable.\n",
              "      </output>\n",
              "      <script>// Copyright 2017 Google LLC\n",
              "//\n",
              "// Licensed under the Apache License, Version 2.0 (the \"License\");\n",
              "// you may not use this file except in compliance with the License.\n",
              "// You may obtain a copy of the License at\n",
              "//\n",
              "//      http://www.apache.org/licenses/LICENSE-2.0\n",
              "//\n",
              "// Unless required by applicable law or agreed to in writing, software\n",
              "// distributed under the License is distributed on an \"AS IS\" BASIS,\n",
              "// WITHOUT WARRANTIES OR CONDITIONS OF ANY KIND, either express or implied.\n",
              "// See the License for the specific language governing permissions and\n",
              "// limitations under the License.\n",
              "\n",
              "/**\n",
              " * @fileoverview Helpers for google.colab Python module.\n",
              " */\n",
              "(function(scope) {\n",
              "function span(text, styleAttributes = {}) {\n",
              "  const element = document.createElement('span');\n",
              "  element.textContent = text;\n",
              "  for (const key of Object.keys(styleAttributes)) {\n",
              "    element.style[key] = styleAttributes[key];\n",
              "  }\n",
              "  return element;\n",
              "}\n",
              "\n",
              "// Max number of bytes which will be uploaded at a time.\n",
              "const MAX_PAYLOAD_SIZE = 100 * 1024;\n",
              "\n",
              "function _uploadFiles(inputId, outputId) {\n",
              "  const steps = uploadFilesStep(inputId, outputId);\n",
              "  const outputElement = document.getElementById(outputId);\n",
              "  // Cache steps on the outputElement to make it available for the next call\n",
              "  // to uploadFilesContinue from Python.\n",
              "  outputElement.steps = steps;\n",
              "\n",
              "  return _uploadFilesContinue(outputId);\n",
              "}\n",
              "\n",
              "// This is roughly an async generator (not supported in the browser yet),\n",
              "// where there are multiple asynchronous steps and the Python side is going\n",
              "// to poll for completion of each step.\n",
              "// This uses a Promise to block the python side on completion of each step,\n",
              "// then passes the result of the previous step as the input to the next step.\n",
              "function _uploadFilesContinue(outputId) {\n",
              "  const outputElement = document.getElementById(outputId);\n",
              "  const steps = outputElement.steps;\n",
              "\n",
              "  const next = steps.next(outputElement.lastPromiseValue);\n",
              "  return Promise.resolve(next.value.promise).then((value) => {\n",
              "    // Cache the last promise value to make it available to the next\n",
              "    // step of the generator.\n",
              "    outputElement.lastPromiseValue = value;\n",
              "    return next.value.response;\n",
              "  });\n",
              "}\n",
              "\n",
              "/**\n",
              " * Generator function which is called between each async step of the upload\n",
              " * process.\n",
              " * @param {string} inputId Element ID of the input file picker element.\n",
              " * @param {string} outputId Element ID of the output display.\n",
              " * @return {!Iterable<!Object>} Iterable of next steps.\n",
              " */\n",
              "function* uploadFilesStep(inputId, outputId) {\n",
              "  const inputElement = document.getElementById(inputId);\n",
              "  inputElement.disabled = false;\n",
              "\n",
              "  const outputElement = document.getElementById(outputId);\n",
              "  outputElement.innerHTML = '';\n",
              "\n",
              "  const pickedPromise = new Promise((resolve) => {\n",
              "    inputElement.addEventListener('change', (e) => {\n",
              "      resolve(e.target.files);\n",
              "    });\n",
              "  });\n",
              "\n",
              "  const cancel = document.createElement('button');\n",
              "  inputElement.parentElement.appendChild(cancel);\n",
              "  cancel.textContent = 'Cancel upload';\n",
              "  const cancelPromise = new Promise((resolve) => {\n",
              "    cancel.onclick = () => {\n",
              "      resolve(null);\n",
              "    };\n",
              "  });\n",
              "\n",
              "  // Wait for the user to pick the files.\n",
              "  const files = yield {\n",
              "    promise: Promise.race([pickedPromise, cancelPromise]),\n",
              "    response: {\n",
              "      action: 'starting',\n",
              "    }\n",
              "  };\n",
              "\n",
              "  cancel.remove();\n",
              "\n",
              "  // Disable the input element since further picks are not allowed.\n",
              "  inputElement.disabled = true;\n",
              "\n",
              "  if (!files) {\n",
              "    return {\n",
              "      response: {\n",
              "        action: 'complete',\n",
              "      }\n",
              "    };\n",
              "  }\n",
              "\n",
              "  for (const file of files) {\n",
              "    const li = document.createElement('li');\n",
              "    li.append(span(file.name, {fontWeight: 'bold'}));\n",
              "    li.append(span(\n",
              "        `(${file.type || 'n/a'}) - ${file.size} bytes, ` +\n",
              "        `last modified: ${\n",
              "            file.lastModifiedDate ? file.lastModifiedDate.toLocaleDateString() :\n",
              "                                    'n/a'} - `));\n",
              "    const percent = span('0% done');\n",
              "    li.appendChild(percent);\n",
              "\n",
              "    outputElement.appendChild(li);\n",
              "\n",
              "    const fileDataPromise = new Promise((resolve) => {\n",
              "      const reader = new FileReader();\n",
              "      reader.onload = (e) => {\n",
              "        resolve(e.target.result);\n",
              "      };\n",
              "      reader.readAsArrayBuffer(file);\n",
              "    });\n",
              "    // Wait for the data to be ready.\n",
              "    let fileData = yield {\n",
              "      promise: fileDataPromise,\n",
              "      response: {\n",
              "        action: 'continue',\n",
              "      }\n",
              "    };\n",
              "\n",
              "    // Use a chunked sending to avoid message size limits. See b/62115660.\n",
              "    let position = 0;\n",
              "    do {\n",
              "      const length = Math.min(fileData.byteLength - position, MAX_PAYLOAD_SIZE);\n",
              "      const chunk = new Uint8Array(fileData, position, length);\n",
              "      position += length;\n",
              "\n",
              "      const base64 = btoa(String.fromCharCode.apply(null, chunk));\n",
              "      yield {\n",
              "        response: {\n",
              "          action: 'append',\n",
              "          file: file.name,\n",
              "          data: base64,\n",
              "        },\n",
              "      };\n",
              "\n",
              "      let percentDone = fileData.byteLength === 0 ?\n",
              "          100 :\n",
              "          Math.round((position / fileData.byteLength) * 100);\n",
              "      percent.textContent = `${percentDone}% done`;\n",
              "\n",
              "    } while (position < fileData.byteLength);\n",
              "  }\n",
              "\n",
              "  // All done.\n",
              "  yield {\n",
              "    response: {\n",
              "      action: 'complete',\n",
              "    }\n",
              "  };\n",
              "}\n",
              "\n",
              "scope.google = scope.google || {};\n",
              "scope.google.colab = scope.google.colab || {};\n",
              "scope.google.colab._files = {\n",
              "  _uploadFiles,\n",
              "  _uploadFilesContinue,\n",
              "};\n",
              "})(self);\n",
              "</script> "
            ]
          },
          "metadata": {}
        },
        {
          "output_type": "stream",
          "name": "stdout",
          "text": [
            "Saving nba_salary.sqlite to nba_salary (1).sqlite\n"
          ]
        }
      ]
    },
    {
      "cell_type": "code",
      "source": [
        "#Conecto con la base de dato: conn\n",
        "import sqlite3\n",
        "db_file_name = \"nba_salary (1).sqlite\"  # Cambia el nombre si el archivo tiene otro nombre\n",
        "conn = sqlite3.connect(db_file_name)"
      ],
      "metadata": {
        "id": "jG3h0GFA8p0Y"
      },
      "execution_count": null,
      "outputs": []
    },
    {
      "cell_type": "code",
      "source": [
        "# Visualizar las tablas\n",
        "cursor = conn.cursor()\n",
        "cursor.execute(\"SELECT name FROM sqlite_master WHERE type='table';\")\n",
        "print(cursor. fetchall())"
      ],
      "metadata": {
        "colab": {
          "base_uri": "https://localhost:8080/"
        },
        "id": "RliiknJk8XSy",
        "outputId": "f736fd0d-525f-4475-a7c2-3db7464db2db"
      },
      "execution_count": null,
      "outputs": [
        {
          "output_type": "stream",
          "name": "stdout",
          "text": [
            "[('NBA_season1718_salary',), ('Seasons_Stats',)]\n"
          ]
        }
      ]
    },
    {
      "cell_type": "code",
      "source": [
        "#Cargo tabla por tabla\n",
        "df_salary = pd.read_sql_query(\"SELECT * from NBA_season1718_salary\", conn)\n",
        "df_salary.head()"
      ],
      "metadata": {
        "colab": {
          "base_uri": "https://localhost:8080/",
          "height": 206
        },
        "id": "YHBZxxx79RSr",
        "outputId": "89892168-ce1b-475d-d3cd-5f23775c6ddc"
      },
      "execution_count": null,
      "outputs": [
        {
          "output_type": "execute_result",
          "data": {
            "text/plain": [
              "    X1          Player   Tm  season17_18\n",
              "0  1.0   Stephen Curry  GSW   34682550.0\n",
              "1  2.0    LeBron James  CLE   33285709.0\n",
              "2  3.0    Paul Millsap  DEN   31269231.0\n",
              "3  4.0  Gordon Hayward  BOS   29727900.0\n",
              "4  5.0   Blake Griffin  DET   29512900.0"
            ],
            "text/html": [
              "\n",
              "  <div id=\"df-1d937670-d010-4ffa-8ae7-d5da541eea1b\">\n",
              "    <div class=\"colab-df-container\">\n",
              "      <div>\n",
              "<style scoped>\n",
              "    .dataframe tbody tr th:only-of-type {\n",
              "        vertical-align: middle;\n",
              "    }\n",
              "\n",
              "    .dataframe tbody tr th {\n",
              "        vertical-align: top;\n",
              "    }\n",
              "\n",
              "    .dataframe thead th {\n",
              "        text-align: right;\n",
              "    }\n",
              "</style>\n",
              "<table border=\"1\" class=\"dataframe\">\n",
              "  <thead>\n",
              "    <tr style=\"text-align: right;\">\n",
              "      <th></th>\n",
              "      <th>X1</th>\n",
              "      <th>Player</th>\n",
              "      <th>Tm</th>\n",
              "      <th>season17_18</th>\n",
              "    </tr>\n",
              "  </thead>\n",
              "  <tbody>\n",
              "    <tr>\n",
              "      <th>0</th>\n",
              "      <td>1.0</td>\n",
              "      <td>Stephen Curry</td>\n",
              "      <td>GSW</td>\n",
              "      <td>34682550.0</td>\n",
              "    </tr>\n",
              "    <tr>\n",
              "      <th>1</th>\n",
              "      <td>2.0</td>\n",
              "      <td>LeBron James</td>\n",
              "      <td>CLE</td>\n",
              "      <td>33285709.0</td>\n",
              "    </tr>\n",
              "    <tr>\n",
              "      <th>2</th>\n",
              "      <td>3.0</td>\n",
              "      <td>Paul Millsap</td>\n",
              "      <td>DEN</td>\n",
              "      <td>31269231.0</td>\n",
              "    </tr>\n",
              "    <tr>\n",
              "      <th>3</th>\n",
              "      <td>4.0</td>\n",
              "      <td>Gordon Hayward</td>\n",
              "      <td>BOS</td>\n",
              "      <td>29727900.0</td>\n",
              "    </tr>\n",
              "    <tr>\n",
              "      <th>4</th>\n",
              "      <td>5.0</td>\n",
              "      <td>Blake Griffin</td>\n",
              "      <td>DET</td>\n",
              "      <td>29512900.0</td>\n",
              "    </tr>\n",
              "  </tbody>\n",
              "</table>\n",
              "</div>\n",
              "      <button class=\"colab-df-convert\" onclick=\"convertToInteractive('df-1d937670-d010-4ffa-8ae7-d5da541eea1b')\"\n",
              "              title=\"Convert this dataframe to an interactive table.\"\n",
              "              style=\"display:none;\">\n",
              "        \n",
              "  <svg xmlns=\"http://www.w3.org/2000/svg\" height=\"24px\"viewBox=\"0 0 24 24\"\n",
              "       width=\"24px\">\n",
              "    <path d=\"M0 0h24v24H0V0z\" fill=\"none\"/>\n",
              "    <path d=\"M18.56 5.44l.94 2.06.94-2.06 2.06-.94-2.06-.94-.94-2.06-.94 2.06-2.06.94zm-11 1L8.5 8.5l.94-2.06 2.06-.94-2.06-.94L8.5 2.5l-.94 2.06-2.06.94zm10 10l.94 2.06.94-2.06 2.06-.94-2.06-.94-.94-2.06-.94 2.06-2.06.94z\"/><path d=\"M17.41 7.96l-1.37-1.37c-.4-.4-.92-.59-1.43-.59-.52 0-1.04.2-1.43.59L10.3 9.45l-7.72 7.72c-.78.78-.78 2.05 0 2.83L4 21.41c.39.39.9.59 1.41.59.51 0 1.02-.2 1.41-.59l7.78-7.78 2.81-2.81c.8-.78.8-2.07 0-2.86zM5.41 20L4 18.59l7.72-7.72 1.47 1.35L5.41 20z\"/>\n",
              "  </svg>\n",
              "      </button>\n",
              "      \n",
              "  <style>\n",
              "    .colab-df-container {\n",
              "      display:flex;\n",
              "      flex-wrap:wrap;\n",
              "      gap: 12px;\n",
              "    }\n",
              "\n",
              "    .colab-df-convert {\n",
              "      background-color: #E8F0FE;\n",
              "      border: none;\n",
              "      border-radius: 50%;\n",
              "      cursor: pointer;\n",
              "      display: none;\n",
              "      fill: #1967D2;\n",
              "      height: 32px;\n",
              "      padding: 0 0 0 0;\n",
              "      width: 32px;\n",
              "    }\n",
              "\n",
              "    .colab-df-convert:hover {\n",
              "      background-color: #E2EBFA;\n",
              "      box-shadow: 0px 1px 2px rgba(60, 64, 67, 0.3), 0px 1px 3px 1px rgba(60, 64, 67, 0.15);\n",
              "      fill: #174EA6;\n",
              "    }\n",
              "\n",
              "    [theme=dark] .colab-df-convert {\n",
              "      background-color: #3B4455;\n",
              "      fill: #D2E3FC;\n",
              "    }\n",
              "\n",
              "    [theme=dark] .colab-df-convert:hover {\n",
              "      background-color: #434B5C;\n",
              "      box-shadow: 0px 1px 3px 1px rgba(0, 0, 0, 0.15);\n",
              "      filter: drop-shadow(0px 1px 2px rgba(0, 0, 0, 0.3));\n",
              "      fill: #FFFFFF;\n",
              "    }\n",
              "  </style>\n",
              "\n",
              "      <script>\n",
              "        const buttonEl =\n",
              "          document.querySelector('#df-1d937670-d010-4ffa-8ae7-d5da541eea1b button.colab-df-convert');\n",
              "        buttonEl.style.display =\n",
              "          google.colab.kernel.accessAllowed ? 'block' : 'none';\n",
              "\n",
              "        async function convertToInteractive(key) {\n",
              "          const element = document.querySelector('#df-1d937670-d010-4ffa-8ae7-d5da541eea1b');\n",
              "          const dataTable =\n",
              "            await google.colab.kernel.invokeFunction('convertToInteractive',\n",
              "                                                     [key], {});\n",
              "          if (!dataTable) return;\n",
              "\n",
              "          const docLinkHtml = 'Like what you see? Visit the ' +\n",
              "            '<a target=\"_blank\" href=https://colab.research.google.com/notebooks/data_table.ipynb>data table notebook</a>'\n",
              "            + ' to learn more about interactive tables.';\n",
              "          element.innerHTML = '';\n",
              "          dataTable['output_type'] = 'display_data';\n",
              "          await google.colab.output.renderOutput(dataTable, element);\n",
              "          const docLink = document.createElement('div');\n",
              "          docLink.innerHTML = docLinkHtml;\n",
              "          element.appendChild(docLink);\n",
              "        }\n",
              "      </script>\n",
              "    </div>\n",
              "  </div>\n",
              "  "
            ]
          },
          "metadata": {},
          "execution_count": 27
        }
      ]
    },
    {
      "cell_type": "code",
      "source": [
        "cursor.execute(\n",
        "    \"\"\"\n",
        "    SELECT * from NBA_season1718_salary\n",
        "    \"\"\"\n",
        ").fetchall()"
      ],
      "metadata": {
        "colab": {
          "base_uri": "https://localhost:8080/"
        },
        "id": "dDzscU0q94di",
        "outputId": "a4812b0d-be2c-457d-dbbc-d4c645047505"
      },
      "execution_count": null,
      "outputs": [
        {
          "output_type": "execute_result",
          "data": {
            "text/plain": [
              "[(1.0, 'Stephen Curry', 'GSW', 34682550.0),\n",
              " (2.0, 'LeBron James', 'CLE', 33285709.0),\n",
              " (3.0, 'Paul Millsap', 'DEN', 31269231.0),\n",
              " (4.0, 'Gordon Hayward', 'BOS', 29727900.0),\n",
              " (5.0, 'Blake Griffin', 'DET', 29512900.0),\n",
              " (6.0, 'Kyle Lowry', 'TOR', 28703704.0),\n",
              " (7.0, 'Russell Westbrook', 'OKC', 28530608.0),\n",
              " (8.0, 'Mike Conley', 'MEM', 28530608.0),\n",
              " (9.0, 'James Harden', 'HOU', 28299399.0),\n",
              " (10.0, 'DeMar DeRozan', 'TOR', 27739975.0),\n",
              " (11.0, 'Al Horford', 'BOS', 27734405.0),\n",
              " (12.0, 'Carmelo Anthony', 'OKC', 26243760.0),\n",
              " (13.0, 'Damian Lillard', 'POR', 26153057.0),\n",
              " (14.0, 'Jrue Holiday', 'NOP', 25686667.0),\n",
              " (15.0, 'Chris Bosh', 'MIA', 25289390.0),\n",
              " (16.0, 'Kevin Durant', 'GSW', 25000000.0),\n",
              " (17.0, 'Otto Porter', 'WAS', 24773250.0),\n",
              " (18.0, 'Chris Paul', 'HOU', 24599495.0),\n",
              " (19.0, 'C.J. McCollum', 'POR', 23962573.0),\n",
              " (20.0, 'Bradley Beal', 'WAS', 23775506.0),\n",
              " (21.0, 'Anthony Davis', 'NOP', 23775506.0),\n",
              " (22.0, 'Andre Drummond', 'DET', 23775506.0),\n",
              " (23.0, 'Hassan Whiteside', 'MIA', 23775506.0),\n",
              " (24.0, 'Dwight Howard', 'CHO', 23500000.0),\n",
              " (25.0, 'Chandler Parsons', 'MEM', 23112004.0),\n",
              " (26.0, 'Harrison Barnes', 'DAL', 23112004.0),\n",
              " (27.0, 'J.J. Redick', 'PHI', 23000000.0),\n",
              " (28.0, 'Marc Gasol', 'MEM', 22642350.0),\n",
              " (29.0, 'Kevin Love', 'CLE', 22642350.0),\n",
              " (30.0, 'Brook Lopez', 'LAL', 22642350.0),\n",
              " (31.0, 'DeAndre Jordan', 'LAC', 22642350.0),\n",
              " (32.0, 'Steven Adams', 'OKC', 22471910.0),\n",
              " (33.0, 'Giannis Antetokounmpo', 'MIL', 22471910.0),\n",
              " (34.0, 'Nicolas Batum', 'CHO', 22434783.0),\n",
              " (35.0, 'Rudy Gobert', 'UTA', 21974719.0),\n",
              " (36.0, 'LaMarcus Aldridge', 'SAS', 21461010.0),\n",
              " (37.0, 'Victor Oladipo', 'IND', 21000000.0),\n",
              " (38.0, 'Enes Kanter', 'NYK', 20566802.0),\n",
              " (39.0, 'Danilo Gallinari', 'LAC', 20559599.0),\n",
              " (40.0, 'Serge Ibaka', 'TOR', 20061729.0),\n",
              " (41.0, 'George Hill', 'CLE', 20000000.0),\n",
              " (42.0, 'Ryan Anderson', 'HOU', 19578455.0),\n",
              " (43.0, 'Paul George', 'OKC', 19508958.0),\n",
              " (44.0, 'Allen Crabbe', 'BRK', 19332500.0),\n",
              " (45.0, 'Jimmy Butler', 'MIN', 19301070.0),\n",
              " (46.0, 'Jeff Teague', 'MIN', 19000000.0),\n",
              " (47.0, 'Kawhi Leonard', 'SAS', 18868625.0),\n",
              " (48.0, 'Kyrie Irving', 'BOS', 18868625.0),\n",
              " (49.0, 'John Wall', 'WAS', 18063850.0),\n",
              " (50.0, 'DeMarcus Cousins', 'NOP', 18063850.0),\n",
              " (51.0, 'Greg Monroe', 'PHO', 17884176.0),\n",
              " (52.0, 'Wesley Matthews', 'DAL', 17884176.0),\n",
              " (53.0, 'Klay Thompson', 'GSW', 17826150.0),\n",
              " (54.0, 'Joakim Noah', 'NYK', 17765000.0),\n",
              " (55.0, 'Kentavious Caldwell-Pope', 'LAL', 17745894.0),\n",
              " (56.0, 'Luol Deng', 'LAL', 17190000.0),\n",
              " (57.0, 'Evan Turner', 'POR', 17131148.0),\n",
              " (58.0, 'Goran Dragic', 'MIA', 17000450.0),\n",
              " (59.0, 'Evan Fournier', 'ORL', 17000000.0),\n",
              " (60.0, 'Bismack Biyombo', 'ORL', 17000000.0),\n",
              " (61.0, 'Kent Bazemore', 'ATL', 16910113.0),\n",
              " (62.0, 'Robert Covington', 'PHI', 16698103.0),\n",
              " (63.0, 'Ian Mahinmi', 'WAS', 16661641.0),\n",
              " (64.0, 'Tim Hardaway', 'NYK', 16500000.0),\n",
              " (65.0, 'Draymond Green', 'GSW', 16400000.0),\n",
              " (66.0, 'Tristan Thompson', 'CLE', 16400000.0),\n",
              " (67.0, 'Reggie Jackson', 'DET', 16000000.0),\n",
              " (68.0, 'Pau Gasol', 'SAS', 16000000.0),\n",
              " (69.0, 'Tobias Harris', 'LAC', 16000000.0),\n",
              " (70.0, 'Dwyane Wade', 'CHI', 15550000.0),\n",
              " (71.0, 'Dennis Schroder', 'ATL', 15500000.0),\n",
              " (72.0, 'Jonas Valanciunas', 'TOR', 15460675.0),\n",
              " (73.0, 'Tony Parker', 'SAS', 15453126.0),\n",
              " (74.0, 'Timofey Mozgov', 'BRK', 15280000.0),\n",
              " (75.0, 'Andre Iguodala', 'GSW', 14814815.0),\n",
              " (76.0, 'DeMarre Carroll', 'BRK', 14800000.0),\n",
              " (77.0, 'Thaddeus Young', 'IND', 14796348.0),\n",
              " (78.0, 'Eric Bledsoe', 'MIL', 14500000.0),\n",
              " (79.0, 'Ricky Rubio', 'UTA', 14275000.0),\n",
              " (80.0, 'Joe Ingles', 'UTA', 14136364.0),\n",
              " (81.0, 'Gorgui Dieng', 'MIN', 14112360.0),\n",
              " (82.0, 'Khris Middleton', 'MIL', 14100000.0),\n",
              " (83.0, 'Mason Plumlee', 'DEN', 14041096.0),\n",
              " (84.0, 'Taj Gibson', 'MIN', 14000000.0),\n",
              " (85.0, 'James Johnson', 'MIA', 13954000.0),\n",
              " (86.0, 'Robin Lopez', 'CHI', 13788500.0),\n",
              " (87.0, 'J.R. Smith', 'CLE', 13760000.0),\n",
              " (88.0, 'Brandon Knight', 'PHO', 13618750.0),\n",
              " (89.0, 'Marvin Williams', 'CHO', 13168750.0),\n",
              " (90.0, 'Tyson Chandler', 'PHO', 13000000.0),\n",
              " (91.0, 'Michael Kidd-Gilchrist', 'CHO', 13000000.0),\n",
              " (92.0, 'Eric Gordon', 'HOU', 12943020.0),\n",
              " (93.0, 'Kenneth Faried', 'DEN', 12921348.0),\n",
              " (94.0, 'Marcin Gortat', 'WAS', 12782609.0),\n",
              " (95.0, 'Cody Zeller', 'CHO', 12584270.0),\n",
              " (96.0, 'Miles Plumlee', 'ATL', 12500000.0),\n",
              " (97.0, 'Nikola Mirotic', 'NOP', 12500000.0),\n",
              " (98.0, 'Zach Randolph', 'SAC', 12307692.0),\n",
              " (99.0, 'Nikola Vucevic', 'ORL', 12250000.0),\n",
              " (100.0, 'Solomon Hill', 'NOP', 12236535.0),\n",
              " (101.0, 'Wilson Chandler', 'DEN', 12016854.0),\n",
              " (102.0, 'Jeremy Lin', 'BRK', 12000000.0),\n",
              " (103.0, 'Kemba Walker', 'CHO', 12000000.0),\n",
              " (104.0, 'Derrick Favors', 'UTA', 12000000.0),\n",
              " (105.0, 'Austin Rivers', 'LAC', 11825000.0),\n",
              " (106.0, 'Courtney Lee', 'NYK', 11747890.0),\n",
              " (107.0, 'Nikola Pekovic', 'MIN', 11600000.0),\n",
              " (108.0, 'Jordan Clarkson', 'CLE', 11562500.0),\n",
              " (109.0, 'John Henson', 'MIL', 11422536.0),\n",
              " (110.0, 'Dion Waiters', 'MIA', 11000000.0),\n",
              " (111.0, 'Amir Johnson', 'PHI', 11000000.0),\n",
              " (112.0, 'Jamal Crawford', 'ATL', 10942762.0),\n",
              " (113.0, 'Alec Burks', 'UTA', 10845506.0),\n",
              " (114.0, 'Patty Mills', 'SAS', 10714286.0),\n",
              " (115.0, 'Kelly Olynyk', 'MIA', 10607169.0),\n",
              " (116.0, 'Omer Asik', 'CHI', 10595505.0),\n",
              " (117.0, 'Terrence Ross', 'ORL', 10500000.0),\n",
              " (118.0, 'Mirza Teletovic', 'MIL', 10500000.0),\n",
              " (119.0, 'Bojan Bogdanovic', 'IND', 10500000.0),\n",
              " (120.0, 'Jon Leuer', 'DET', 10497319.0),\n",
              " (121.0, 'Iman Shumpert', 'SAC', 10337079.0),\n",
              " (122.0, 'Maurice Harkless', 'POR', 10162922.0),\n",
              " (123.0, 'Jared Dudley', 'PHO', 10000000.0),\n",
              " (124.0, 'Darren Collison', 'IND', 10000000.0),\n",
              " (125.0, 'Danny Green', 'SAS', 10000000.0),\n",
              " (126.0, 'Meyers Leonard', 'POR', 9904495.0),\n",
              " (127.0, 'Tony Snell', 'MIL', 9821429.0),\n",
              " (128.0, 'Al Jefferson', 'IND', 9769821.0),\n",
              " (129.0, 'Matthew Dellavedova', 'MIL', 9607500.0),\n",
              " (130.0, 'Joe Johnson', 'SAC', 9505000.0),\n",
              " (131.0, 'Bogdan Bogdanovic', 'SAC', 9470614.0),\n",
              " (132.0, 'Andre Roberson', 'OKC', 9259259.0),\n",
              " (133.0, 'Trevor Booker', 'PHI', 9125000.0),\n",
              " (134.0, 'Dwight Powell', 'DAL', 9003125.0),\n",
              " (135.0, 'Jerryd Bayless', 'PHI', 9000000.0),\n",
              " (136.0, 'Avery Bradley', 'LAC', 8808989.0),\n",
              " (137.0, 'JaMychal Green', 'MEM', 8533333.0),\n",
              " (138.0, \"E'Twaun Moore\", 'NOP', 8445024.0),\n",
              " (139.0, 'Rudy Gay', 'SAS', 8406000.0),\n",
              " (140.0, 'Kosta Koufos', 'SAC', 8393000.0),\n",
              " (141.0, 'Markieff Morris', 'WAS', 8000000.0),\n",
              " (142.0, 'Garrett Temple', 'SAC', 8000000.0),\n",
              " (143.0, 'Vince Carter', 'SAC', 8000000.0),\n",
              " (144.0, 'C.J. Miles', 'TOR', 7936509.0),\n",
              " (145.0, 'Cristiano Felicio', 'CHI', 7843500.0),\n",
              " (146.0, 'Shaun Livingston', 'GSW', 7692308.0),\n",
              " (147.0, 'Cory Joseph', 'IND', 7630000.0),\n",
              " (148.0, 'P.J. Tucker', 'HOU', 7590035.0),\n",
              " (149.0, 'Corey Brewer', 'LAL', 7579366.0),\n",
              " (150.0, 'Andrew Wiggins', 'MIN', 7574322.0),\n",
              " (151.0, 'Darrell Arthur', 'DEN', 7464912.0),\n",
              " (152.0, 'Channing Frye', 'LAL', 7420912.0),\n",
              " (153.0, 'Trevor Ariza', 'HOU', 7420912.0),\n",
              " (154.0, 'Al-Farouq Aminu', 'POR', 7319035.0),\n",
              " (155.0, 'Cole Aldrich', 'MIN', 7300000.0),\n",
              " (156.0, 'D.J. Augustin', 'ORL', 7250000.0),\n",
              " (157.0, 'Markelle Fultz', 'PHI', 7026240.0),\n",
              " (158.0, 'Lou Williams', 'LAC', 7000000.0),\n",
              " (159.0, 'Kyle Korver', 'CLE', 7000000.0),\n",
              " (160.0, 'Jeremy Lamb', 'CHO', 7000000.0),\n",
              " (161.0, 'Boban Marjanovic', 'LAC', 7000000.0),\n",
              " (162.0, 'Jae Crowder', 'UTA', 6796117.0),\n",
              " (163.0, 'Jabari Parker', 'MIL', 6782392.0),\n",
              " (164.0, 'Langston Galloway', 'DET', 6666667.0),\n",
              " (165.0, 'Lance Thomas', 'NYK', 6655325.0),\n",
              " (166.0, 'Ed Davis', 'POR', 6352531.0),\n",
              " (167.0, 'Marco Belinelli', 'ATL', 6306060.0),\n",
              " (168.0, 'Jonathon Simmons', 'ORL', 6300000.0),\n",
              " (169.0, 'Lonzo Ball', 'LAL', 6286560.0),\n",
              " (170.0, 'Wayne Ellington', 'MIA', 6270000.0),\n",
              " (171.0, 'Isaiah Thomas', 'LAL', 6261395.0),\n",
              " (172.0, 'Karl-Anthony Towns', 'MIN', 6216840.0),\n",
              " (173.0, 'Ben Simmons', 'PHI', 6168840.0),\n",
              " (174.0, 'Joel Embiid', 'PHI', 6100266.0),\n",
              " (175.0, 'Spencer Hawes', 'MIL', 6021175.0),\n",
              " (176.0, 'Josh McRoberts', 'DAL', 6021175.0),\n",
              " (177.0, 'Ish Smith', 'DET', 6000000.0),\n",
              " (178.0, 'Alan Williams', 'PHO', 6000000.0),\n",
              " (179.0, 'Shelvin Mack', 'ORL', 6000000.0),\n",
              " (180.0, 'Milos Teodosic', 'LAC', 6000000.0),\n",
              " (181.0, 'Ersan Ilyasova', 'ATL', 6000000.0),\n",
              " (182.0, 'Dewayne Dedmon', 'ATL', 6000000.0),\n",
              " (183.0, 'Tyler Johnson', 'MIA', 5881260.0),\n",
              " (184.0, 'Wesley Johnson', 'LAC', 5881260.0),\n",
              " (185.0, 'Alex Abrines', 'OKC', 5725000.0),\n",
              " (186.0, 'Jayson Tatum', 'BOS', 5645400.0),\n",
              " (187.0, \"D'Angelo Russell\", 'BRK', 5562360.0),\n",
              " (188.0, 'Brandon Ingram', 'LAL', 5519400.0),\n",
              " (189.0, 'Patrick Beverley', 'LAC', 5513514.0),\n",
              " (190.0, 'Aaron Gordon', 'ORL', 5504420.0),\n",
              " (191.0, 'Deron Williams', 'BRK', 5500000.0),\n",
              " (192.0, 'Josh Smith', 'DET', 5400000.0),\n",
              " (193.0, 'Thabo Sefolosha', 'UTA', 5250000.0),\n",
              " (194.0, 'Jason Smith', 'WAS', 5225000.0),\n",
              " (195.0, 'Ben McLemore', 'MEM', 5200000.0),\n",
              " (196.0, 'Patrick Patterson', 'OKC', 5192000.0),\n",
              " (197.0, 'Nick Young', 'GSW', 5192000.0),\n",
              " (198.0, 'Brandan Wright', 'MEM', 5179760.0),\n",
              " (199.0, 'Josh Jackson', 'PHO', 5090040.0),\n",
              " (200.0, 'Marcus Morris', 'BOS', 5000000.0),\n",
              " (201.0, 'Dirk Nowitzki', 'DAL', 5000000.0),\n",
              " (202.0, 'Greg Monroe', 'BOS', 5000000.0),\n",
              " (203.0, 'Mike Muscala', 'ATL', 5000000.0),\n",
              " (204.0, 'Jahlil Okafor', 'BRK', 4995120.0),\n",
              " (205.0, 'Dante Exum', 'UTA', 4992385.0),\n",
              " (206.0, 'Alexis Ajinca', 'NOP', 4961798.0),\n",
              " (207.0, 'Jaylen Brown', 'BOS', 4956480.0),\n",
              " (208.0, 'Jameer Nelson', 'DEN', 4736050.0),\n",
              " (209.0, 'Kyle Singler', 'OKC', 4666500.0),\n",
              " (210.0, 'Justin Holiday', 'CHI', 4615385.0),\n",
              " (211.0, \"De'Aaron Fox\", 'SAC', 4609200.0),\n",
              " (212.0, 'Marcus Smart', 'BOS', 4538020.0),\n",
              " (213.0, 'Kristaps Porzingis', 'NYK', 4503600.0),\n",
              " (214.0, 'Dragan Bender', 'PHO', 4468800.0),\n",
              " (215.0, 'Devin Harris', 'DEN', 4402546.0),\n",
              " (216.0, 'Ron Baker', 'NYK', 4328000.0),\n",
              " (217.0, 'Jamal Crawford', 'MIN', 4328000.0),\n",
              " (218.0, 'Aron Baynes', 'BOS', 4328000.0),\n",
              " (219.0, 'Alex Len', 'PHO', 4187599.0),\n",
              " (220.0, 'Nerlens Noel', 'DAL', 4187599.0),\n",
              " (221.0, 'Jonathan Isaac', 'ORL', 4186320.0),\n",
              " (222.0, 'Lance Stephenson', 'IND', 4180000.0),\n",
              " (223.0, 'Julius Randle', 'LAL', 4149242.0),\n",
              " (224.0, \"Kyle O'Quinn\", 'NYK', 4087500.0),\n",
              " (225.0, 'Mario Hezonja', 'ORL', 4078320.0),\n",
              " (226.0, 'Kris Dunn', 'CHI', 4046760.0),\n",
              " (227.0, 'Jonas Jerebko', 'UTA', 4000000.0),\n",
              " (228.0, 'Nemanja Bjelica', 'MIN', 3949999.0),\n",
              " (229.0, 'J.J. Barea', 'DAL', 3903900.0),\n",
              " (230.0, 'Quincy Pondexter', 'CHI', 3853931.0),\n",
              " (231.0, 'Lauri Markkanen', 'CHI', 3821640.0),\n",
              " (232.0, 'Nik Stauskas', 'BRK', 3807146.0),\n",
              " (233.0, 'Willie Cauley-Stein', 'SAC', 3704160.0),\n",
              " (234.0, 'Buddy Hield', 'SAC', 3675480.0),\n",
              " (235.0, 'Will Barton', 'DEN', 3533333.0),\n",
              " (236.0, 'Noah Vonleh', 'CHI', 3505233.0),\n",
              " (237.0, 'Frank Ntilikina', 'NYK', 3501120.0),\n",
              " (238.0, 'Nene Hilario', 'HOU', 3477600.0),\n",
              " (239.0, 'Zaza Pachulia', 'GSW', 3477600.0),\n",
              " (240.0, 'Troy Daniels', 'PHO', 3408520.0),\n",
              " (241.0, 'Emmanuel Mudiay', 'NYK', 3381480.0),\n",
              " (242.0, 'Jamal Murray', 'DEN', 3355320.0),\n",
              " (243.0, 'Elfrid Payton', 'PHO', 3332340.0),\n",
              " (244.0, 'Rajon Rondo', 'NOP', 3300000.0),\n",
              " (245.0, 'Doug McDermott', 'DAL', 3294994.0),\n",
              " (246.0, 'Jodie Meeks', 'WAS', 3290000.0),\n",
              " (247.0, 'Tyreke Evans', 'MEM', 3290000.0),\n",
              " (248.0, 'Tarik Black', 'HOU', 3290000.0),\n",
              " (249.0, 'Anthony Tolliver', 'DET', 3290000.0),\n",
              " (250.0, 'Dennis Smith', 'DAL', 3218280.0),\n",
              " (251.0, 'Zach LaVine', 'CHI', 3202217.0),\n",
              " (252.0, 'Ekpe Udoh', 'UTA', 3200000.0),\n",
              " (253.0, 'T.J. Warren', 'PHO', 3152931.0),\n",
              " (254.0, 'Stanley Johnson', 'DET', 3097800.0),\n",
              " (255.0, 'Marquese Chriss', 'PHO', 3073800.0),\n",
              " (256.0, 'Zach Collins', 'POR', 3057240.0),\n",
              " (257.0, 'James Ennis', 'DET', 3028410.0),\n",
              " (258.0, 'Seth Curry', 'DAL', 3028410.0),\n",
              " (259.0, 'Mindaugas Kuzminskas', 'NYK', 3025035.0),\n",
              " (260.0, 'Tomas Satoransky', 'WAS', 3000000.0),\n",
              " (261.0, 'Rajon Rondo', 'CHI', 3000000.0),\n",
              " (262.0, 'Lucas Nogueira', 'TOR', 2947305.0),\n",
              " (263.0, 'Jusuf Nurkic', 'POR', 2947305.0),\n",
              " (264.0, 'Malik Monk', 'CHO', 2904480.0),\n",
              " (265.0, 'Frank Kaminsky', 'CHO', 2847600.0),\n",
              " (266.0, 'Andrew Nicholson', 'POR', 2844429.0),\n",
              " (267.0, 'Jakob Poeltl', 'TOR', 2825640.0),\n",
              " (268.0, 'Luke Kennard', 'DET', 2759280.0),\n",
              " (269.0, 'Justise Winslow', 'MIA', 2705040.0),\n",
              " (270.0, 'Michael Carter-Williams', 'CHO', 2700000.0),\n",
              " (271.0, 'Thon Maker', 'MIL', 2684160.0),\n",
              " (272.0, 'Cedi Osman', 'CLE', 2642857.0),\n",
              " (273.0, 'Donovan Mitchell', 'UTA', 2621280.0),\n",
              " (274.0, 'Myles Turner', 'IND', 2569920.0),\n",
              " (275.0, 'Gary Harris', 'DEN', 2550055.0),\n",
              " (276.0, 'Domantas Sabonis', 'IND', 2550000.0),\n",
              " (277.0, 'Manu Ginobili', 'SAS', 2500000.0),\n",
              " (278.0, 'Reggie Bullock', 'DET', 2500000.0),\n",
              " (279.0, 'Richard Jefferson', 'ATL', 2500000.0),\n",
              " (280.0, 'Malcolm Delaney', 'ATL', 2500000.0),\n",
              " (281.0, 'Bam Adebayo', 'MIA', 2490360.0),\n",
              " (282.0, 'Bruno Caboclo', 'SAC', 2451225.0),\n",
              " (283.0, 'Ronnie Price', 'OKC', 2442455.0),\n",
              " (284.0, 'Trey Lyles', 'DEN', 2441400.0),\n",
              " (285.0, 'Dario Saric', 'PHI', 2422560.0),\n",
              " (286.0, 'Taurean Waller-Prince', 'ATL', 2422560.0),\n",
              " (287.0, 'Rodney Hood', 'CLE', 2386864.0),\n",
              " (288.0, 'Justin Jackson', 'SAC', 2365560.0),\n",
              " (289.0, 'Shabazz Napier', 'POR', 2361360.0),\n",
              " (290.0, 'Clint Capela', 'HOU', 2334520.0),\n",
              " (291.0, 'Arron Afflalo', 'ORL', 2328652.0),\n",
              " (292.0, 'Raymond Felton', 'OKC', 2328652.0),\n",
              " (293.0, 'Nick Collison', 'OKC', 2328652.0),\n",
              " (294.0, 'Ramon Sessions', 'NYK', 2328652.0),\n",
              " (295.0, 'Jarrett Jack', 'NYK', 2328652.0),\n",
              " (296.0, 'Jason Terry', 'MIL', 2328652.0),\n",
              " (297.0, 'Udonis Haslem', 'MIA', 2328652.0),\n",
              " (298.0, 'Dwyane Wade', 'MIA', 2328652.0),\n",
              " (299.0, 'David West', 'GSW', 2328652.0),\n",
              " (300.0, 'Richard Jefferson', 'DEN', 2328652.0),\n",
              " (301.0, 'Jose Calderon', 'CLE', 2328652.0),\n",
              " (302.0, 'Andrew Bogut', 'LAL', 2328652.0),\n",
              " (303.0, 'Devin Booker', 'PHO', 2319360.0),\n",
              " (304.0, 'Georgios Papagiannis', 'SAC', 2301360.0),\n",
              " (305.0, 'Dante Cunningham', 'BRK', 2300000.0),\n",
              " (306.0, 'Jameer Nelson', 'DET', 2262871.0),\n",
              " (307.0, 'Justin Patton', 'MIN', 2247480.0),\n",
              " (308.0, 'Guerschon Yabusele', 'BOS', 2247480.0),\n",
              " (309.0, 'Monta Ellis', 'IND', 2245400.0),\n",
              " (310.0, 'Cameron Payne', 'CHI', 2203440.0),\n",
              " (311.0, 'Denzel Valentine', 'CHI', 2186400.0),\n",
              " (312.0, 'Josh Smith', 'NOP', 2183934.0),\n",
              " (313.0, 'Kyle Anderson', 'SAS', 2151704.0),\n",
              " (314.0, 'D.J. Wilson', 'MIL', 2135040.0),\n",
              " (315.0, 'Matt Barnes', 'SAC', 2133542.0),\n",
              " (316.0, 'Derrick Rose', 'UTA', 2116955.0),\n",
              " (317.0, 'Marreese Speights', 'ORL', 2116955.0),\n",
              " (318.0, 'Michael Beasley', 'NYK', 2116955.0),\n",
              " (319.0, 'Aaron Brooks', 'MIN', 2116955.0),\n",
              " (320.0, 'Luc Mbah a Moute', 'HOU', 2116955.0),\n",
              " (321.0, 'JaVale McGee', 'GSW', 2116955.0),\n",
              " (322.0, 'Jeff Green', 'CLE', 2116955.0),\n",
              " (323.0, 'Tony Allen', 'CHI', 2116955.0),\n",
              " (324.0, 'Damien Wilkins', 'IND', 2116955.0),\n",
              " (325.0, 'Omri Casspi', 'GSW', 2106470.0),\n",
              " (326.0, 'Mario Chalmers', 'MEM', 2106407.0),\n",
              " (327.0, 'Darius Miller', 'NOP', 2100000.0),\n",
              " (328.0, 'Kelly Oubre', 'WAS', 2093040.0),\n",
              " (329.0, 'Juan Hernangomez', 'DEN', 2076840.0),\n",
              " (330.0, 'T.J. Leaf', 'IND', 2028360.0),\n",
              " (331.0, 'Tim Frazier', 'WAS', 2000000.0),\n",
              " (332.0, 'Anthony Tolliver', 'SAC', 2000000.0),\n",
              " (333.0, 'Terry Rozier', 'BOS', 1988520.0),\n",
              " (334.0, 'Luke Babbitt', 'MIA', 1974159.0),\n",
              " (335.0, 'John Collins', 'ATL', 1936920.0),\n",
              " (336.0, 'Anderson Varejao', 'POR', 1913345.0),\n",
              " (337.0, 'Rashad Vaughn', 'NOP', 1889040.0),\n",
              " (338.0, 'Tim Duncan', 'SAS', 1881250.0),\n",
              " (339.0, 'Wade Baldwin', 'MEM', 1874400.0),\n",
              " (340.0, 'Larry Sanders', 'MIL', 1865547.0),\n",
              " (341.0, 'Harry Giles', 'SAC', 1859400.0),\n",
              " (342.0, 'Sam Dekker', 'LAC', 1794600.0),\n",
              " (343.0, 'Terrance Ferguson', 'OKC', 1785000.0),\n",
              " (344.0, 'Henry Ellenson', 'DET', 1780800.0),\n",
              " (345.0, 'Eric Moreland', 'DET', 1739333.0),\n",
              " (346.0, 'Jerian Grant', 'CHI', 1713840.0),\n",
              " (347.0, 'Jarrett Allen', 'BRK', 1713720.0),\n",
              " (348.0, 'Mike Scott', 'WAS', 1709538.0),\n",
              " (349.0, 'Tyler Zeller', 'MIL', 1709538.0),\n",
              " (350.0, 'Quincy Acy', 'BRK', 1709538.0),\n",
              " (351.0, 'Malik Beasley', 'DEN', 1700640.0),\n",
              " (352.0, 'Mike Dunleavy', 'ATL', 1662500.0),\n",
              " (353.0, 'Delon Wright', 'TOR', 1645200.0),\n",
              " (354.0, 'OG Anunoby', 'TOR', 1645200.0),\n",
              " (355.0, 'Ante Zizic', 'CLE', 1645200.0),\n",
              " (356.0, 'Caris LeVert', 'BRK', 1632480.0),\n",
              " (357.0, 'Justin Anderson', 'PHI', 1579440.0),\n",
              " (358.0, 'Tyler Lydon', 'DEN', 1579440.0),\n",
              " (359.0, 'Jeff Withey', 'DAL', 1577320.0),\n",
              " (360.0, 'Ian Clark', 'NOP', 1577230.0),\n",
              " (361.0, 'Shabazz Muhammad', 'MIN', 1577230.0),\n",
              " (362.0, 'Willie Reed', 'CHI', 1577230.0),\n",
              " (363.0, 'DeAndre Liggins', 'MIL', 1577230.0),\n",
              " (364.0, \"DeAndre' Bembry\", 'ATL', 1567200.0),\n",
              " (365.0, 'Joffrey Lauvergne', 'SAS', 1524305.0),\n",
              " (366.0, 'Jerami Grant', 'OKC', 1524305.0),\n",
              " (367.0, \"Johnny O'Bryant\", 'NYK', 1524305.0),\n",
              " (368.0, 'Tyler Ennis', 'LAL', 1524305.0),\n",
              " (369.0, 'Julyan Stone', 'CHO', 1524305.0),\n",
              " (370.0, 'Sean Kilpatrick', 'BRK', 1524305.0),\n",
              " (371.0, 'Joe Harris', 'BRK', 1524305.0),\n",
              " (372.0, 'Spencer Dinwiddie', 'BRK', 1524305.0),\n",
              " (373.0, 'Shane Larkin', 'BOS', 1524305.0),\n",
              " (374.0, 'Glenn Robinson', 'IND', 1524305.0),\n",
              " (375.0, 'Bobby Brown', 'HOU', 1524305.0),\n",
              " (376.0, 'Bobby Portis', 'CHI', 1516320.0),\n",
              " (377.0, 'Malachi Richardson', 'TOR', 1504560.0),\n",
              " (378.0, 'Arron Afflalo', 'SAC', 1500000.0),\n",
              " (379.0, 'Norman Powell', 'TOR', 1471382.0),\n",
              " (380.0, 'Josh Richardson', 'MIA', 1471382.0),\n",
              " (381.0, 'Rondae Hollis-Jefferson', 'BRK', 1471382.0),\n",
              " (382.0, 'Tyus Jones', 'MIN', 1471382.0),\n",
              " (383.0, 'Jarell Martin', 'MEM', 1471382.0),\n",
              " (384.0, 'Larry Nance', 'CLE', 1471382.0),\n",
              " (385.0, 'Troy Williams', 'HOU', 1471382.0),\n",
              " (386.0, 'Chris McCullough', 'WAS', 1471382.0),\n",
              " (387.0, 'Raul Neto', 'UTA', 1471382.0),\n",
              " (388.0, 'Pat Connaughton', 'POR', 1471382.0),\n",
              " (389.0, 'Richaun Holmes', 'PHI', 1471382.0),\n",
              " (390.0, 'T.J. McConnell', 'PHI', 1471382.0),\n",
              " (391.0, 'Josh Huestis', 'OKC', 1471382.0),\n",
              " (392.0, 'Jordan Mickey', 'MIA', 1471382.0),\n",
              " (393.0, 'Montrezl Harrell', 'LAC', 1471382.0),\n",
              " (394.0, 'Joe Young', 'IND', 1471382.0),\n",
              " (395.0, 'Kevon Looney', 'GSW', 1471382.0),\n",
              " (396.0, 'Nikola Jokic', 'DEN', 1471382.0),\n",
              " (397.0, 'Salah Mejri', 'DAL', 1471382.0),\n",
              " (398.0, 'Caleb Swanigan', 'POR', 1465920.0),\n",
              " (399.0, 'Furkan Korkmaz', 'PHI', 1465920.0),\n",
              " (400.0, 'Willy Hernangomez', 'CHO', 1435750.0),\n",
              " (401.0, 'Kyle Kuzma', 'LAL', 1423560.0),\n",
              " (402.0, 'Tony Bradley', 'UTA', 1414920.0),\n",
              " (403.0, 'Derrick White', 'SAS', 1404600.0),\n",
              " (404.0, 'Josh Hart', 'LAL', 1394520.0),\n",
              " (405.0, 'Timothe Luwawu-Cabarrot', 'PHI', 1386600.0),\n",
              " (406.0, 'Kevin Martin', 'MIN', 1360305.0),\n",
              " (407.0, 'Brice Johnson', 'MEM', 1331160.0),\n",
              " (408.0, 'Pascal Siakam', 'TOR', 1312611.0),\n",
              " (409.0, 'Dejounte Murray', 'SAS', 1312611.0),\n",
              " (410.0, 'Skal Labissiere', 'SAC', 1312611.0),\n",
              " (411.0, 'A.J. Hammons', 'MIA', 1312611.0),\n",
              " (412.0, 'Deyonta Davis', 'MEM', 1312611.0),\n",
              " (413.0, 'Chinanu Onuaku', 'HOU', 1312611.0),\n",
              " (414.0, 'Damian Jones', 'GSW', 1312611.0),\n",
              " (415.0, 'Wayne Selden', 'MEM', 1312611.0),\n",
              " (416.0, 'Cheick Diallo', 'NOP', 1312611.0),\n",
              " (417.0, 'Joel Bolomboy', 'UTA', 1312611.0),\n",
              " (418.0, 'Davis Bertans', 'SAS', 1312611.0),\n",
              " (419.0, 'Bryn Forbes', 'SAS', 1312611.0),\n",
              " (420.0, 'Jake Layman', 'POR', 1312611.0),\n",
              " (421.0, 'Tyler Ulis', 'PHO', 1312611.0),\n",
              " (422.0, 'Marcus Georges-Hunt', 'MIN', 1312611.0),\n",
              " (423.0, 'Malcolm Brogdon', 'MIL', 1312611.0),\n",
              " (424.0, 'Rodney McGruder', 'MIA', 1312611.0),\n",
              " (425.0, 'Andrew Harrison', 'MEM', 1312611.0),\n",
              " (426.0, 'Ivica Zubac', 'LAL', 1312611.0),\n",
              " (427.0, 'Patrick McCaw', 'GSW', 1312611.0),\n",
              " (428.0, 'Dorian Finney-Smith', 'DAL', 1312611.0),\n",
              " (429.0, 'Yogi Ferrell', 'DAL', 1312611.0),\n",
              " (430.0, 'Treveon Graham', 'CHO', 1312611.0),\n",
              " (431.0, 'David Nwaba', 'CHI', 1312611.0),\n",
              " (432.0, 'Paul Zipser', 'CHI', 1312611.0),\n",
              " (433.0, 'Isaiah Whitehead', 'BRK', 1312611.0),\n",
              " (434.0, 'Sheldon Mac', 'ATL', 1312611.0),\n",
              " (435.0, 'Okaro White', 'ATL', 1312611.0),\n",
              " (436.0, 'Nicolas Brussino', 'ATL', 1312611.0),\n",
              " (437.0, 'Diamond Stone', 'ATL', 1312611.0),\n",
              " (438.0, 'Isaiah Taylor', 'ATL', 1312611.0),\n",
              " (439.0, 'Kay Felder', 'CHI', 1312611.0),\n",
              " (440.0, 'Fred VanVleet', 'TOR', 1312611.0),\n",
              " (441.0, 'Derrick Jones', 'PHO', 1312611.0),\n",
              " (442.0, 'Chasson Randle', 'NYK', 1312611.0),\n",
              " (443.0, 'Stephen Zimmerman', 'LAL', 1312611.0),\n",
              " (444.0, 'Semi Ojeleye', 'BOS', 1291892.0),\n",
              " (445.0, 'Frank Mason', 'SAC', 1184385.0),\n",
              " (446.0, 'Abdel Nader', 'BOS', 1167333.0),\n",
              " (447.0, 'Damyean Dotson', 'NYK', 1100000.0),\n",
              " (448.0, 'Paul Pierce', 'LAC', 1096080.0),\n",
              " (449.0, 'Isaiah Canaan', 'PHO', 1069308.0),\n",
              " (450.0, 'Wesley Iwundu', 'ORL', 1050000.0),\n",
              " (451.0, 'Livio Jean-Charles', 'SAS', 1035200.0),\n",
              " (452.0, 'Justin Hamilton', 'TOR', 1000000.0),\n",
              " (453.0, 'Gerald Henderson', 'PHI', 1000000.0),\n",
              " (454.0, 'Rade Zagorac', 'MEM', 950000.0),\n",
              " (455.0, 'Ivan Rabb', 'MEM', 950000.0),\n",
              " (456.0, 'Ike Anigbogu', 'IND', 950000.0),\n",
              " (457.0, 'Gerald Green', 'HOU', 947248.0),\n",
              " (458.0, 'Jason Thompson', 'GSW', 945126.0),\n",
              " (459.0, 'Martell Webster', 'WAS', 830000.0),\n",
              " (460.0, 'Frank Jackson', 'NOP', 815615.0),\n",
              " (461.0, 'Jordan Bell', 'GSW', 815615.0),\n",
              " (462.0, 'Dakari Johnson', 'OKC', 815615.0),\n",
              " (463.0, 'Sterling Brown', 'MIL', 815615.0),\n",
              " (464.0, 'Dillon Brooks', 'MEM', 815615.0),\n",
              " (465.0, 'Jawun Evans', 'LAC', 815615.0),\n",
              " (466.0, 'Sindarius Thornwell', 'LAC', 815615.0),\n",
              " (467.0, 'Dwayne Bacon', 'CHO', 815615.0),\n",
              " (468.0, 'Tyler Dorsey', 'ATL', 815615.0),\n",
              " (469.0, 'Davon Reed', 'PHO', 815615.0),\n",
              " (470.0, \"Royce O'Neale\", 'UTA', 815615.0),\n",
              " (471.0, 'Alfonzo McKinnie', 'TOR', 815615.0),\n",
              " (472.0, 'Brandon Paul', 'SAS', 815615.0),\n",
              " (473.0, 'Khem Birch', 'ORL', 815615.0),\n",
              " (474.0, 'Thomas Bryant', 'LAL', 815615.0),\n",
              " (475.0, 'Zhou Qi', 'HOU', 815615.0),\n",
              " (476.0, 'Maxi Kleber', 'DAL', 815615.0),\n",
              " (477.0, 'Daniel Theis', 'BOS', 815615.0),\n",
              " (478.0, 'Sean Kilpatrick', 'MIL', 789725.0),\n",
              " (479.0, 'Trey Burke', 'NYK', 784160.0),\n",
              " (480.0, 'Alex Poythress', 'IND', 778668.0),\n",
              " (481.0, 'Marco Belinelli', 'PHI', 776217.0),\n",
              " (482.0, 'Joe Johnson', 'HOU', 749905.0),\n",
              " (483.0, 'Dwight Buycks', 'DET', 748160.0),\n",
              " (484.0, 'Tyler Cavanaugh', 'ATL', 679919.0),\n",
              " (485.0, 'Carlos Delfino', 'LAC', 650000.0),\n",
              " (486.0, 'Caron Butler', 'SAC', 517220.0),\n",
              " (487.0, 'Jordan Farmar', 'LAC', 510921.0),\n",
              " (488.0, 'Ersan Ilyasova', 'PHI', 502328.0),\n",
              " (489.0, 'Leandro Barbosa', 'PHO', 500000.0),\n",
              " (490.0, 'Tibor Pleiss', 'PHI', 500000.0),\n",
              " (491.0, 'Michael Gbinije', 'DET', 500000.0),\n",
              " (492.0, 'Aaron Gray', 'DET', 452059.0),\n",
              " (493.0, 'Festus Ezeli', 'POR', 333334.0),\n",
              " (494.0, 'C.J. Watson', 'ORL', 333334.0),\n",
              " (495.0, 'Gal Mekel', 'DAL', 315760.0),\n",
              " (496.0, 'Miroslav Raduljica', 'LAC', 300000.0),\n",
              " (497.0, 'Cameron Oliver', 'HOU', 300000.0),\n",
              " (498.0, 'Ramon Sessions', 'WAS', 263124.0),\n",
              " (499.0, 'Jordan Crawford', 'NOP', 250000.0),\n",
              " (500.0, 'Emeka Okafor', 'NOP', 239204.0),\n",
              " (501.0, 'Wade Baldwin', 'POR', 222476.0),\n",
              " (502.0, 'Isaiah Canaan', 'CHI', 200000.0),\n",
              " (503.0, 'Rakeem Christmas', 'IND', 172552.0),\n",
              " (504.0, 'DeAndre Liggins', 'NOP', 172238.0),\n",
              " (505.0, 'Sean Kilpatrick', 'LAC', 172238.0),\n",
              " (506.0, 'Rashad Vaughn', 'ORL', 166258.0),\n",
              " (507.0, 'Troy Williams', 'NYK', 148318.0),\n",
              " (508.0, 'Travis Wear', 'LAL', 148318.0),\n",
              " (509.0, 'Carrick Felix', 'WAS', 140902.0),\n",
              " (510.0, 'Brandon Rush', 'POR', 119602.0),\n",
              " (511.0, 'Brandon Jennings', 'MIL', 119010.0),\n",
              " (512.0, 'Derrick Williams', 'LAL', 104059.0),\n",
              " (513.0, 'K.J. McDaniels', 'TOR', 100000.0),\n",
              " (514.0, 'Marshall Plumlee', 'NYK', 100000.0),\n",
              " (515.0, 'Georges Niang', 'IND', 100000.0),\n",
              " (516.0, 'Quinn Cook', 'ATL', 100000.0),\n",
              " (517.0, 'Demetrius Jackson', 'BOS', 92858.0),\n",
              " (518.0, 'Kyle Collinsworth', 'DAL', 92160.0),\n",
              " (519.0, 'Josh Gray', 'PHO', 92160.0),\n",
              " (520.0, 'Naz Mitrou-Long', 'UTA', 92160.0),\n",
              " (521.0, 'Shaquille Harrison', 'PHO', 92160.0),\n",
              " (522.0, 'Walt Lemon, Jr.', 'NOP', 92160.0),\n",
              " (523.0, 'Antonius Cleveland', 'ATL', 92160.0),\n",
              " (524.0, 'Jaylen Morris', 'ATL', 92160.0),\n",
              " (525.0, 'Mike James', 'PHO', 87552.0),\n",
              " (526.0, 'Jarell Eddie', 'BOS', 83129.0),\n",
              " (527.0, 'Jarell Eddie', 'CHI', 83129.0),\n",
              " (528.0, 'Briante Weber', 'MEM', 83129.0),\n",
              " (529.0, 'Demetrius Jackson', 'HOU', 74159.0),\n",
              " (530.0, 'Georgios Papagiannis', 'POR', 74159.0),\n",
              " (531.0, 'Larry Drew', 'NOP', 74159.0),\n",
              " (532.0, 'Scotty Hopson', 'DAL', 74159.0),\n",
              " (533.0, 'Isaiah Canaan', 'HOU', 53465.0),\n",
              " (534.0, 'Tyler Cavanaugh', 'ATL', 50000.0),\n",
              " (535.0, 'Kyle Collinsworth', 'DAL', 50000.0),\n",
              " (536.0, 'Demetrius Jackson', 'HOU', 50000.0),\n",
              " (537.0, 'Daniel Ochefu', 'WAS', 50000.0),\n",
              " (538.0, 'Michael Young', 'WAS', 50000.0),\n",
              " (539.0, 'Nate Wolters', 'UTA', 50000.0),\n",
              " (540.0, 'Naz Mitrou-Long', 'UTA', 50000.0),\n",
              " (541.0, 'Eric Griffin', 'UTA', 50000.0),\n",
              " (542.0, 'Jacob Pullen', 'PHI', 50000.0),\n",
              " (543.0, 'James Michael McAdoo', 'PHI', 50000.0),\n",
              " (544.0, 'Nigel Hayes', 'NYK', 50000.0),\n",
              " (545.0, 'Jalen Moore', 'MIL', 50000.0),\n",
              " (546.0, 'Gary Payton', 'MIL', 50000.0),\n",
              " (547.0, 'Matt Williams', 'MIA', 50000.0),\n",
              " (548.0, 'Vince Hunter', 'MEM', 50000.0),\n",
              " (549.0, 'Vander Blue', 'LAL', 50000.0),\n",
              " (550.0, 'V.J. Beachem', 'LAL', 50000.0),\n",
              " (551.0, 'Briante Weber', 'LAL', 50000.0),\n",
              " (552.0, 'Jamil Wilson', 'LAC', 50000.0),\n",
              " (553.0, 'Briante Weber', 'HOU', 50000.0),\n",
              " (554.0, 'Luis Montero', 'DET', 50000.0),\n",
              " (555.0, 'Gian Clavell', 'DAL', 50000.0),\n",
              " (556.0, 'Antonius Cleveland', 'DAL', 50000.0),\n",
              " (557.0, 'Diamond Stone', 'CHI', 50000.0),\n",
              " (558.0, 'Yakuba Ouattara', 'BRK', 50000.0),\n",
              " (559.0, 'Jeremy Evans', 'ATL', 50000.0),\n",
              " (560.0, 'Nigel Hayes', 'LAL', 46080.0),\n",
              " (561.0, 'Nigel Hayes', 'TOR', 46080.0),\n",
              " (562.0, 'Rodney Purvis', 'ORL', 46080.0),\n",
              " (563.0, 'Xavier Rathan-Mayes', 'MEM', 46080.0),\n",
              " (564.0, 'Trey McKinney-Jones', 'IND', 46080.0),\n",
              " (565.0, 'Jameel Warney', 'DAL', 46080.0),\n",
              " (566.0, 'Marcus Thornton', 'CLE', 46080.0),\n",
              " (567.0, 'DeAndre Liggins', 'ATL', 26773.0),\n",
              " (568.0, 'Axel Toupane', 'NOP', 25000.0),\n",
              " (569.0, 'Quinn Cook', 'NOP', 25000.0),\n",
              " (570.0, 'Chris Johnson', 'HOU', 25000.0),\n",
              " (571.0, 'Beno Udrih', 'DET', 25000.0),\n",
              " (572.0, 'Joel Bolomboy', 'MIL', 22248.0),\n",
              " (573.0, 'Jarell Eddie', 'CHI', 17224.0)]"
            ]
          },
          "metadata": {},
          "execution_count": 28
        }
      ]
    },
    {
      "cell_type": "markdown",
      "source": [
        "### **Ejemplo chatGPT**"
      ],
      "metadata": {
        "id": "GBhLYsPEtyAq"
      }
    },
    {
      "cell_type": "code",
      "source": [
        "import sqlite3\n",
        "\n",
        "# Nombre del archivo cargado\n",
        "db_file_name = \"nba.sqlite(\"  # Cambia el nombre si el archivo tiene otro nombre\n",
        "\n",
        "# Conexión a la base de datos SQLite\n",
        "conn = sqlite3.connect(db_file_name)\n",
        "\n",
        "# Crear un cursor para ejecutar consultas SQL\n",
        "cursor = conn.cursor()\n",
        "\n",
        "# Ejemplo: Consulta SELECT para obtener todos los registros de una tabla llamada 'nombre_tabla'\n",
        "table_name = 'nombre_tabla'  # Cambia el nombre de la tabla según sea necesario\n",
        "cursor.execute(f\"SELECT * FROM {table_name}\")\n",
        "\n",
        "# Obtener los resultados de la consulta\n",
        "results = cursor.fetchall()\n",
        "\n",
        "# Mostrar los resultados\n",
        "for row in results:\n",
        "    print(row)\n",
        "\n",
        "# Cerrar la conexión a la base de datos\n",
        "conn.close()"
      ],
      "metadata": {
        "colab": {
          "base_uri": "https://localhost:8080/"
        },
        "id": "iLG66gdzhxGI",
        "outputId": "762b305f-fcec-4c14-fcae-3236f285b1f4"
      },
      "execution_count": null,
      "outputs": [
        {
          "output_type": "execute_result",
          "data": {
            "text/plain": [
              "<sqlite3.Connection at 0x7fc38e52c940>"
            ]
          },
          "metadata": {},
          "execution_count": 24
        }
      ]
    },
    {
      "cell_type": "markdown",
      "source": [
        "## Postgre SQL"
      ],
      "metadata": {
        "id": "NTt-iy2iG8dF"
      }
    },
    {
      "cell_type": "code",
      "source": [
        "host = \"local/Drive/url\";\n",
        "database= \"NOMBRE BASE DE DATO\"\n",
        "user = \"USUARIO\";\n",
        "password = \"CONTRASEÑA\"\n",
        "\n",
        "import psycopg2;\n",
        "import config\n",
        "\n",
        "conn = psycopg2.connect( host=config.host,database=config.database,\n",
        "user=config.user,password=config.password)\n",
        "df1 = pd.read_sql_query(\"SELECT * FROM NOMBRE_DE_TABLA\", conn)"
      ],
      "metadata": {
        "id": "8wROrsW-HD0S"
      },
      "execution_count": null,
      "outputs": []
    },
    {
      "cell_type": "markdown",
      "source": [
        "## JSON"
      ],
      "metadata": {
        "id": "onKhfMBRlz5v"
      }
    },
    {
      "cell_type": "markdown",
      "source": [
        "### JSON: Desde URL"
      ],
      "metadata": {
        "id": "v7O25pNfo7mU"
      }
    },
    {
      "cell_type": "code",
      "source": [
        "# JSON - URL: GitHub\n",
        "URL = 'http://raw.githubusercontent.com/BindiChen/machine-learning/master/data-analysis/027-pandas-convert-json/data/simple.json'\n",
        "df = pd.read_json(URL)\n",
        "df.head(10)"
      ],
      "metadata": {
        "colab": {
          "base_uri": "https://localhost:8080/",
          "height": 143
        },
        "id": "KVL6bAOUl1PT",
        "outputId": "93819bb5-799c-4c3d-9288-4c302d193ac7"
      },
      "execution_count": null,
      "outputs": [
        {
          "output_type": "execute_result",
          "data": {
            "text/plain": [
              "     id   name  math  physics  chemistry\n",
              "0  A001    Tom    60       66         61\n",
              "1  A002  James    89       76         51\n",
              "2  A003  Jenny    79       90         78"
            ],
            "text/html": [
              "\n",
              "  <div id=\"df-8ceaeec0-cb9d-4f41-8c33-9b2f9962602b\">\n",
              "    <div class=\"colab-df-container\">\n",
              "      <div>\n",
              "<style scoped>\n",
              "    .dataframe tbody tr th:only-of-type {\n",
              "        vertical-align: middle;\n",
              "    }\n",
              "\n",
              "    .dataframe tbody tr th {\n",
              "        vertical-align: top;\n",
              "    }\n",
              "\n",
              "    .dataframe thead th {\n",
              "        text-align: right;\n",
              "    }\n",
              "</style>\n",
              "<table border=\"1\" class=\"dataframe\">\n",
              "  <thead>\n",
              "    <tr style=\"text-align: right;\">\n",
              "      <th></th>\n",
              "      <th>id</th>\n",
              "      <th>name</th>\n",
              "      <th>math</th>\n",
              "      <th>physics</th>\n",
              "      <th>chemistry</th>\n",
              "    </tr>\n",
              "  </thead>\n",
              "  <tbody>\n",
              "    <tr>\n",
              "      <th>0</th>\n",
              "      <td>A001</td>\n",
              "      <td>Tom</td>\n",
              "      <td>60</td>\n",
              "      <td>66</td>\n",
              "      <td>61</td>\n",
              "    </tr>\n",
              "    <tr>\n",
              "      <th>1</th>\n",
              "      <td>A002</td>\n",
              "      <td>James</td>\n",
              "      <td>89</td>\n",
              "      <td>76</td>\n",
              "      <td>51</td>\n",
              "    </tr>\n",
              "    <tr>\n",
              "      <th>2</th>\n",
              "      <td>A003</td>\n",
              "      <td>Jenny</td>\n",
              "      <td>79</td>\n",
              "      <td>90</td>\n",
              "      <td>78</td>\n",
              "    </tr>\n",
              "  </tbody>\n",
              "</table>\n",
              "</div>\n",
              "      <button class=\"colab-df-convert\" onclick=\"convertToInteractive('df-8ceaeec0-cb9d-4f41-8c33-9b2f9962602b')\"\n",
              "              title=\"Convert this dataframe to an interactive table.\"\n",
              "              style=\"display:none;\">\n",
              "        \n",
              "  <svg xmlns=\"http://www.w3.org/2000/svg\" height=\"24px\"viewBox=\"0 0 24 24\"\n",
              "       width=\"24px\">\n",
              "    <path d=\"M0 0h24v24H0V0z\" fill=\"none\"/>\n",
              "    <path d=\"M18.56 5.44l.94 2.06.94-2.06 2.06-.94-2.06-.94-.94-2.06-.94 2.06-2.06.94zm-11 1L8.5 8.5l.94-2.06 2.06-.94-2.06-.94L8.5 2.5l-.94 2.06-2.06.94zm10 10l.94 2.06.94-2.06 2.06-.94-2.06-.94-.94-2.06-.94 2.06-2.06.94z\"/><path d=\"M17.41 7.96l-1.37-1.37c-.4-.4-.92-.59-1.43-.59-.52 0-1.04.2-1.43.59L10.3 9.45l-7.72 7.72c-.78.78-.78 2.05 0 2.83L4 21.41c.39.39.9.59 1.41.59.51 0 1.02-.2 1.41-.59l7.78-7.78 2.81-2.81c.8-.78.8-2.07 0-2.86zM5.41 20L4 18.59l7.72-7.72 1.47 1.35L5.41 20z\"/>\n",
              "  </svg>\n",
              "      </button>\n",
              "      \n",
              "  <style>\n",
              "    .colab-df-container {\n",
              "      display:flex;\n",
              "      flex-wrap:wrap;\n",
              "      gap: 12px;\n",
              "    }\n",
              "\n",
              "    .colab-df-convert {\n",
              "      background-color: #E8F0FE;\n",
              "      border: none;\n",
              "      border-radius: 50%;\n",
              "      cursor: pointer;\n",
              "      display: none;\n",
              "      fill: #1967D2;\n",
              "      height: 32px;\n",
              "      padding: 0 0 0 0;\n",
              "      width: 32px;\n",
              "    }\n",
              "\n",
              "    .colab-df-convert:hover {\n",
              "      background-color: #E2EBFA;\n",
              "      box-shadow: 0px 1px 2px rgba(60, 64, 67, 0.3), 0px 1px 3px 1px rgba(60, 64, 67, 0.15);\n",
              "      fill: #174EA6;\n",
              "    }\n",
              "\n",
              "    [theme=dark] .colab-df-convert {\n",
              "      background-color: #3B4455;\n",
              "      fill: #D2E3FC;\n",
              "    }\n",
              "\n",
              "    [theme=dark] .colab-df-convert:hover {\n",
              "      background-color: #434B5C;\n",
              "      box-shadow: 0px 1px 3px 1px rgba(0, 0, 0, 0.15);\n",
              "      filter: drop-shadow(0px 1px 2px rgba(0, 0, 0, 0.3));\n",
              "      fill: #FFFFFF;\n",
              "    }\n",
              "  </style>\n",
              "\n",
              "      <script>\n",
              "        const buttonEl =\n",
              "          document.querySelector('#df-8ceaeec0-cb9d-4f41-8c33-9b2f9962602b button.colab-df-convert');\n",
              "        buttonEl.style.display =\n",
              "          google.colab.kernel.accessAllowed ? 'block' : 'none';\n",
              "\n",
              "        async function convertToInteractive(key) {\n",
              "          const element = document.querySelector('#df-8ceaeec0-cb9d-4f41-8c33-9b2f9962602b');\n",
              "          const dataTable =\n",
              "            await google.colab.kernel.invokeFunction('convertToInteractive',\n",
              "                                                     [key], {});\n",
              "          if (!dataTable) return;\n",
              "\n",
              "          const docLinkHtml = 'Like what you see? Visit the ' +\n",
              "            '<a target=\"_blank\" href=https://colab.research.google.com/notebooks/data_table.ipynb>data table notebook</a>'\n",
              "            + ' to learn more about interactive tables.';\n",
              "          element.innerHTML = '';\n",
              "          dataTable['output_type'] = 'display_data';\n",
              "          await google.colab.output.renderOutput(dataTable, element);\n",
              "          const docLink = document.createElement('div');\n",
              "          docLink.innerHTML = docLinkHtml;\n",
              "          element.appendChild(docLink);\n",
              "        }\n",
              "      </script>\n",
              "    </div>\n",
              "  </div>\n",
              "  "
            ]
          },
          "metadata": {},
          "execution_count": 11
        }
      ]
    },
    {
      "cell_type": "markdown",
      "source": [
        "### JSON desde Archivo: json.load()"
      ],
      "metadata": {
        "id": "fqhG80FynJuC"
      }
    },
    {
      "cell_type": "code",
      "source": [
        "#Importar librerias - Clase\n",
        "import pandas as pd\n",
        "import numpy as np\n",
        "#Montar en drive\n",
        "from google.colab import drive\n",
        "import os\n",
        "drive.mount('/content/drive')\n",
        "%cd '/content/drive/MyDrive/- DATA/DATA SCIENCE/Data Sets/CODER Clases DataSets/'\n",
        "%ls"
      ],
      "metadata": {
        "colab": {
          "base_uri": "https://localhost:8080/"
        },
        "id": "QvT97J-WnKuW",
        "outputId": "eee9a06e-bc2a-46d1-8ca1-83f85d80419a"
      },
      "execution_count": null,
      "outputs": [
        {
          "output_type": "stream",
          "name": "stdout",
          "text": [
            "Drive already mounted at /content/drive; to attempt to forcibly remount, call drive.mount(\"/content/drive\", force_remount=True).\n",
            "/content/drive/MyDrive/- DATA/DATA SCIENCE/Data Sets/CODER Clases DataSets\n",
            "'Copia de bank-full (1).csv'      'Copia de pokemon_data.txt'\n",
            "'Copia de bank-full.csv'          'Copia de pune_1965_to_2002 (1).csv'\n",
            "'Copia de D.csv'                  'Copia de pune_1965_to_2002.csv'\n",
            "'Copia de DUK.csv'                'Copia de SO.csv'\n",
            "'Copia de ejemplo_1.json'         'Copia de winequality-red.csv'\n",
            "'Copia de EXC.csv'                 Mercado_Pago.csv\n",
            "'Copia de HRDataset_v14 (1).csv'  'pokemon_data (1).txt'\n",
            "'Copia de HRDataset_v14.csv'      'pokemon_data (2).txt'\n",
            "'Copia de Mall_Customers.csv'      pokemon_data.txt\n",
            "'Copia de nba_salary (1).sqlite'   precipitaciones_año.pdf\n",
            "'Copia de nba_salary.sqlite'      'Time Series Data.csv'\n",
            "'Copia de NEE.csv'                 winequality-red.csv\n",
            "'Copia de nested_json.json'\n"
          ]
        }
      ]
    },
    {
      "cell_type": "code",
      "source": [
        "import json\n",
        "file_json=open('Copia de ejemplo_1.json')\n",
        "data=json.load(file_json)\n",
        "data"
      ],
      "metadata": {
        "colab": {
          "base_uri": "https://localhost:8080/"
        },
        "id": "OfsP5jsanJ2f",
        "outputId": "d07fa94d-5251-4e27-94b9-d729327886f0"
      },
      "execution_count": null,
      "outputs": [
        {
          "output_type": "execute_result",
          "data": {
            "text/plain": [
              "{'Duration': {'0': 60, '1': 60, '2': 60, '3': 45, '4': 45, '5': 60},\n",
              " 'Pulse': {'0': 110, '1': 117, '2': 103, '3': 109, '4': 117, '5': 102},\n",
              " 'Maxpulse': {'0': 130, '1': 145, '2': 135, '3': 175, '4': 148, '5': 127},\n",
              " 'Calories': {'0': 409, '1': 479, '2': 340, '3': 282, '4': 406, '5': 300}}"
            ]
          },
          "metadata": {},
          "execution_count": 15
        }
      ]
    },
    {
      "cell_type": "code",
      "source": [
        "#Transformar en DataFrame\n",
        "df=pd.read_json('Copia de ejemplo_1.json',orient='column')\n",
        "print(type(a))\n",
        "df.head()"
      ],
      "metadata": {
        "colab": {
          "base_uri": "https://localhost:8080/",
          "height": 223
        },
        "id": "SXV3N-hpn_-H",
        "outputId": "13b38a65-2828-4cdf-a35c-4c55c9178485"
      },
      "execution_count": null,
      "outputs": [
        {
          "output_type": "stream",
          "name": "stdout",
          "text": [
            "<class 'pandas.core.frame.DataFrame'>\n"
          ]
        },
        {
          "output_type": "execute_result",
          "data": {
            "text/plain": [
              "   Duration  Pulse  Maxpulse  Calories\n",
              "0        60    110       130       409\n",
              "1        60    117       145       479\n",
              "2        60    103       135       340\n",
              "3        45    109       175       282\n",
              "4        45    117       148       406"
            ],
            "text/html": [
              "\n",
              "  <div id=\"df-3008b1d5-96e5-4493-8109-76f4b7dd896b\">\n",
              "    <div class=\"colab-df-container\">\n",
              "      <div>\n",
              "<style scoped>\n",
              "    .dataframe tbody tr th:only-of-type {\n",
              "        vertical-align: middle;\n",
              "    }\n",
              "\n",
              "    .dataframe tbody tr th {\n",
              "        vertical-align: top;\n",
              "    }\n",
              "\n",
              "    .dataframe thead th {\n",
              "        text-align: right;\n",
              "    }\n",
              "</style>\n",
              "<table border=\"1\" class=\"dataframe\">\n",
              "  <thead>\n",
              "    <tr style=\"text-align: right;\">\n",
              "      <th></th>\n",
              "      <th>Duration</th>\n",
              "      <th>Pulse</th>\n",
              "      <th>Maxpulse</th>\n",
              "      <th>Calories</th>\n",
              "    </tr>\n",
              "  </thead>\n",
              "  <tbody>\n",
              "    <tr>\n",
              "      <th>0</th>\n",
              "      <td>60</td>\n",
              "      <td>110</td>\n",
              "      <td>130</td>\n",
              "      <td>409</td>\n",
              "    </tr>\n",
              "    <tr>\n",
              "      <th>1</th>\n",
              "      <td>60</td>\n",
              "      <td>117</td>\n",
              "      <td>145</td>\n",
              "      <td>479</td>\n",
              "    </tr>\n",
              "    <tr>\n",
              "      <th>2</th>\n",
              "      <td>60</td>\n",
              "      <td>103</td>\n",
              "      <td>135</td>\n",
              "      <td>340</td>\n",
              "    </tr>\n",
              "    <tr>\n",
              "      <th>3</th>\n",
              "      <td>45</td>\n",
              "      <td>109</td>\n",
              "      <td>175</td>\n",
              "      <td>282</td>\n",
              "    </tr>\n",
              "    <tr>\n",
              "      <th>4</th>\n",
              "      <td>45</td>\n",
              "      <td>117</td>\n",
              "      <td>148</td>\n",
              "      <td>406</td>\n",
              "    </tr>\n",
              "  </tbody>\n",
              "</table>\n",
              "</div>\n",
              "      <button class=\"colab-df-convert\" onclick=\"convertToInteractive('df-3008b1d5-96e5-4493-8109-76f4b7dd896b')\"\n",
              "              title=\"Convert this dataframe to an interactive table.\"\n",
              "              style=\"display:none;\">\n",
              "        \n",
              "  <svg xmlns=\"http://www.w3.org/2000/svg\" height=\"24px\"viewBox=\"0 0 24 24\"\n",
              "       width=\"24px\">\n",
              "    <path d=\"M0 0h24v24H0V0z\" fill=\"none\"/>\n",
              "    <path d=\"M18.56 5.44l.94 2.06.94-2.06 2.06-.94-2.06-.94-.94-2.06-.94 2.06-2.06.94zm-11 1L8.5 8.5l.94-2.06 2.06-.94-2.06-.94L8.5 2.5l-.94 2.06-2.06.94zm10 10l.94 2.06.94-2.06 2.06-.94-2.06-.94-.94-2.06-.94 2.06-2.06.94z\"/><path d=\"M17.41 7.96l-1.37-1.37c-.4-.4-.92-.59-1.43-.59-.52 0-1.04.2-1.43.59L10.3 9.45l-7.72 7.72c-.78.78-.78 2.05 0 2.83L4 21.41c.39.39.9.59 1.41.59.51 0 1.02-.2 1.41-.59l7.78-7.78 2.81-2.81c.8-.78.8-2.07 0-2.86zM5.41 20L4 18.59l7.72-7.72 1.47 1.35L5.41 20z\"/>\n",
              "  </svg>\n",
              "      </button>\n",
              "      \n",
              "  <style>\n",
              "    .colab-df-container {\n",
              "      display:flex;\n",
              "      flex-wrap:wrap;\n",
              "      gap: 12px;\n",
              "    }\n",
              "\n",
              "    .colab-df-convert {\n",
              "      background-color: #E8F0FE;\n",
              "      border: none;\n",
              "      border-radius: 50%;\n",
              "      cursor: pointer;\n",
              "      display: none;\n",
              "      fill: #1967D2;\n",
              "      height: 32px;\n",
              "      padding: 0 0 0 0;\n",
              "      width: 32px;\n",
              "    }\n",
              "\n",
              "    .colab-df-convert:hover {\n",
              "      background-color: #E2EBFA;\n",
              "      box-shadow: 0px 1px 2px rgba(60, 64, 67, 0.3), 0px 1px 3px 1px rgba(60, 64, 67, 0.15);\n",
              "      fill: #174EA6;\n",
              "    }\n",
              "\n",
              "    [theme=dark] .colab-df-convert {\n",
              "      background-color: #3B4455;\n",
              "      fill: #D2E3FC;\n",
              "    }\n",
              "\n",
              "    [theme=dark] .colab-df-convert:hover {\n",
              "      background-color: #434B5C;\n",
              "      box-shadow: 0px 1px 3px 1px rgba(0, 0, 0, 0.15);\n",
              "      filter: drop-shadow(0px 1px 2px rgba(0, 0, 0, 0.3));\n",
              "      fill: #FFFFFF;\n",
              "    }\n",
              "  </style>\n",
              "\n",
              "      <script>\n",
              "        const buttonEl =\n",
              "          document.querySelector('#df-3008b1d5-96e5-4493-8109-76f4b7dd896b button.colab-df-convert');\n",
              "        buttonEl.style.display =\n",
              "          google.colab.kernel.accessAllowed ? 'block' : 'none';\n",
              "\n",
              "        async function convertToInteractive(key) {\n",
              "          const element = document.querySelector('#df-3008b1d5-96e5-4493-8109-76f4b7dd896b');\n",
              "          const dataTable =\n",
              "            await google.colab.kernel.invokeFunction('convertToInteractive',\n",
              "                                                     [key], {});\n",
              "          if (!dataTable) return;\n",
              "\n",
              "          const docLinkHtml = 'Like what you see? Visit the ' +\n",
              "            '<a target=\"_blank\" href=https://colab.research.google.com/notebooks/data_table.ipynb>data table notebook</a>'\n",
              "            + ' to learn more about interactive tables.';\n",
              "          element.innerHTML = '';\n",
              "          dataTable['output_type'] = 'display_data';\n",
              "          await google.colab.output.renderOutput(dataTable, element);\n",
              "          const docLink = document.createElement('div');\n",
              "          docLink.innerHTML = docLinkHtml;\n",
              "          element.appendChild(docLink);\n",
              "        }\n",
              "      </script>\n",
              "    </div>\n",
              "  </div>\n",
              "  "
            ]
          },
          "metadata": {},
          "execution_count": 19
        }
      ]
    },
    {
      "cell_type": "markdown",
      "source": [
        "Creo un JSON con json.loads()"
      ],
      "metadata": {
        "id": "4GCuSOyyoEtK"
      }
    },
    {
      "cell_type": "code",
      "source": [
        "#Creo un JSON con json.loads\n",
        "import json\n",
        "\n",
        "x='''{\n",
        "  \"Name\": \"Jennifer Smith\",\n",
        "  \"Contact Number\": 7867567898,\n",
        "  \"Email\":\"jen123@gmail.com\",\n",
        "  \"Hobbies\": [\"Reading\", \"Sketching\", \"Horse Riding\"]\n",
        "}\n",
        "'''\n",
        "y= json.loads(x)\n",
        "y"
      ],
      "metadata": {
        "colab": {
          "base_uri": "https://localhost:8080/"
        },
        "id": "9sejxuJ7nqwJ",
        "outputId": "ea7b75f7-037e-4e50-cf16-378b8ab1d63d"
      },
      "execution_count": null,
      "outputs": [
        {
          "output_type": "execute_result",
          "data": {
            "text/plain": [
              "{'Name': 'Jennifer Smith',\n",
              " 'Contact Number': 7867567898,\n",
              " 'Email': 'jen123@gmail.com',\n",
              " 'Hobbies': ['Reading', 'Sketching', 'Horse Riding']}"
            ]
          },
          "metadata": {},
          "execution_count": 16
        }
      ]
    },
    {
      "cell_type": "markdown",
      "source": [
        "## APIs\n",
        "\n",
        "\n",
        "C23:\n",
        "https://colab.research.google.com/drive/1malQgtTsa7ZDvihzjw1xeLOxLNX_FuIi#scrollTo=d49XBcY_E64H\n",
        "\n",
        "\n",
        "C27:\n",
        "https://colab.research.google.com/drive/1vmnj5ti9B_-twnT23z4p4Rp7nJsY-ME3\n",
        "\n",
        "\n",
        "1500 APIs Publicas:\n",
        "https://github.com/public-apis/public-apis\n"
      ],
      "metadata": {
        "id": "eWB2uNwU4JuB"
      }
    },
    {
      "cell_type": "markdown",
      "source": [
        "### Metodo request.get()"
      ],
      "metadata": {
        "id": "VdRzyXOnwi__"
      }
    },
    {
      "cell_type": "markdown",
      "source": [
        "Códigos posibles:\n",
        "\n",
        "* 200: todo salió bien y se ha devuelto el resultado (si lo hay).\n",
        "* 301: el servidor lo está redirigiendo a un punto final diferente. Esto puede suceder cuando una empresa cambia los nombres de dominio o se cambia el nombre de un punto final.\n",
        "* 400: El servidor cree que hiciste una mala solicitud. Esto puede suceder cuando no envía los datos correctos, entre otras cosas.\n",
        "* 403: El recurso al que intenta acceder está prohibido: no tiene los permisos adecuados para verlo.\n",
        "* 404: El recurso al que intentó acceder no se encontró en el servidor.\n",
        "* 503: El servidor no está listo para manejar la solicitud (Servidor Caido)\n"
      ],
      "metadata": {
        "id": "r2LBRkZnuHSB"
      }
    },
    {
      "cell_type": "code",
      "source": [
        "import requests\n",
        "import json\n",
        "import pandas as pd\n",
        "url='https://raw.githubusercontent.com/bttmly/nba/master/data/teams.json'\n",
        "respuesta= requests.get(url)\n",
        "print(respuesta)"
      ],
      "metadata": {
        "colab": {
          "base_uri": "https://localhost:8080/"
        },
        "id": "jZo3MSIPulCn",
        "outputId": "3fc06744-e2e9-4511-a1a7-a6bc47614966"
      },
      "execution_count": null,
      "outputs": [
        {
          "output_type": "stream",
          "name": "stdout",
          "text": [
            "<Response [200]>\n"
          ]
        }
      ]
    },
    {
      "cell_type": "code",
      "source": [
        "respuesta.status_code"
      ],
      "metadata": {
        "colab": {
          "base_uri": "https://localhost:8080/"
        },
        "id": "oj1KguYtwMen",
        "outputId": "6bec97b1-279a-4ef7-9e49-e062c704b741"
      },
      "execution_count": null,
      "outputs": [
        {
          "output_type": "execute_result",
          "data": {
            "text/plain": [
              "200"
            ]
          },
          "metadata": {},
          "execution_count": 13
        }
      ]
    },
    {
      "cell_type": "code",
      "source": [
        "#Obtener Formato JSON (Opcion 1)\n",
        "respuesta.json()"
      ],
      "metadata": {
        "colab": {
          "base_uri": "https://localhost:8080/"
        },
        "id": "7f7USuthwRM_",
        "outputId": "c7cec2ac-ceff-47fa-c0d5-9c2dfffbe375"
      },
      "execution_count": null,
      "outputs": [
        {
          "output_type": "execute_result",
          "data": {
            "text/plain": [
              "[{'teamId': 1610612737,\n",
              "  'abbreviation': 'ATL',\n",
              "  'teamName': 'Atlanta Hawks',\n",
              "  'simpleName': 'Hawks',\n",
              "  'location': 'Atlanta'},\n",
              " {'teamId': 1610612738,\n",
              "  'abbreviation': 'BOS',\n",
              "  'teamName': 'Boston Celtics',\n",
              "  'simpleName': 'Celtics',\n",
              "  'location': 'Boston'},\n",
              " {'teamId': 1610612751,\n",
              "  'abbreviation': 'BKN',\n",
              "  'teamName': 'Brooklyn Nets',\n",
              "  'simpleName': 'Nets',\n",
              "  'location': 'Brooklyn'},\n",
              " {'teamId': 1610612766,\n",
              "  'abbreviation': 'CHA',\n",
              "  'teamName': 'Charlotte Hornets',\n",
              "  'simpleName': 'Hornets',\n",
              "  'location': 'Charlotte'},\n",
              " {'teamId': 1610612741,\n",
              "  'abbreviation': 'CHI',\n",
              "  'teamName': 'Chicago Bulls',\n",
              "  'simpleName': 'Bulls',\n",
              "  'location': 'Chicago'},\n",
              " {'teamId': 1610612739,\n",
              "  'abbreviation': 'CLE',\n",
              "  'teamName': 'Cleveland Cavaliers',\n",
              "  'simpleName': 'Cavaliers',\n",
              "  'location': 'Cleveland'},\n",
              " {'teamId': 1610612742,\n",
              "  'abbreviation': 'DAL',\n",
              "  'teamName': 'Dallas Mavericks',\n",
              "  'simpleName': 'Mavericks',\n",
              "  'location': 'Dallas'},\n",
              " {'teamId': 1610612743,\n",
              "  'abbreviation': 'DEN',\n",
              "  'teamName': 'Denver Nuggets',\n",
              "  'simpleName': 'Nuggets',\n",
              "  'location': 'Denver'},\n",
              " {'teamId': 1610612765,\n",
              "  'abbreviation': 'DET',\n",
              "  'teamName': 'Detroit Pistons',\n",
              "  'simpleName': 'Pistons',\n",
              "  'location': 'Detroit'},\n",
              " {'teamId': 1610612744,\n",
              "  'abbreviation': 'GSW',\n",
              "  'teamName': 'Golden State Warriors',\n",
              "  'simpleName': 'Warriors',\n",
              "  'location': 'Golden State'},\n",
              " {'teamId': 1610612745,\n",
              "  'abbreviation': 'HOU',\n",
              "  'teamName': 'Houston Rockets',\n",
              "  'simpleName': 'Rockets',\n",
              "  'location': 'Houston'},\n",
              " {'teamId': 1610612754,\n",
              "  'abbreviation': 'IND',\n",
              "  'teamName': 'Indiana Pacers',\n",
              "  'simpleName': 'Pacers',\n",
              "  'location': 'Indiana'},\n",
              " {'teamId': 1610612746,\n",
              "  'abbreviation': 'LAC',\n",
              "  'teamName': 'Los Angeles Clippers',\n",
              "  'simpleName': 'Clippers',\n",
              "  'location': 'Los Angeles'},\n",
              " {'teamId': 1610612747,\n",
              "  'abbreviation': 'LAL',\n",
              "  'teamName': 'Los Angeles Lakers',\n",
              "  'simpleName': 'Lakers',\n",
              "  'location': 'Los Angeles'},\n",
              " {'teamId': 1610612763,\n",
              "  'abbreviation': 'MEM',\n",
              "  'teamName': 'Memphis Grizzlies',\n",
              "  'simpleName': 'Grizzlies',\n",
              "  'location': 'Memphis'},\n",
              " {'teamId': 1610612748,\n",
              "  'abbreviation': 'MIA',\n",
              "  'teamName': 'Miami Heat',\n",
              "  'simpleName': 'Heat',\n",
              "  'location': 'Miami'},\n",
              " {'teamId': 1610612749,\n",
              "  'abbreviation': 'MIL',\n",
              "  'teamName': 'Milwaukee Bucks',\n",
              "  'simpleName': 'Bucks',\n",
              "  'location': 'Milwaukee'},\n",
              " {'teamId': 1610612750,\n",
              "  'abbreviation': 'MIN',\n",
              "  'teamName': 'Minnesota Timberwolves',\n",
              "  'simpleName': 'Timberwolves',\n",
              "  'location': 'Minnesota'},\n",
              " {'teamId': 1610612740,\n",
              "  'abbreviation': 'NOP',\n",
              "  'teamName': 'New Orleans Pelicans',\n",
              "  'simpleName': 'Pelicans',\n",
              "  'location': 'New Orleans'},\n",
              " {'teamId': 1610612752,\n",
              "  'abbreviation': 'NYK',\n",
              "  'teamName': 'New York Knicks',\n",
              "  'simpleName': 'Knicks',\n",
              "  'location': 'New York'},\n",
              " {'teamId': 1610612760,\n",
              "  'abbreviation': 'OKC',\n",
              "  'teamName': 'Oklahoma City Thunder',\n",
              "  'simpleName': 'Thunder',\n",
              "  'location': 'Oklahoma City'},\n",
              " {'teamId': 1610612753,\n",
              "  'abbreviation': 'ORL',\n",
              "  'teamName': 'Orlando Magic',\n",
              "  'simpleName': 'Magic',\n",
              "  'location': 'Orlando'},\n",
              " {'teamId': 1610612755,\n",
              "  'abbreviation': 'PHI',\n",
              "  'teamName': 'Philadelphia 76ers',\n",
              "  'simpleName': '76ers',\n",
              "  'location': 'Philadelphia'},\n",
              " {'teamId': 1610612756,\n",
              "  'abbreviation': 'PHX',\n",
              "  'teamName': 'Phoenix Suns',\n",
              "  'simpleName': 'Suns',\n",
              "  'location': 'Phoenix'},\n",
              " {'teamId': 1610612757,\n",
              "  'abbreviation': 'POR',\n",
              "  'teamName': 'Portland Trail Blazers',\n",
              "  'simpleName': 'Trail Blazers',\n",
              "  'location': 'Portland'},\n",
              " {'teamId': 1610612758,\n",
              "  'abbreviation': 'SAC',\n",
              "  'teamName': 'Sacramento Kings',\n",
              "  'simpleName': 'Kings',\n",
              "  'location': 'Sacramento'},\n",
              " {'teamId': 1610612759,\n",
              "  'abbreviation': 'SAS',\n",
              "  'teamName': 'San Antonio Spurs',\n",
              "  'simpleName': 'Spurs',\n",
              "  'location': 'San Antonio'},\n",
              " {'teamId': 1610612761,\n",
              "  'abbreviation': 'TOR',\n",
              "  'teamName': 'Toronto Raptors',\n",
              "  'simpleName': 'Raptors',\n",
              "  'location': 'Toronto'},\n",
              " {'teamId': 1610612762,\n",
              "  'abbreviation': 'UTA',\n",
              "  'teamName': 'Utah Jazz',\n",
              "  'simpleName': 'Jazz',\n",
              "  'location': 'Utah'},\n",
              " {'teamId': 1610612764,\n",
              "  'abbreviation': 'WAS',\n",
              "  'teamName': 'Washington Wizards',\n",
              "  'simpleName': 'Wizards',\n",
              "  'location': 'Washington'}]"
            ]
          },
          "metadata": {},
          "execution_count": 14
        }
      ]
    },
    {
      "cell_type": "code",
      "source": [
        "#Obtener Formato txt\n",
        "texto =respuesta.text\n",
        "texto"
      ],
      "metadata": {
        "colab": {
          "base_uri": "https://localhost:8080/",
          "height": 140
        },
        "id": "Jm_sImYvwnUQ",
        "outputId": "58a1eccc-f513-40a4-d02b-dbab54966fca"
      },
      "execution_count": null,
      "outputs": [
        {
          "output_type": "execute_result",
          "data": {
            "text/plain": [
              "'[\\n  {\\n    \"teamId\": 1610612737,\\n    \"abbreviation\": \"ATL\",\\n    \"teamName\": \"Atlanta Hawks\",\\n    \"simpleName\": \"Hawks\",\\n    \"location\": \"Atlanta\"\\n  },\\n  {\\n    \"teamId\": 1610612738,\\n    \"abbreviation\": \"BOS\",\\n    \"teamName\": \"Boston Celtics\",\\n    \"simpleName\": \"Celtics\",\\n    \"location\": \"Boston\"\\n  },\\n  {\\n    \"teamId\": 1610612751,\\n    \"abbreviation\": \"BKN\",\\n    \"teamName\": \"Brooklyn Nets\",\\n    \"simpleName\": \"Nets\",\\n    \"location\": \"Brooklyn\"\\n  },\\n  {\\n    \"teamId\": 1610612766,\\n    \"abbreviation\": \"CHA\",\\n    \"teamName\": \"Charlotte Hornets\",\\n    \"simpleName\": \"Hornets\",\\n    \"location\": \"Charlotte\"\\n  },\\n  {\\n    \"teamId\": 1610612741,\\n    \"abbreviation\": \"CHI\",\\n    \"teamName\": \"Chicago Bulls\",\\n    \"simpleName\": \"Bulls\",\\n    \"location\": \"Chicago\"\\n  },\\n  {\\n    \"teamId\": 1610612739,\\n    \"abbreviation\": \"CLE\",\\n    \"teamName\": \"Cleveland Cavaliers\",\\n    \"simpleName\": \"Cavaliers\",\\n    \"location\": \"Cleveland\"\\n  },\\n  {\\n    \"teamId\": 1610612742,\\n    \"abbreviation\": \"DAL\",\\n    \"teamName\": \"Dallas Mavericks\",\\n    \"simpleName\": \"Mavericks\",\\n    \"location\": \"Dallas\"\\n  },\\n  {\\n    \"teamId\": 1610612743,\\n    \"abbreviation\": \"DEN\",\\n    \"teamName\": \"Denver Nuggets\",\\n    \"simpleName\": \"Nuggets\",\\n    \"location\": \"Denver\"\\n  },\\n  {\\n    \"teamId\": 1610612765,\\n    \"abbreviation\": \"DET\",\\n    \"teamName\": \"Detroit Pistons\",\\n    \"simpleName\": \"Pistons\",\\n    \"location\": \"Detroit\"\\n  },\\n  {\\n    \"teamId\": 1610612744,\\n    \"abbreviation\": \"GSW\",\\n    \"teamName\": \"Golden State Warriors\",\\n    \"simpleName\": \"Warriors\",\\n    \"location\": \"Golden State\"\\n  },\\n  {\\n    \"teamId\": 1610612745,\\n    \"abbreviation\": \"HOU\",\\n    \"teamName\": \"Houston Rockets\",\\n    \"simpleName\": \"Rockets\",\\n    \"location\": \"Houston\"\\n  },\\n  {\\n    \"teamId\": 1610612754,\\n    \"abbreviation\": \"IND\",\\n    \"teamName\": \"Indiana Pacers\",\\n    \"simpleName\": \"Pacers\",\\n    \"location\": \"Indiana\"\\n  },\\n  {\\n    \"teamId\": 1610612746,\\n    \"abbreviation\": \"LAC\",\\n    \"teamName\": \"Los Angeles Clippers\",\\n    \"simpleName\": \"Clippers\",\\n    \"location\": \"Los Angeles\"\\n  },\\n  {\\n    \"teamId\": 1610612747,\\n    \"abbreviation\": \"LAL\",\\n    \"teamName\": \"Los Angeles Lakers\",\\n    \"simpleName\": \"Lakers\",\\n    \"location\": \"Los Angeles\"\\n  },\\n  {\\n    \"teamId\": 1610612763,\\n    \"abbreviation\": \"MEM\",\\n    \"teamName\": \"Memphis Grizzlies\",\\n    \"simpleName\": \"Grizzlies\",\\n    \"location\": \"Memphis\"\\n  },\\n  {\\n    \"teamId\": 1610612748,\\n    \"abbreviation\": \"MIA\",\\n    \"teamName\": \"Miami Heat\",\\n    \"simpleName\": \"Heat\",\\n    \"location\": \"Miami\"\\n  },\\n  {\\n    \"teamId\": 1610612749,\\n    \"abbreviation\": \"MIL\",\\n    \"teamName\": \"Milwaukee Bucks\",\\n    \"simpleName\": \"Bucks\",\\n    \"location\": \"Milwaukee\"\\n  },\\n  {\\n    \"teamId\": 1610612750,\\n    \"abbreviation\": \"MIN\",\\n    \"teamName\": \"Minnesota Timberwolves\",\\n    \"simpleName\": \"Timberwolves\",\\n    \"location\": \"Minnesota\"\\n  },\\n  {\\n    \"teamId\": 1610612740,\\n    \"abbreviation\": \"NOP\",\\n    \"teamName\": \"New Orleans Pelicans\",\\n    \"simpleName\": \"Pelicans\",\\n    \"location\": \"New Orleans\"\\n  },\\n  {\\n    \"teamId\": 1610612752,\\n    \"abbreviation\": \"NYK\",\\n    \"teamName\": \"New York Knicks\",\\n    \"simpleName\": \"Knicks\",\\n    \"location\": \"New York\"\\n  },\\n  {\\n    \"teamId\": 1610612760,\\n    \"abbreviation\": \"OKC\",\\n    \"teamName\": \"Oklahoma City Thunder\",\\n    \"simpleName\": \"Thunder\",\\n    \"location\": \"Oklahoma City\"\\n  },\\n  {\\n    \"teamId\": 1610612753,\\n    \"abbreviation\": \"ORL\",\\n    \"teamName\": \"Orlando Magic\",\\n    \"simpleName\": \"Magic\",\\n    \"location\": \"Orlando\"\\n  },\\n  {\\n    \"teamId\": 1610612755,\\n    \"abbreviation\": \"PHI\",\\n    \"teamName\": \"Philadelphia 76ers\",\\n    \"simpleName\": \"76ers\",\\n    \"location\": \"Philadelphia\"\\n  },\\n  {\\n    \"teamId\": 1610612756,\\n    \"abbreviation\": \"PHX\",\\n    \"teamName\": \"Phoenix Suns\",\\n    \"simpleName\": \"Suns\",\\n    \"location\": \"Phoenix\"\\n  },\\n  {\\n    \"teamId\": 1610612757,\\n    \"abbreviation\": \"POR\",\\n    \"teamName\": \"Portland Trail Blazers\",\\n    \"simpleName\": \"Trail Blazers\",\\n    \"location\": \"Portland\"\\n  },\\n  {\\n    \"teamId\": 1610612758,\\n    \"abbreviation\": \"SAC\",\\n    \"teamName\": \"Sacramento Kings\",\\n    \"simpleName\": \"Kings\",\\n    \"location\": \"Sacramento\"\\n  },\\n  {\\n    \"teamId\": 1610612759,\\n    \"abbreviation\": \"SAS\",\\n    \"teamName\": \"San Antonio Spurs\",\\n    \"simpleName\": \"Spurs\",\\n    \"location\": \"San Antonio\"\\n  },\\n  {\\n    \"teamId\": 1610612761,\\n    \"abbreviation\": \"TOR\",\\n    \"teamName\": \"Toronto Raptors\",\\n    \"simpleName\": \"Raptors\",\\n    \"location\": \"Toronto\"\\n  },\\n  {\\n    \"teamId\": 1610612762,\\n    \"abbreviation\": \"UTA\",\\n    \"teamName\": \"Utah Jazz\",\\n    \"simpleName\": \"Jazz\",\\n    \"location\": \"Utah\"\\n  },\\n  {\\n    \"teamId\": 1610612764,\\n    \"abbreviation\": \"WAS\",\\n    \"teamName\": \"Washington Wizards\",\\n    \"simpleName\": \"Wizards\",\\n    \"location\": \"Washington\"\\n  }\\n]'"
            ],
            "application/vnd.google.colaboratory.intrinsic+json": {
              "type": "string"
            }
          },
          "metadata": {},
          "execution_count": 19
        }
      ]
    },
    {
      "cell_type": "code",
      "source": [
        "#Obtener Formato JSON (Opcion 2: Partiendo de un txt)\n",
        "jsondata= json.loads(texto)\n",
        "jsondata"
      ],
      "metadata": {
        "colab": {
          "base_uri": "https://localhost:8080/"
        },
        "id": "tKb80_Mpw1qw",
        "outputId": "69c571e1-9316-42f4-bacb-71cd2a0d5719"
      },
      "execution_count": null,
      "outputs": [
        {
          "output_type": "execute_result",
          "data": {
            "text/plain": [
              "[{'teamId': 1610612737,\n",
              "  'abbreviation': 'ATL',\n",
              "  'teamName': 'Atlanta Hawks',\n",
              "  'simpleName': 'Hawks',\n",
              "  'location': 'Atlanta'},\n",
              " {'teamId': 1610612738,\n",
              "  'abbreviation': 'BOS',\n",
              "  'teamName': 'Boston Celtics',\n",
              "  'simpleName': 'Celtics',\n",
              "  'location': 'Boston'},\n",
              " {'teamId': 1610612751,\n",
              "  'abbreviation': 'BKN',\n",
              "  'teamName': 'Brooklyn Nets',\n",
              "  'simpleName': 'Nets',\n",
              "  'location': 'Brooklyn'},\n",
              " {'teamId': 1610612766,\n",
              "  'abbreviation': 'CHA',\n",
              "  'teamName': 'Charlotte Hornets',\n",
              "  'simpleName': 'Hornets',\n",
              "  'location': 'Charlotte'},\n",
              " {'teamId': 1610612741,\n",
              "  'abbreviation': 'CHI',\n",
              "  'teamName': 'Chicago Bulls',\n",
              "  'simpleName': 'Bulls',\n",
              "  'location': 'Chicago'},\n",
              " {'teamId': 1610612739,\n",
              "  'abbreviation': 'CLE',\n",
              "  'teamName': 'Cleveland Cavaliers',\n",
              "  'simpleName': 'Cavaliers',\n",
              "  'location': 'Cleveland'},\n",
              " {'teamId': 1610612742,\n",
              "  'abbreviation': 'DAL',\n",
              "  'teamName': 'Dallas Mavericks',\n",
              "  'simpleName': 'Mavericks',\n",
              "  'location': 'Dallas'},\n",
              " {'teamId': 1610612743,\n",
              "  'abbreviation': 'DEN',\n",
              "  'teamName': 'Denver Nuggets',\n",
              "  'simpleName': 'Nuggets',\n",
              "  'location': 'Denver'},\n",
              " {'teamId': 1610612765,\n",
              "  'abbreviation': 'DET',\n",
              "  'teamName': 'Detroit Pistons',\n",
              "  'simpleName': 'Pistons',\n",
              "  'location': 'Detroit'},\n",
              " {'teamId': 1610612744,\n",
              "  'abbreviation': 'GSW',\n",
              "  'teamName': 'Golden State Warriors',\n",
              "  'simpleName': 'Warriors',\n",
              "  'location': 'Golden State'},\n",
              " {'teamId': 1610612745,\n",
              "  'abbreviation': 'HOU',\n",
              "  'teamName': 'Houston Rockets',\n",
              "  'simpleName': 'Rockets',\n",
              "  'location': 'Houston'},\n",
              " {'teamId': 1610612754,\n",
              "  'abbreviation': 'IND',\n",
              "  'teamName': 'Indiana Pacers',\n",
              "  'simpleName': 'Pacers',\n",
              "  'location': 'Indiana'},\n",
              " {'teamId': 1610612746,\n",
              "  'abbreviation': 'LAC',\n",
              "  'teamName': 'Los Angeles Clippers',\n",
              "  'simpleName': 'Clippers',\n",
              "  'location': 'Los Angeles'},\n",
              " {'teamId': 1610612747,\n",
              "  'abbreviation': 'LAL',\n",
              "  'teamName': 'Los Angeles Lakers',\n",
              "  'simpleName': 'Lakers',\n",
              "  'location': 'Los Angeles'},\n",
              " {'teamId': 1610612763,\n",
              "  'abbreviation': 'MEM',\n",
              "  'teamName': 'Memphis Grizzlies',\n",
              "  'simpleName': 'Grizzlies',\n",
              "  'location': 'Memphis'},\n",
              " {'teamId': 1610612748,\n",
              "  'abbreviation': 'MIA',\n",
              "  'teamName': 'Miami Heat',\n",
              "  'simpleName': 'Heat',\n",
              "  'location': 'Miami'},\n",
              " {'teamId': 1610612749,\n",
              "  'abbreviation': 'MIL',\n",
              "  'teamName': 'Milwaukee Bucks',\n",
              "  'simpleName': 'Bucks',\n",
              "  'location': 'Milwaukee'},\n",
              " {'teamId': 1610612750,\n",
              "  'abbreviation': 'MIN',\n",
              "  'teamName': 'Minnesota Timberwolves',\n",
              "  'simpleName': 'Timberwolves',\n",
              "  'location': 'Minnesota'},\n",
              " {'teamId': 1610612740,\n",
              "  'abbreviation': 'NOP',\n",
              "  'teamName': 'New Orleans Pelicans',\n",
              "  'simpleName': 'Pelicans',\n",
              "  'location': 'New Orleans'},\n",
              " {'teamId': 1610612752,\n",
              "  'abbreviation': 'NYK',\n",
              "  'teamName': 'New York Knicks',\n",
              "  'simpleName': 'Knicks',\n",
              "  'location': 'New York'},\n",
              " {'teamId': 1610612760,\n",
              "  'abbreviation': 'OKC',\n",
              "  'teamName': 'Oklahoma City Thunder',\n",
              "  'simpleName': 'Thunder',\n",
              "  'location': 'Oklahoma City'},\n",
              " {'teamId': 1610612753,\n",
              "  'abbreviation': 'ORL',\n",
              "  'teamName': 'Orlando Magic',\n",
              "  'simpleName': 'Magic',\n",
              "  'location': 'Orlando'},\n",
              " {'teamId': 1610612755,\n",
              "  'abbreviation': 'PHI',\n",
              "  'teamName': 'Philadelphia 76ers',\n",
              "  'simpleName': '76ers',\n",
              "  'location': 'Philadelphia'},\n",
              " {'teamId': 1610612756,\n",
              "  'abbreviation': 'PHX',\n",
              "  'teamName': 'Phoenix Suns',\n",
              "  'simpleName': 'Suns',\n",
              "  'location': 'Phoenix'},\n",
              " {'teamId': 1610612757,\n",
              "  'abbreviation': 'POR',\n",
              "  'teamName': 'Portland Trail Blazers',\n",
              "  'simpleName': 'Trail Blazers',\n",
              "  'location': 'Portland'},\n",
              " {'teamId': 1610612758,\n",
              "  'abbreviation': 'SAC',\n",
              "  'teamName': 'Sacramento Kings',\n",
              "  'simpleName': 'Kings',\n",
              "  'location': 'Sacramento'},\n",
              " {'teamId': 1610612759,\n",
              "  'abbreviation': 'SAS',\n",
              "  'teamName': 'San Antonio Spurs',\n",
              "  'simpleName': 'Spurs',\n",
              "  'location': 'San Antonio'},\n",
              " {'teamId': 1610612761,\n",
              "  'abbreviation': 'TOR',\n",
              "  'teamName': 'Toronto Raptors',\n",
              "  'simpleName': 'Raptors',\n",
              "  'location': 'Toronto'},\n",
              " {'teamId': 1610612762,\n",
              "  'abbreviation': 'UTA',\n",
              "  'teamName': 'Utah Jazz',\n",
              "  'simpleName': 'Jazz',\n",
              "  'location': 'Utah'},\n",
              " {'teamId': 1610612764,\n",
              "  'abbreviation': 'WAS',\n",
              "  'teamName': 'Washington Wizards',\n",
              "  'simpleName': 'Wizards',\n",
              "  'location': 'Washington'}]"
            ]
          },
          "metadata": {},
          "execution_count": 23
        }
      ]
    },
    {
      "cell_type": "code",
      "source": [
        "#Guardar en Data Frame\n",
        "df= pd.DataFrame.from_dict(jsondata)\n",
        "df.head()"
      ],
      "metadata": {
        "colab": {
          "base_uri": "https://localhost:8080/",
          "height": 206
        },
        "id": "JZfjV-0Xxmeq",
        "outputId": "96996fa6-744e-4da0-eca3-02aaf4d93b38"
      },
      "execution_count": null,
      "outputs": [
        {
          "output_type": "execute_result",
          "data": {
            "text/plain": [
              "       teamId abbreviation           teamName simpleName   location\n",
              "0  1610612737          ATL      Atlanta Hawks      Hawks    Atlanta\n",
              "1  1610612738          BOS     Boston Celtics    Celtics     Boston\n",
              "2  1610612751          BKN      Brooklyn Nets       Nets   Brooklyn\n",
              "3  1610612766          CHA  Charlotte Hornets    Hornets  Charlotte\n",
              "4  1610612741          CHI      Chicago Bulls      Bulls    Chicago"
            ],
            "text/html": [
              "\n",
              "  <div id=\"df-0516b822-9677-478f-85a9-30746beba23c\">\n",
              "    <div class=\"colab-df-container\">\n",
              "      <div>\n",
              "<style scoped>\n",
              "    .dataframe tbody tr th:only-of-type {\n",
              "        vertical-align: middle;\n",
              "    }\n",
              "\n",
              "    .dataframe tbody tr th {\n",
              "        vertical-align: top;\n",
              "    }\n",
              "\n",
              "    .dataframe thead th {\n",
              "        text-align: right;\n",
              "    }\n",
              "</style>\n",
              "<table border=\"1\" class=\"dataframe\">\n",
              "  <thead>\n",
              "    <tr style=\"text-align: right;\">\n",
              "      <th></th>\n",
              "      <th>teamId</th>\n",
              "      <th>abbreviation</th>\n",
              "      <th>teamName</th>\n",
              "      <th>simpleName</th>\n",
              "      <th>location</th>\n",
              "    </tr>\n",
              "  </thead>\n",
              "  <tbody>\n",
              "    <tr>\n",
              "      <th>0</th>\n",
              "      <td>1610612737</td>\n",
              "      <td>ATL</td>\n",
              "      <td>Atlanta Hawks</td>\n",
              "      <td>Hawks</td>\n",
              "      <td>Atlanta</td>\n",
              "    </tr>\n",
              "    <tr>\n",
              "      <th>1</th>\n",
              "      <td>1610612738</td>\n",
              "      <td>BOS</td>\n",
              "      <td>Boston Celtics</td>\n",
              "      <td>Celtics</td>\n",
              "      <td>Boston</td>\n",
              "    </tr>\n",
              "    <tr>\n",
              "      <th>2</th>\n",
              "      <td>1610612751</td>\n",
              "      <td>BKN</td>\n",
              "      <td>Brooklyn Nets</td>\n",
              "      <td>Nets</td>\n",
              "      <td>Brooklyn</td>\n",
              "    </tr>\n",
              "    <tr>\n",
              "      <th>3</th>\n",
              "      <td>1610612766</td>\n",
              "      <td>CHA</td>\n",
              "      <td>Charlotte Hornets</td>\n",
              "      <td>Hornets</td>\n",
              "      <td>Charlotte</td>\n",
              "    </tr>\n",
              "    <tr>\n",
              "      <th>4</th>\n",
              "      <td>1610612741</td>\n",
              "      <td>CHI</td>\n",
              "      <td>Chicago Bulls</td>\n",
              "      <td>Bulls</td>\n",
              "      <td>Chicago</td>\n",
              "    </tr>\n",
              "  </tbody>\n",
              "</table>\n",
              "</div>\n",
              "      <button class=\"colab-df-convert\" onclick=\"convertToInteractive('df-0516b822-9677-478f-85a9-30746beba23c')\"\n",
              "              title=\"Convert this dataframe to an interactive table.\"\n",
              "              style=\"display:none;\">\n",
              "        \n",
              "  <svg xmlns=\"http://www.w3.org/2000/svg\" height=\"24px\"viewBox=\"0 0 24 24\"\n",
              "       width=\"24px\">\n",
              "    <path d=\"M0 0h24v24H0V0z\" fill=\"none\"/>\n",
              "    <path d=\"M18.56 5.44l.94 2.06.94-2.06 2.06-.94-2.06-.94-.94-2.06-.94 2.06-2.06.94zm-11 1L8.5 8.5l.94-2.06 2.06-.94-2.06-.94L8.5 2.5l-.94 2.06-2.06.94zm10 10l.94 2.06.94-2.06 2.06-.94-2.06-.94-.94-2.06-.94 2.06-2.06.94z\"/><path d=\"M17.41 7.96l-1.37-1.37c-.4-.4-.92-.59-1.43-.59-.52 0-1.04.2-1.43.59L10.3 9.45l-7.72 7.72c-.78.78-.78 2.05 0 2.83L4 21.41c.39.39.9.59 1.41.59.51 0 1.02-.2 1.41-.59l7.78-7.78 2.81-2.81c.8-.78.8-2.07 0-2.86zM5.41 20L4 18.59l7.72-7.72 1.47 1.35L5.41 20z\"/>\n",
              "  </svg>\n",
              "      </button>\n",
              "      \n",
              "  <style>\n",
              "    .colab-df-container {\n",
              "      display:flex;\n",
              "      flex-wrap:wrap;\n",
              "      gap: 12px;\n",
              "    }\n",
              "\n",
              "    .colab-df-convert {\n",
              "      background-color: #E8F0FE;\n",
              "      border: none;\n",
              "      border-radius: 50%;\n",
              "      cursor: pointer;\n",
              "      display: none;\n",
              "      fill: #1967D2;\n",
              "      height: 32px;\n",
              "      padding: 0 0 0 0;\n",
              "      width: 32px;\n",
              "    }\n",
              "\n",
              "    .colab-df-convert:hover {\n",
              "      background-color: #E2EBFA;\n",
              "      box-shadow: 0px 1px 2px rgba(60, 64, 67, 0.3), 0px 1px 3px 1px rgba(60, 64, 67, 0.15);\n",
              "      fill: #174EA6;\n",
              "    }\n",
              "\n",
              "    [theme=dark] .colab-df-convert {\n",
              "      background-color: #3B4455;\n",
              "      fill: #D2E3FC;\n",
              "    }\n",
              "\n",
              "    [theme=dark] .colab-df-convert:hover {\n",
              "      background-color: #434B5C;\n",
              "      box-shadow: 0px 1px 3px 1px rgba(0, 0, 0, 0.15);\n",
              "      filter: drop-shadow(0px 1px 2px rgba(0, 0, 0, 0.3));\n",
              "      fill: #FFFFFF;\n",
              "    }\n",
              "  </style>\n",
              "\n",
              "      <script>\n",
              "        const buttonEl =\n",
              "          document.querySelector('#df-0516b822-9677-478f-85a9-30746beba23c button.colab-df-convert');\n",
              "        buttonEl.style.display =\n",
              "          google.colab.kernel.accessAllowed ? 'block' : 'none';\n",
              "\n",
              "        async function convertToInteractive(key) {\n",
              "          const element = document.querySelector('#df-0516b822-9677-478f-85a9-30746beba23c');\n",
              "          const dataTable =\n",
              "            await google.colab.kernel.invokeFunction('convertToInteractive',\n",
              "                                                     [key], {});\n",
              "          if (!dataTable) return;\n",
              "\n",
              "          const docLinkHtml = 'Like what you see? Visit the ' +\n",
              "            '<a target=\"_blank\" href=https://colab.research.google.com/notebooks/data_table.ipynb>data table notebook</a>'\n",
              "            + ' to learn more about interactive tables.';\n",
              "          element.innerHTML = '';\n",
              "          dataTable['output_type'] = 'display_data';\n",
              "          await google.colab.output.renderOutput(dataTable, element);\n",
              "          const docLink = document.createElement('div');\n",
              "          docLink.innerHTML = docLinkHtml;\n",
              "          element.appendChild(docLink);\n",
              "        }\n",
              "      </script>\n",
              "    </div>\n",
              "  </div>\n",
              "  "
            ]
          },
          "metadata": {},
          "execution_count": 27
        }
      ]
    },
    {
      "cell_type": "markdown",
      "source": [
        "### APIs -CSV"
      ],
      "metadata": {
        "id": "vXeKvPjpbO7h"
      }
    },
    {
      "cell_type": "code",
      "source": [
        "import pandas as pd\n",
        "!wget -O cars_clus.csv https://s3-api.us-geo.objectstorage.softlayer.net/cf-courses-data/CognitiveClass/ML0101ENv3/labs/cars_clus.csv"
      ],
      "metadata": {
        "colab": {
          "base_uri": "https://localhost:8080/"
        },
        "id": "IfYYx9HXYm-B",
        "outputId": "4b3a6d08-5f74-49d9-c57c-04aa80a92d40"
      },
      "execution_count": null,
      "outputs": [
        {
          "output_type": "stream",
          "name": "stdout",
          "text": [
            "--2023-06-28 23:43:08--  https://s3-api.us-geo.objectstorage.softlayer.net/cf-courses-data/CognitiveClass/ML0101ENv3/labs/cars_clus.csv\n",
            "Resolving s3-api.us-geo.objectstorage.softlayer.net (s3-api.us-geo.objectstorage.softlayer.net)... 67.228.254.196\n",
            "Connecting to s3-api.us-geo.objectstorage.softlayer.net (s3-api.us-geo.objectstorage.softlayer.net)|67.228.254.196|:443... connected.\n",
            "HTTP request sent, awaiting response... 200 OK\n",
            "Length: 17774 (17K) [text/csv]\n",
            "Saving to: ‘cars_clus.csv’\n",
            "\n",
            "\rcars_clus.csv         0%[                    ]       0  --.-KB/s               \rcars_clus.csv       100%[===================>]  17.36K  --.-KB/s    in 0s      \n",
            "\n",
            "2023-06-28 23:43:08 (290 MB/s) - ‘cars_clus.csv’ saved [17774/17774]\n",
            "\n"
          ]
        }
      ]
    },
    {
      "cell_type": "code",
      "source": [
        "filename = 'cars_clus.csv'\n",
        "\n",
        "#Lectura\n",
        "pdf = pd.read_csv(filename)\n",
        "print (\"Shape: \", pdf.shape)\n",
        "print(pdf[['manufact','model','sales','resale']].head(5))"
      ],
      "metadata": {
        "colab": {
          "base_uri": "https://localhost:8080/"
        },
        "id": "hS9-_nrcZBbD",
        "outputId": "04390447-fef0-4858-c842-f744435a166a"
      },
      "execution_count": null,
      "outputs": [
        {
          "output_type": "stream",
          "name": "stdout",
          "text": [
            "Shape:  (159, 16)\n",
            "  manufact    model   sales  resale\n",
            "0    Acura  Integra  16.919  16.360\n",
            "1    Acura       TL  39.384  19.875\n",
            "2    Acura       CL  14.114  18.225\n",
            "3    Acura       RL   8.588  29.725\n",
            "4     Audi       A4  20.397  22.255\n"
          ]
        }
      ]
    },
    {
      "cell_type": "markdown",
      "source": [],
      "metadata": {
        "id": "TcnCQ6ADbRj8"
      }
    },
    {
      "cell_type": "markdown",
      "source": [
        "### **API Sin Credencial**"
      ],
      "metadata": {
        "id": "lWG4Om9cJLns"
      }
    },
    {
      "cell_type": "code",
      "source": [
        "import requests\n",
        "response = requests.get(\"http://api.open-notify.org/astros.json\")\n",
        "print(response.status_code)"
      ],
      "metadata": {
        "colab": {
          "base_uri": "https://localhost:8080/"
        },
        "id": "axT5rRyCvSCQ",
        "outputId": "098b70c0-8c38-40c9-e799-591063725ba5"
      },
      "execution_count": null,
      "outputs": [
        {
          "output_type": "stream",
          "name": "stdout",
          "text": [
            "200\n"
          ]
        }
      ]
    },
    {
      "cell_type": "code",
      "source": [
        "print(response.json())"
      ],
      "metadata": {
        "colab": {
          "base_uri": "https://localhost:8080/"
        },
        "id": "A6qqM-fQvh6X",
        "outputId": "a6cd5d48-68cf-43fa-cf1a-4d133170e467"
      },
      "execution_count": null,
      "outputs": [
        {
          "output_type": "stream",
          "name": "stdout",
          "text": [
            "{'number': 10, 'people': [{'name': 'Sergey Prokopyev', 'craft': 'ISS'}, {'name': 'Dmitry Petelin', 'craft': 'ISS'}, {'name': 'Frank Rubio', 'craft': 'ISS'}, {'name': 'Stephen Bowen', 'craft': 'ISS'}, {'name': 'Warren Hoburg', 'craft': 'ISS'}, {'name': 'Sultan Alneyadi', 'craft': 'ISS'}, {'name': 'Andrey Fedyaev', 'craft': 'ISS'}, {'name': 'Jing Haiping', 'craft': 'Tiangong'}, {'name': 'Gui Haichow', 'craft': 'Tiangong'}, {'name': 'Zhu Yangzhu', 'craft': 'Tiangong'}], 'message': 'success'}\n"
          ]
        }
      ]
    },
    {
      "cell_type": "code",
      "source": [
        "response"
      ],
      "metadata": {
        "colab": {
          "base_uri": "https://localhost:8080/"
        },
        "id": "w2MfA6b-vfiA",
        "outputId": "1b538226-e0b5-4ab7-e15c-5354a34f4504"
      },
      "execution_count": null,
      "outputs": [
        {
          "output_type": "execute_result",
          "data": {
            "text/plain": [
              "<Response [200]>"
            ]
          },
          "metadata": {},
          "execution_count": 12
        }
      ]
    },
    {
      "cell_type": "markdown",
      "source": [
        "### **API PyTrends**\n",
        "\n",
        "Arroja dato de los ultimos 5 años"
      ],
      "metadata": {
        "id": "574g3BlNJcHM"
      }
    },
    {
      "cell_type": "code",
      "source": [
        "!pip install pytrends"
      ],
      "metadata": {
        "id": "3T_nTMVRpVE5",
        "colab": {
          "base_uri": "https://localhost:8080/"
        },
        "outputId": "25d0b8e0-a7fa-47fd-d6b6-b35646312bb6"
      },
      "execution_count": null,
      "outputs": [
        {
          "output_type": "stream",
          "name": "stdout",
          "text": [
            "Collecting pytrends\n",
            "  Downloading pytrends-4.9.2-py3-none-any.whl (15 kB)\n",
            "Requirement already satisfied: requests>=2.0 in /usr/local/lib/python3.10/dist-packages (from pytrends) (2.27.1)\n",
            "Requirement already satisfied: pandas>=0.25 in /usr/local/lib/python3.10/dist-packages (from pytrends) (1.5.3)\n",
            "Requirement already satisfied: lxml in /usr/local/lib/python3.10/dist-packages (from pytrends) (4.9.2)\n",
            "Requirement already satisfied: python-dateutil>=2.8.1 in /usr/local/lib/python3.10/dist-packages (from pandas>=0.25->pytrends) (2.8.2)\n",
            "Requirement already satisfied: pytz>=2020.1 in /usr/local/lib/python3.10/dist-packages (from pandas>=0.25->pytrends) (2022.7.1)\n",
            "Requirement already satisfied: numpy>=1.21.0 in /usr/local/lib/python3.10/dist-packages (from pandas>=0.25->pytrends) (1.22.4)\n",
            "Requirement already satisfied: urllib3<1.27,>=1.21.1 in /usr/local/lib/python3.10/dist-packages (from requests>=2.0->pytrends) (1.26.16)\n",
            "Requirement already satisfied: certifi>=2017.4.17 in /usr/local/lib/python3.10/dist-packages (from requests>=2.0->pytrends) (2023.5.7)\n",
            "Requirement already satisfied: charset-normalizer~=2.0.0 in /usr/local/lib/python3.10/dist-packages (from requests>=2.0->pytrends) (2.0.12)\n",
            "Requirement already satisfied: idna<4,>=2.5 in /usr/local/lib/python3.10/dist-packages (from requests>=2.0->pytrends) (3.4)\n",
            "Requirement already satisfied: six>=1.5 in /usr/local/lib/python3.10/dist-packages (from python-dateutil>=2.8.1->pandas>=0.25->pytrends) (1.16.0)\n",
            "Installing collected packages: pytrends\n",
            "Successfully installed pytrends-4.9.2\n"
          ]
        }
      ]
    },
    {
      "cell_type": "code",
      "source": [
        "#Importar librerias\n",
        "import pandas as pd\n",
        "from pytrends.request import TrendReq\n",
        "\n",
        "#Elijo lo que quiero buscar\n",
        "pytrends = TrendReq()\n",
        "keywords = [\"River\", \"Boca\", \"Racing\"]\n",
        "\n",
        "# Datos de los ultimos 5 años\n",
        "pytrends.build_payload(keywords, cat=0, geo='', gprop='')\n",
        "df = pytrends.interest_over_time()[keywords]\n",
        "df.head()"
      ],
      "metadata": {
        "id": "wKqWGvBXpVJo",
        "colab": {
          "base_uri": "https://localhost:8080/",
          "height": 237
        },
        "outputId": "af9e7508-28ab-4831-f9c6-d432fa172e08"
      },
      "execution_count": null,
      "outputs": [
        {
          "output_type": "execute_result",
          "data": {
            "text/plain": [
              "            River  Boca  Racing\n",
              "date                           \n",
              "2018-07-08     57    13      25\n",
              "2018-07-15     52    16      24\n",
              "2018-07-22     58    16      24\n",
              "2018-07-29     54    17      26\n",
              "2018-08-05     56    19      27"
            ],
            "text/html": [
              "\n",
              "  <div id=\"df-36309b5e-a5bd-444c-8a34-ce97b8e85cbb\">\n",
              "    <div class=\"colab-df-container\">\n",
              "      <div>\n",
              "<style scoped>\n",
              "    .dataframe tbody tr th:only-of-type {\n",
              "        vertical-align: middle;\n",
              "    }\n",
              "\n",
              "    .dataframe tbody tr th {\n",
              "        vertical-align: top;\n",
              "    }\n",
              "\n",
              "    .dataframe thead th {\n",
              "        text-align: right;\n",
              "    }\n",
              "</style>\n",
              "<table border=\"1\" class=\"dataframe\">\n",
              "  <thead>\n",
              "    <tr style=\"text-align: right;\">\n",
              "      <th></th>\n",
              "      <th>River</th>\n",
              "      <th>Boca</th>\n",
              "      <th>Racing</th>\n",
              "    </tr>\n",
              "    <tr>\n",
              "      <th>date</th>\n",
              "      <th></th>\n",
              "      <th></th>\n",
              "      <th></th>\n",
              "    </tr>\n",
              "  </thead>\n",
              "  <tbody>\n",
              "    <tr>\n",
              "      <th>2018-07-08</th>\n",
              "      <td>57</td>\n",
              "      <td>13</td>\n",
              "      <td>25</td>\n",
              "    </tr>\n",
              "    <tr>\n",
              "      <th>2018-07-15</th>\n",
              "      <td>52</td>\n",
              "      <td>16</td>\n",
              "      <td>24</td>\n",
              "    </tr>\n",
              "    <tr>\n",
              "      <th>2018-07-22</th>\n",
              "      <td>58</td>\n",
              "      <td>16</td>\n",
              "      <td>24</td>\n",
              "    </tr>\n",
              "    <tr>\n",
              "      <th>2018-07-29</th>\n",
              "      <td>54</td>\n",
              "      <td>17</td>\n",
              "      <td>26</td>\n",
              "    </tr>\n",
              "    <tr>\n",
              "      <th>2018-08-05</th>\n",
              "      <td>56</td>\n",
              "      <td>19</td>\n",
              "      <td>27</td>\n",
              "    </tr>\n",
              "  </tbody>\n",
              "</table>\n",
              "</div>\n",
              "      <button class=\"colab-df-convert\" onclick=\"convertToInteractive('df-36309b5e-a5bd-444c-8a34-ce97b8e85cbb')\"\n",
              "              title=\"Convert this dataframe to an interactive table.\"\n",
              "              style=\"display:none;\">\n",
              "        \n",
              "  <svg xmlns=\"http://www.w3.org/2000/svg\" height=\"24px\"viewBox=\"0 0 24 24\"\n",
              "       width=\"24px\">\n",
              "    <path d=\"M0 0h24v24H0V0z\" fill=\"none\"/>\n",
              "    <path d=\"M18.56 5.44l.94 2.06.94-2.06 2.06-.94-2.06-.94-.94-2.06-.94 2.06-2.06.94zm-11 1L8.5 8.5l.94-2.06 2.06-.94-2.06-.94L8.5 2.5l-.94 2.06-2.06.94zm10 10l.94 2.06.94-2.06 2.06-.94-2.06-.94-.94-2.06-.94 2.06-2.06.94z\"/><path d=\"M17.41 7.96l-1.37-1.37c-.4-.4-.92-.59-1.43-.59-.52 0-1.04.2-1.43.59L10.3 9.45l-7.72 7.72c-.78.78-.78 2.05 0 2.83L4 21.41c.39.39.9.59 1.41.59.51 0 1.02-.2 1.41-.59l7.78-7.78 2.81-2.81c.8-.78.8-2.07 0-2.86zM5.41 20L4 18.59l7.72-7.72 1.47 1.35L5.41 20z\"/>\n",
              "  </svg>\n",
              "      </button>\n",
              "      \n",
              "  <style>\n",
              "    .colab-df-container {\n",
              "      display:flex;\n",
              "      flex-wrap:wrap;\n",
              "      gap: 12px;\n",
              "    }\n",
              "\n",
              "    .colab-df-convert {\n",
              "      background-color: #E8F0FE;\n",
              "      border: none;\n",
              "      border-radius: 50%;\n",
              "      cursor: pointer;\n",
              "      display: none;\n",
              "      fill: #1967D2;\n",
              "      height: 32px;\n",
              "      padding: 0 0 0 0;\n",
              "      width: 32px;\n",
              "    }\n",
              "\n",
              "    .colab-df-convert:hover {\n",
              "      background-color: #E2EBFA;\n",
              "      box-shadow: 0px 1px 2px rgba(60, 64, 67, 0.3), 0px 1px 3px 1px rgba(60, 64, 67, 0.15);\n",
              "      fill: #174EA6;\n",
              "    }\n",
              "\n",
              "    [theme=dark] .colab-df-convert {\n",
              "      background-color: #3B4455;\n",
              "      fill: #D2E3FC;\n",
              "    }\n",
              "\n",
              "    [theme=dark] .colab-df-convert:hover {\n",
              "      background-color: #434B5C;\n",
              "      box-shadow: 0px 1px 3px 1px rgba(0, 0, 0, 0.15);\n",
              "      filter: drop-shadow(0px 1px 2px rgba(0, 0, 0, 0.3));\n",
              "      fill: #FFFFFF;\n",
              "    }\n",
              "  </style>\n",
              "\n",
              "      <script>\n",
              "        const buttonEl =\n",
              "          document.querySelector('#df-36309b5e-a5bd-444c-8a34-ce97b8e85cbb button.colab-df-convert');\n",
              "        buttonEl.style.display =\n",
              "          google.colab.kernel.accessAllowed ? 'block' : 'none';\n",
              "\n",
              "        async function convertToInteractive(key) {\n",
              "          const element = document.querySelector('#df-36309b5e-a5bd-444c-8a34-ce97b8e85cbb');\n",
              "          const dataTable =\n",
              "            await google.colab.kernel.invokeFunction('convertToInteractive',\n",
              "                                                     [key], {});\n",
              "          if (!dataTable) return;\n",
              "\n",
              "          const docLinkHtml = 'Like what you see? Visit the ' +\n",
              "            '<a target=\"_blank\" href=https://colab.research.google.com/notebooks/data_table.ipynb>data table notebook</a>'\n",
              "            + ' to learn more about interactive tables.';\n",
              "          element.innerHTML = '';\n",
              "          dataTable['output_type'] = 'display_data';\n",
              "          await google.colab.output.renderOutput(dataTable, element);\n",
              "          const docLink = document.createElement('div');\n",
              "          docLink.innerHTML = docLinkHtml;\n",
              "          element.appendChild(docLink);\n",
              "        }\n",
              "      </script>\n",
              "    </div>\n",
              "  </div>\n",
              "  "
            ]
          },
          "metadata": {},
          "execution_count": 56
        }
      ]
    },
    {
      "cell_type": "code",
      "source": [
        "df.tail()"
      ],
      "metadata": {
        "colab": {
          "base_uri": "https://localhost:8080/",
          "height": 237
        },
        "id": "tSqwrlVM1GYf",
        "outputId": "bb6beebe-86b8-492b-ba0e-3fd4e61b1366"
      },
      "execution_count": null,
      "outputs": [
        {
          "output_type": "execute_result",
          "data": {
            "text/plain": [
              "            River  Boca  Racing\n",
              "date                           \n",
              "2023-05-28     59    29      23\n",
              "2023-06-04     63    29      31\n",
              "2023-06-11     56    22      23\n",
              "2023-06-18     57    26      24\n",
              "2023-06-25     64    25      22"
            ],
            "text/html": [
              "\n",
              "  <div id=\"df-9473cbb2-bb8c-4816-a405-521e4c2dd838\">\n",
              "    <div class=\"colab-df-container\">\n",
              "      <div>\n",
              "<style scoped>\n",
              "    .dataframe tbody tr th:only-of-type {\n",
              "        vertical-align: middle;\n",
              "    }\n",
              "\n",
              "    .dataframe tbody tr th {\n",
              "        vertical-align: top;\n",
              "    }\n",
              "\n",
              "    .dataframe thead th {\n",
              "        text-align: right;\n",
              "    }\n",
              "</style>\n",
              "<table border=\"1\" class=\"dataframe\">\n",
              "  <thead>\n",
              "    <tr style=\"text-align: right;\">\n",
              "      <th></th>\n",
              "      <th>River</th>\n",
              "      <th>Boca</th>\n",
              "      <th>Racing</th>\n",
              "    </tr>\n",
              "    <tr>\n",
              "      <th>date</th>\n",
              "      <th></th>\n",
              "      <th></th>\n",
              "      <th></th>\n",
              "    </tr>\n",
              "  </thead>\n",
              "  <tbody>\n",
              "    <tr>\n",
              "      <th>2023-05-28</th>\n",
              "      <td>59</td>\n",
              "      <td>29</td>\n",
              "      <td>23</td>\n",
              "    </tr>\n",
              "    <tr>\n",
              "      <th>2023-06-04</th>\n",
              "      <td>63</td>\n",
              "      <td>29</td>\n",
              "      <td>31</td>\n",
              "    </tr>\n",
              "    <tr>\n",
              "      <th>2023-06-11</th>\n",
              "      <td>56</td>\n",
              "      <td>22</td>\n",
              "      <td>23</td>\n",
              "    </tr>\n",
              "    <tr>\n",
              "      <th>2023-06-18</th>\n",
              "      <td>57</td>\n",
              "      <td>26</td>\n",
              "      <td>24</td>\n",
              "    </tr>\n",
              "    <tr>\n",
              "      <th>2023-06-25</th>\n",
              "      <td>64</td>\n",
              "      <td>25</td>\n",
              "      <td>22</td>\n",
              "    </tr>\n",
              "  </tbody>\n",
              "</table>\n",
              "</div>\n",
              "      <button class=\"colab-df-convert\" onclick=\"convertToInteractive('df-9473cbb2-bb8c-4816-a405-521e4c2dd838')\"\n",
              "              title=\"Convert this dataframe to an interactive table.\"\n",
              "              style=\"display:none;\">\n",
              "        \n",
              "  <svg xmlns=\"http://www.w3.org/2000/svg\" height=\"24px\"viewBox=\"0 0 24 24\"\n",
              "       width=\"24px\">\n",
              "    <path d=\"M0 0h24v24H0V0z\" fill=\"none\"/>\n",
              "    <path d=\"M18.56 5.44l.94 2.06.94-2.06 2.06-.94-2.06-.94-.94-2.06-.94 2.06-2.06.94zm-11 1L8.5 8.5l.94-2.06 2.06-.94-2.06-.94L8.5 2.5l-.94 2.06-2.06.94zm10 10l.94 2.06.94-2.06 2.06-.94-2.06-.94-.94-2.06-.94 2.06-2.06.94z\"/><path d=\"M17.41 7.96l-1.37-1.37c-.4-.4-.92-.59-1.43-.59-.52 0-1.04.2-1.43.59L10.3 9.45l-7.72 7.72c-.78.78-.78 2.05 0 2.83L4 21.41c.39.39.9.59 1.41.59.51 0 1.02-.2 1.41-.59l7.78-7.78 2.81-2.81c.8-.78.8-2.07 0-2.86zM5.41 20L4 18.59l7.72-7.72 1.47 1.35L5.41 20z\"/>\n",
              "  </svg>\n",
              "      </button>\n",
              "      \n",
              "  <style>\n",
              "    .colab-df-container {\n",
              "      display:flex;\n",
              "      flex-wrap:wrap;\n",
              "      gap: 12px;\n",
              "    }\n",
              "\n",
              "    .colab-df-convert {\n",
              "      background-color: #E8F0FE;\n",
              "      border: none;\n",
              "      border-radius: 50%;\n",
              "      cursor: pointer;\n",
              "      display: none;\n",
              "      fill: #1967D2;\n",
              "      height: 32px;\n",
              "      padding: 0 0 0 0;\n",
              "      width: 32px;\n",
              "    }\n",
              "\n",
              "    .colab-df-convert:hover {\n",
              "      background-color: #E2EBFA;\n",
              "      box-shadow: 0px 1px 2px rgba(60, 64, 67, 0.3), 0px 1px 3px 1px rgba(60, 64, 67, 0.15);\n",
              "      fill: #174EA6;\n",
              "    }\n",
              "\n",
              "    [theme=dark] .colab-df-convert {\n",
              "      background-color: #3B4455;\n",
              "      fill: #D2E3FC;\n",
              "    }\n",
              "\n",
              "    [theme=dark] .colab-df-convert:hover {\n",
              "      background-color: #434B5C;\n",
              "      box-shadow: 0px 1px 3px 1px rgba(0, 0, 0, 0.15);\n",
              "      filter: drop-shadow(0px 1px 2px rgba(0, 0, 0, 0.3));\n",
              "      fill: #FFFFFF;\n",
              "    }\n",
              "  </style>\n",
              "\n",
              "      <script>\n",
              "        const buttonEl =\n",
              "          document.querySelector('#df-9473cbb2-bb8c-4816-a405-521e4c2dd838 button.colab-df-convert');\n",
              "        buttonEl.style.display =\n",
              "          google.colab.kernel.accessAllowed ? 'block' : 'none';\n",
              "\n",
              "        async function convertToInteractive(key) {\n",
              "          const element = document.querySelector('#df-9473cbb2-bb8c-4816-a405-521e4c2dd838');\n",
              "          const dataTable =\n",
              "            await google.colab.kernel.invokeFunction('convertToInteractive',\n",
              "                                                     [key], {});\n",
              "          if (!dataTable) return;\n",
              "\n",
              "          const docLinkHtml = 'Like what you see? Visit the ' +\n",
              "            '<a target=\"_blank\" href=https://colab.research.google.com/notebooks/data_table.ipynb>data table notebook</a>'\n",
              "            + ' to learn more about interactive tables.';\n",
              "          element.innerHTML = '';\n",
              "          dataTable['output_type'] = 'display_data';\n",
              "          await google.colab.output.renderOutput(dataTable, element);\n",
              "          const docLink = document.createElement('div');\n",
              "          docLink.innerHTML = docLinkHtml;\n",
              "          element.appendChild(docLink);\n",
              "        }\n",
              "      </script>\n",
              "    </div>\n",
              "  </div>\n",
              "  "
            ]
          },
          "metadata": {},
          "execution_count": 57
        }
      ]
    },
    {
      "cell_type": "code",
      "source": [
        "df.shape"
      ],
      "metadata": {
        "colab": {
          "base_uri": "https://localhost:8080/"
        },
        "id": "u8nJLo5tynRB",
        "outputId": "97199d87-76e5-494a-cf43-8fa8ac142214"
      },
      "execution_count": null,
      "outputs": [
        {
          "output_type": "execute_result",
          "data": {
            "text/plain": [
              "(260, 3)"
            ]
          },
          "metadata": {},
          "execution_count": 58
        }
      ]
    },
    {
      "cell_type": "code",
      "source": [
        "stop_queries.sum()"
      ],
      "metadata": {
        "colab": {
          "base_uri": "https://localhost:8080/"
        },
        "id": "dh_lW1AV06Bg",
        "outputId": "46dfcd74-2364-4d21-d834-a57534502a13"
      },
      "execution_count": null,
      "outputs": [
        {
          "output_type": "execute_result",
          "data": {
            "text/plain": [
              "River     13724\n",
              "Boca       5944\n",
              "Racing     6149\n",
              "dtype: int64"
            ]
          },
          "metadata": {},
          "execution_count": 59
        }
      ]
    },
    {
      "cell_type": "markdown",
      "source": [
        "### **API Tweeter**"
      ],
      "metadata": {
        "id": "9wdtLgcopdPA"
      }
    },
    {
      "cell_type": "code",
      "source": [],
      "metadata": {
        "id": "lie0M_FmpVNw"
      },
      "execution_count": null,
      "outputs": []
    },
    {
      "cell_type": "markdown",
      "source": [
        "### **API Google**"
      ],
      "metadata": {
        "id": "0TfkbctFpWO_"
      }
    },
    {
      "cell_type": "code",
      "source": [
        "\n"
      ],
      "metadata": {
        "id": "axQzxXJeJcRV"
      },
      "execution_count": null,
      "outputs": []
    },
    {
      "cell_type": "markdown",
      "source": [
        "### **API Yahoo Finance**"
      ],
      "metadata": {
        "id": "GLfJibZJI_N_"
      }
    },
    {
      "cell_type": "code",
      "source": [
        "# Importo la API\n",
        "! pip install yfinance\n",
        "import yfinance as yf\n",
        "\n",
        "# Importo las librerias que voy a utilizar\n",
        "import pandas as pd\n",
        "import numpy as np\n",
        "import matplotlib as mpl\n",
        "import matplotlib.pyplot as plt\n",
        "import seaborn as sns\n"
      ],
      "metadata": {
        "id": "MRO-Da6U1yBv",
        "colab": {
          "base_uri": "https://localhost:8080/"
        },
        "outputId": "cbc647b2-074f-4255-fd4b-d04981968b05"
      },
      "execution_count": null,
      "outputs": [
        {
          "output_type": "stream",
          "name": "stdout",
          "text": [
            "Looking in indexes: https://pypi.org/simple, https://us-python.pkg.dev/colab-wheels/public/simple/\n",
            "Requirement already satisfied: yfinance in /usr/local/lib/python3.10/dist-packages (0.2.18)\n",
            "Requirement already satisfied: pandas>=1.3.0 in /usr/local/lib/python3.10/dist-packages (from yfinance) (1.5.3)\n",
            "Requirement already satisfied: numpy>=1.16.5 in /usr/local/lib/python3.10/dist-packages (from yfinance) (1.22.4)\n",
            "Requirement already satisfied: requests>=2.26 in /usr/local/lib/python3.10/dist-packages (from yfinance) (2.27.1)\n",
            "Requirement already satisfied: multitasking>=0.0.7 in /usr/local/lib/python3.10/dist-packages (from yfinance) (0.0.11)\n",
            "Requirement already satisfied: lxml>=4.9.1 in /usr/local/lib/python3.10/dist-packages (from yfinance) (4.9.2)\n",
            "Requirement already satisfied: appdirs>=1.4.4 in /usr/local/lib/python3.10/dist-packages (from yfinance) (1.4.4)\n",
            "Requirement already satisfied: pytz>=2022.5 in /usr/local/lib/python3.10/dist-packages (from yfinance) (2022.7.1)\n",
            "Requirement already satisfied: frozendict>=2.3.4 in /usr/local/lib/python3.10/dist-packages (from yfinance) (2.3.7)\n",
            "Requirement already satisfied: cryptography>=3.3.2 in /usr/local/lib/python3.10/dist-packages (from yfinance) (40.0.2)\n",
            "Requirement already satisfied: beautifulsoup4>=4.11.1 in /usr/local/lib/python3.10/dist-packages (from yfinance) (4.11.2)\n",
            "Requirement already satisfied: html5lib>=1.1 in /usr/local/lib/python3.10/dist-packages (from yfinance) (1.1)\n",
            "Requirement already satisfied: soupsieve>1.2 in /usr/local/lib/python3.10/dist-packages (from beautifulsoup4>=4.11.1->yfinance) (2.4.1)\n",
            "Requirement already satisfied: cffi>=1.12 in /usr/local/lib/python3.10/dist-packages (from cryptography>=3.3.2->yfinance) (1.15.1)\n",
            "Requirement already satisfied: six>=1.9 in /usr/local/lib/python3.10/dist-packages (from html5lib>=1.1->yfinance) (1.16.0)\n",
            "Requirement already satisfied: webencodings in /usr/local/lib/python3.10/dist-packages (from html5lib>=1.1->yfinance) (0.5.1)\n",
            "Requirement already satisfied: python-dateutil>=2.8.1 in /usr/local/lib/python3.10/dist-packages (from pandas>=1.3.0->yfinance) (2.8.2)\n",
            "Requirement already satisfied: urllib3<1.27,>=1.21.1 in /usr/local/lib/python3.10/dist-packages (from requests>=2.26->yfinance) (1.26.15)\n",
            "Requirement already satisfied: certifi>=2017.4.17 in /usr/local/lib/python3.10/dist-packages (from requests>=2.26->yfinance) (2022.12.7)\n",
            "Requirement already satisfied: charset-normalizer~=2.0.0 in /usr/local/lib/python3.10/dist-packages (from requests>=2.26->yfinance) (2.0.12)\n",
            "Requirement already satisfied: idna<4,>=2.5 in /usr/local/lib/python3.10/dist-packages (from requests>=2.26->yfinance) (3.4)\n",
            "Requirement already satisfied: pycparser in /usr/local/lib/python3.10/dist-packages (from cffi>=1.12->cryptography>=3.3.2->yfinance) (2.21)\n",
            "Traceback (most recent call last):\n",
            "  File \"/usr/local/lib/python3.10/dist-packages/pip/_vendor/pkg_resources/__init__.py\", line 3108, in _dep_map\n",
            "    return self.__dep_map\n",
            "  File \"/usr/local/lib/python3.10/dist-packages/pip/_vendor/pkg_resources/__init__.py\", line 2901, in __getattr__\n",
            "    raise AttributeError(attr)\n",
            "AttributeError: _DistInfoDistribution__dep_map\n",
            "\n",
            "During handling of the above exception, another exception occurred:\n",
            "\n",
            "Traceback (most recent call last):\n",
            "  File \"/usr/local/lib/python3.10/dist-packages/pip/_vendor/pyparsing/core.py\", line 4114, in parseImpl\n",
            "    return e._parse(\n",
            "  File \"/usr/local/lib/python3.10/dist-packages/pip/_vendor/pyparsing/core.py\", line 821, in _parseNoCache\n",
            "    loc, tokens = self.parseImpl(instring, pre_loc, doActions)\n",
            "  File \"/usr/local/lib/python3.10/dist-packages/pip/_vendor/pyparsing/core.py\", line 2857, in parseImpl\n",
            "    raise ParseException(instring, loc, self.errmsg, self)\n",
            "pip._vendor.pyparsing.exceptions.ParseException: Expected W:(0-9A-Za-z), found '-'  (at char 7), (line:1, col:8)\n",
            "\n",
            "During handling of the above exception, another exception occurred:\n",
            "\n",
            "Traceback (most recent call last):\n",
            "  File \"/usr/local/lib/python3.10/dist-packages/pip/_internal/cli/base_command.py\", line 169, in exc_logging_wrapper\n",
            "    status = run_func(*args)\n",
            "  File \"/usr/local/lib/python3.10/dist-packages/pip/_internal/cli/req_command.py\", line 242, in wrapper\n",
            "    return func(self, options, args)\n",
            "  File \"/usr/local/lib/python3.10/dist-packages/pip/_internal/commands/install.py\", line 441, in run\n",
            "    conflicts = self._determine_conflicts(to_install)\n",
            "  File \"/usr/local/lib/python3.10/dist-packages/pip/_internal/commands/install.py\", line 572, in _determine_conflicts\n",
            "    return check_install_conflicts(to_install)\n",
            "  File \"/usr/local/lib/python3.10/dist-packages/pip/_internal/operations/check.py\", line 101, in check_install_conflicts\n",
            "    package_set, _ = create_package_set_from_installed()\n",
            "  File \"/usr/local/lib/python3.10/dist-packages/pip/_internal/operations/check.py\", line 42, in create_package_set_from_installed\n",
            "    dependencies = list(dist.iter_dependencies())\n",
            "  File \"/usr/local/lib/python3.10/dist-packages/pip/_internal/metadata/pkg_resources.py\", line 216, in iter_dependencies\n",
            "    return self._dist.requires(extras)\n",
            "  File \"/usr/local/lib/python3.10/dist-packages/pip/_vendor/pkg_resources/__init__.py\", line 2821, in requires\n",
            "    dm = self._dep_map\n",
            "  File \"/usr/local/lib/python3.10/dist-packages/pip/_vendor/pkg_resources/__init__.py\", line 3110, in _dep_map\n",
            "    self.__dep_map = self._compute_dependencies()\n",
            "  File \"/usr/local/lib/python3.10/dist-packages/pip/_vendor/pkg_resources/__init__.py\", line 3120, in _compute_dependencies\n",
            "    reqs.extend(parse_requirements(req))\n",
            "  File \"/usr/local/lib/python3.10/dist-packages/pip/_vendor/pkg_resources/__init__.py\", line 3173, in __init__\n",
            "    super(Requirement, self).__init__(requirement_string)\n",
            "  File \"/usr/local/lib/python3.10/dist-packages/pip/_vendor/packaging/requirements.py\", line 102, in __init__\n",
            "    req = REQUIREMENT.parseString(requirement_string)\n",
            "  File \"/usr/local/lib/python3.10/dist-packages/pip/_vendor/pyparsing/core.py\", line 1131, in parse_string\n",
            "    loc, tokens = self._parse(instring, 0)\n",
            "  File \"/usr/local/lib/python3.10/dist-packages/pip/_vendor/pyparsing/core.py\", line 817, in _parseNoCache\n",
            "    loc, tokens = self.parseImpl(instring, pre_loc, doActions)\n",
            "  File \"/usr/local/lib/python3.10/dist-packages/pip/_vendor/pyparsing/core.py\", line 3886, in parseImpl\n",
            "    loc, exprtokens = e._parse(instring, loc, doActions)\n",
            "  File \"/usr/local/lib/python3.10/dist-packages/pip/_vendor/pyparsing/core.py\", line 817, in _parseNoCache\n",
            "    loc, tokens = self.parseImpl(instring, pre_loc, doActions)\n",
            "  File \"/usr/local/lib/python3.10/dist-packages/pip/_vendor/pyparsing/core.py\", line 4375, in parseImpl\n",
            "    return self.expr._parse(instring, loc, doActions, callPreParse=False)\n",
            "  File \"/usr/local/lib/python3.10/dist-packages/pip/_vendor/pyparsing/core.py\", line 817, in _parseNoCache\n",
            "    loc, tokens = self.parseImpl(instring, pre_loc, doActions)\n",
            "  File \"/usr/local/lib/python3.10/dist-packages/pip/_vendor/pyparsing/core.py\", line 3886, in parseImpl\n",
            "    loc, exprtokens = e._parse(instring, loc, doActions)\n",
            "  File \"/usr/local/lib/python3.10/dist-packages/pip/_vendor/pyparsing/core.py\", line 817, in _parseNoCache\n",
            "    loc, tokens = self.parseImpl(instring, pre_loc, doActions)\n",
            "  File \"/usr/local/lib/python3.10/dist-packages/pip/_vendor/pyparsing/core.py\", line 4891, in parseImpl\n",
            "    return super().parseImpl(instring, loc, doActions)\n",
            "  File \"/usr/local/lib/python3.10/dist-packages/pip/_vendor/pyparsing/core.py\", line 4790, in parseImpl\n",
            "    loc, tokens = self_expr_parse(instring, loc, doActions)\n",
            "  File \"/usr/local/lib/python3.10/dist-packages/pip/_vendor/pyparsing/core.py\", line 817, in _parseNoCache\n",
            "    loc, tokens = self.parseImpl(instring, pre_loc, doActions)\n",
            "  File \"/usr/local/lib/python3.10/dist-packages/pip/_vendor/pyparsing/core.py\", line 4114, in parseImpl\n",
            "    return e._parse(\n",
            "KeyboardInterrupt\n",
            "\n",
            "During handling of the above exception, another exception occurred:\n",
            "\n",
            "Traceback (most recent call last):\n",
            "  File \"/usr/local/bin/pip3\", line 8, in <module>\n",
            "    sys.exit(main())\n",
            "  File \"/usr/local/lib/python3.10/dist-packages/pip/_internal/cli/main.py\", line 79, in main\n",
            "    return command.main(cmd_args)\n",
            "  File \"/usr/local/lib/python3.10/dist-packages/pip/_internal/cli/base_command.py\", line 101, in main\n",
            "    return self._main(args)\n",
            "  File \"/usr/local/lib/python3.10/dist-packages/pip/_internal/cli/base_command.py\", line 223, in _main\n",
            "    return run(options, args)\n",
            "  File \"/usr/local/lib/python3.10/dist-packages/pip/_internal/cli/base_command.py\", line 206, in exc_logging_wrapper\n",
            "    logger.critical(\"Operation cancelled by user\")\n",
            "  File \"/usr/lib/python3.10/logging/__init__.py\", line 1524, in critical\n",
            "    self._log(CRITICAL, msg, args, **kwargs)\n",
            "  File \"/usr/lib/python3.10/logging/__init__.py\", line 1624, in _log\n",
            "    self.handle(record)\n",
            "  File \"/usr/lib/python3.10/logging/__init__.py\", line 1634, in handle\n",
            "    self.callHandlers(record)\n",
            "  File \"/usr/lib/python3.10/logging/__init__.py\", line 1696, in callHandlers\n",
            "    hdlr.handle(record)\n",
            "  File \"/usr/lib/python3.10/logging/__init__.py\", line 968, in handle\n",
            "    self.emit(record)\n",
            "  File \"/usr/local/lib/python3.10/dist-packages/pip/_internal/utils/logging.py\", line 177, in emit\n",
            "    self.console.print(renderable, overflow=\"ignore\", crop=False, style=style)\n",
            "  File \"/usr/local/lib/python3.10/dist-packages/pip/_vendor/rich/console.py\", line 1683, in print\n",
            "    render_options = self.options.update(\n",
            "  File \"/usr/local/lib/python3.10/dist-packages/pip/_vendor/rich/console.py\", line 981, in options\n",
            "    max_height=self.size.height,\n",
            "  File \"/usr/local/lib/python3.10/dist-packages/pip/_vendor/rich/console.py\", line 1001, in size\n",
            "    if self.is_dumb_terminal:\n",
            "  File \"/usr/local/lib/python3.10/dist-packages/pip/_vendor/rich/console.py\", line 975, in is_dumb_terminal\n",
            "    return self.is_terminal and is_dumb\n",
            "  File \"/usr/local/lib/python3.10/dist-packages/pip/_vendor/rich/console.py\", line 958, in is_terminal\n",
            "    return False if isatty is None else isatty()\n",
            "KeyboardInterrupt\n",
            "^C\n"
          ]
        }
      ]
    },
    {
      "cell_type": "code",
      "source": [
        "#DataFrame de COTIZACIONES al cierre desde el 2001\n",
        "df= pd.DataFrame()\n",
        "\n",
        "a=['AAPL','AMZN','MSFT','TSLA','GOOG','NVDA']\n",
        "for a in a:\n",
        "  df[a]=yf.Ticker(a).history(start='2000-01-01').Close\n",
        "\n",
        "df.head()"
      ],
      "metadata": {
        "id": "ZzKEXPl21yEu",
        "colab": {
          "base_uri": "https://localhost:8080/",
          "height": 237
        },
        "outputId": "8689f3e7-11ed-41dc-fefe-8c98199dd4a4"
      },
      "execution_count": null,
      "outputs": [
        {
          "output_type": "execute_result",
          "data": {
            "text/plain": [
              "                               AAPL      AMZN       MSFT  TSLA  GOOG      NVDA\n",
              "Date                                                                          \n",
              "2000-01-03 00:00:00-05:00  0.850643  4.468750  36.361568   NaN   NaN  0.894895\n",
              "2000-01-04 00:00:00-05:00  0.778926  4.096875  35.133274   NaN   NaN  0.871000\n",
              "2000-01-05 00:00:00-05:00  0.790324  3.487500  35.503700   NaN   NaN  0.842325\n",
              "2000-01-06 00:00:00-05:00  0.721930  3.278125  34.314411   NaN   NaN  0.787365\n",
              "2000-01-07 00:00:00-05:00  0.756127  3.478125  34.762848   NaN   NaN  0.800507"
            ],
            "text/html": [
              "\n",
              "  <div id=\"df-9963ea1b-d569-4835-b353-af3358c626d1\">\n",
              "    <div class=\"colab-df-container\">\n",
              "      <div>\n",
              "<style scoped>\n",
              "    .dataframe tbody tr th:only-of-type {\n",
              "        vertical-align: middle;\n",
              "    }\n",
              "\n",
              "    .dataframe tbody tr th {\n",
              "        vertical-align: top;\n",
              "    }\n",
              "\n",
              "    .dataframe thead th {\n",
              "        text-align: right;\n",
              "    }\n",
              "</style>\n",
              "<table border=\"1\" class=\"dataframe\">\n",
              "  <thead>\n",
              "    <tr style=\"text-align: right;\">\n",
              "      <th></th>\n",
              "      <th>AAPL</th>\n",
              "      <th>AMZN</th>\n",
              "      <th>MSFT</th>\n",
              "      <th>TSLA</th>\n",
              "      <th>GOOG</th>\n",
              "      <th>NVDA</th>\n",
              "    </tr>\n",
              "    <tr>\n",
              "      <th>Date</th>\n",
              "      <th></th>\n",
              "      <th></th>\n",
              "      <th></th>\n",
              "      <th></th>\n",
              "      <th></th>\n",
              "      <th></th>\n",
              "    </tr>\n",
              "  </thead>\n",
              "  <tbody>\n",
              "    <tr>\n",
              "      <th>2000-01-03 00:00:00-05:00</th>\n",
              "      <td>0.850643</td>\n",
              "      <td>4.468750</td>\n",
              "      <td>36.361568</td>\n",
              "      <td>NaN</td>\n",
              "      <td>NaN</td>\n",
              "      <td>0.894895</td>\n",
              "    </tr>\n",
              "    <tr>\n",
              "      <th>2000-01-04 00:00:00-05:00</th>\n",
              "      <td>0.778926</td>\n",
              "      <td>4.096875</td>\n",
              "      <td>35.133274</td>\n",
              "      <td>NaN</td>\n",
              "      <td>NaN</td>\n",
              "      <td>0.871000</td>\n",
              "    </tr>\n",
              "    <tr>\n",
              "      <th>2000-01-05 00:00:00-05:00</th>\n",
              "      <td>0.790324</td>\n",
              "      <td>3.487500</td>\n",
              "      <td>35.503700</td>\n",
              "      <td>NaN</td>\n",
              "      <td>NaN</td>\n",
              "      <td>0.842325</td>\n",
              "    </tr>\n",
              "    <tr>\n",
              "      <th>2000-01-06 00:00:00-05:00</th>\n",
              "      <td>0.721930</td>\n",
              "      <td>3.278125</td>\n",
              "      <td>34.314411</td>\n",
              "      <td>NaN</td>\n",
              "      <td>NaN</td>\n",
              "      <td>0.787365</td>\n",
              "    </tr>\n",
              "    <tr>\n",
              "      <th>2000-01-07 00:00:00-05:00</th>\n",
              "      <td>0.756127</td>\n",
              "      <td>3.478125</td>\n",
              "      <td>34.762848</td>\n",
              "      <td>NaN</td>\n",
              "      <td>NaN</td>\n",
              "      <td>0.800507</td>\n",
              "    </tr>\n",
              "  </tbody>\n",
              "</table>\n",
              "</div>\n",
              "      <button class=\"colab-df-convert\" onclick=\"convertToInteractive('df-9963ea1b-d569-4835-b353-af3358c626d1')\"\n",
              "              title=\"Convert this dataframe to an interactive table.\"\n",
              "              style=\"display:none;\">\n",
              "        \n",
              "  <svg xmlns=\"http://www.w3.org/2000/svg\" height=\"24px\"viewBox=\"0 0 24 24\"\n",
              "       width=\"24px\">\n",
              "    <path d=\"M0 0h24v24H0V0z\" fill=\"none\"/>\n",
              "    <path d=\"M18.56 5.44l.94 2.06.94-2.06 2.06-.94-2.06-.94-.94-2.06-.94 2.06-2.06.94zm-11 1L8.5 8.5l.94-2.06 2.06-.94-2.06-.94L8.5 2.5l-.94 2.06-2.06.94zm10 10l.94 2.06.94-2.06 2.06-.94-2.06-.94-.94-2.06-.94 2.06-2.06.94z\"/><path d=\"M17.41 7.96l-1.37-1.37c-.4-.4-.92-.59-1.43-.59-.52 0-1.04.2-1.43.59L10.3 9.45l-7.72 7.72c-.78.78-.78 2.05 0 2.83L4 21.41c.39.39.9.59 1.41.59.51 0 1.02-.2 1.41-.59l7.78-7.78 2.81-2.81c.8-.78.8-2.07 0-2.86zM5.41 20L4 18.59l7.72-7.72 1.47 1.35L5.41 20z\"/>\n",
              "  </svg>\n",
              "      </button>\n",
              "      \n",
              "  <style>\n",
              "    .colab-df-container {\n",
              "      display:flex;\n",
              "      flex-wrap:wrap;\n",
              "      gap: 12px;\n",
              "    }\n",
              "\n",
              "    .colab-df-convert {\n",
              "      background-color: #E8F0FE;\n",
              "      border: none;\n",
              "      border-radius: 50%;\n",
              "      cursor: pointer;\n",
              "      display: none;\n",
              "      fill: #1967D2;\n",
              "      height: 32px;\n",
              "      padding: 0 0 0 0;\n",
              "      width: 32px;\n",
              "    }\n",
              "\n",
              "    .colab-df-convert:hover {\n",
              "      background-color: #E2EBFA;\n",
              "      box-shadow: 0px 1px 2px rgba(60, 64, 67, 0.3), 0px 1px 3px 1px rgba(60, 64, 67, 0.15);\n",
              "      fill: #174EA6;\n",
              "    }\n",
              "\n",
              "    [theme=dark] .colab-df-convert {\n",
              "      background-color: #3B4455;\n",
              "      fill: #D2E3FC;\n",
              "    }\n",
              "\n",
              "    [theme=dark] .colab-df-convert:hover {\n",
              "      background-color: #434B5C;\n",
              "      box-shadow: 0px 1px 3px 1px rgba(0, 0, 0, 0.15);\n",
              "      filter: drop-shadow(0px 1px 2px rgba(0, 0, 0, 0.3));\n",
              "      fill: #FFFFFF;\n",
              "    }\n",
              "  </style>\n",
              "\n",
              "      <script>\n",
              "        const buttonEl =\n",
              "          document.querySelector('#df-9963ea1b-d569-4835-b353-af3358c626d1 button.colab-df-convert');\n",
              "        buttonEl.style.display =\n",
              "          google.colab.kernel.accessAllowed ? 'block' : 'none';\n",
              "\n",
              "        async function convertToInteractive(key) {\n",
              "          const element = document.querySelector('#df-9963ea1b-d569-4835-b353-af3358c626d1');\n",
              "          const dataTable =\n",
              "            await google.colab.kernel.invokeFunction('convertToInteractive',\n",
              "                                                     [key], {});\n",
              "          if (!dataTable) return;\n",
              "\n",
              "          const docLinkHtml = 'Like what you see? Visit the ' +\n",
              "            '<a target=\"_blank\" href=https://colab.research.google.com/notebooks/data_table.ipynb>data table notebook</a>'\n",
              "            + ' to learn more about interactive tables.';\n",
              "          element.innerHTML = '';\n",
              "          dataTable['output_type'] = 'display_data';\n",
              "          await google.colab.output.renderOutput(dataTable, element);\n",
              "          const docLink = document.createElement('div');\n",
              "          docLink.innerHTML = docLinkHtml;\n",
              "          element.appendChild(docLink);\n",
              "        }\n",
              "      </script>\n",
              "    </div>\n",
              "  </div>\n",
              "  "
            ]
          },
          "metadata": {},
          "execution_count": 3
        }
      ]
    },
    {
      "cell_type": "markdown",
      "source": [
        "#**Importar Librerias**"
      ],
      "metadata": {
        "id": "zJCEjGh542kH"
      }
    },
    {
      "cell_type": "markdown",
      "source": [
        "## Basicas\n",
        "\n",
        "(C3-C6)"
      ],
      "metadata": {
        "id": "BW3U3hYq78Zw"
      }
    },
    {
      "cell_type": "code",
      "source": [
        "#Importar Librerias basicas\n",
        "import pandas as pd\n",
        "import numpy as np"
      ],
      "metadata": {
        "id": "oN6zU-6X1yVm"
      },
      "execution_count": null,
      "outputs": []
    },
    {
      "cell_type": "markdown",
      "source": [
        "## Visualizacion\n",
        "\n",
        "(C7,C8, C10)"
      ],
      "metadata": {
        "id": "bUDo5X-Y8Aw3"
      }
    },
    {
      "cell_type": "code",
      "source": [
        "#Importar Librerias de Visualizacion\n",
        "import matplotlib as mpl\n",
        "import matplotlib.pyplot as plt\n",
        "import seaborn as sns\n",
        "\n",
        "#Facegrid\n",
        "from matplotlib.gridspec import GridSpec\n",
        "\n",
        "#Pyplot\n",
        "!pip install chart_studio\n",
        "\n",
        "import chart_studio.plotly as py\n",
        "import seaborn as sns\n",
        "import plotly.express as px\n",
        "\n",
        "\n",
        "#Bokeh\n",
        "import bokeh\n",
        "from bokeh.palettes import Spectral6\n",
        "from bokeh.io import show, output_notebook\n",
        "from bokeh.models import CategoricalColorMapper, ColumnDataSource, FactorRange\n",
        "from bokeh.plotting import figure\n",
        "from bokeh.models import HoverTool, ColumnarDataSource\n",
        "from bokeh.plotting import figure, show, output_notebook\n",
        "from bokeh.io import output_file"
      ],
      "metadata": {
        "id": "CL6Xq3Bc8HIP"
      },
      "execution_count": null,
      "outputs": []
    },
    {
      "cell_type": "markdown",
      "source": [
        "## Estadisticas\n",
        "\n",
        "(C9)"
      ],
      "metadata": {
        "id": "vd2cChr_8H-n"
      }
    },
    {
      "cell_type": "code",
      "source": [
        "#Importar STATS\n",
        "\n",
        "import statsmodels\n",
        "import statsmodels.api as sm\n",
        "import statsmodels.stats.api as sms\n",
        "\n",
        "from statsmodels.formula.api import ols\n",
        "from scipy import stats\n",
        "from scipy.stats import t\n",
        "\n",
        "#Importar Funcion: pairwise tests\n",
        "! pip install pingouin\n",
        "from pingouin import pairwise_ttests\n"
      ],
      "metadata": {
        "id": "rBd4QrhrwUv6"
      },
      "execution_count": null,
      "outputs": []
    },
    {
      "cell_type": "markdown",
      "source": [
        "## Machine Learning"
      ],
      "metadata": {
        "id": "FsVsTzE7wNzI"
      }
    },
    {
      "cell_type": "code",
      "source": [
        "# Importar datasets\n",
        "from sklearn import datasets\n",
        "from sklearn.datasets import load_breast_cancer\n",
        "\n",
        "\n",
        "#Arbol de Decision\n",
        "from sklearn.tree import DecisionTreeClassifier\n",
        "from sklearn import tree\n",
        "\n",
        "#Regresion Logistica\n",
        "from sklearn.linear_model import LogisticRegression\n",
        "from sklearn.metrics import accuracy_score\n",
        "\n",
        "#Split: Train & Test\n",
        "from sklearn.model_selection import train_test_split\n",
        "\n",
        "#Matrix de confusion\n",
        "from sklearn.metrics import confusion_matrix"
      ],
      "metadata": {
        "id": "9UGbqO76wdxI"
      },
      "execution_count": null,
      "outputs": []
    },
    {
      "cell_type": "markdown",
      "source": [
        "## Data Wrangling"
      ],
      "metadata": {
        "id": "iScAX2R89LQy"
      }
    },
    {
      "cell_type": "code",
      "source": [
        "from sklearn.datasets import load_wine"
      ],
      "metadata": {
        "id": "hQs1qTRd9OuY"
      },
      "execution_count": null,
      "outputs": []
    },
    {
      "cell_type": "code",
      "source": [],
      "metadata": {
        "id": "wYk0qi6F1yeG"
      },
      "execution_count": null,
      "outputs": []
    },
    {
      "cell_type": "markdown",
      "source": [
        "#2)  **EDA**\n",
        "\n",
        "C16 Casos Practicos: https://colab.research.google.com/drive/1M2jO6oDhJsC9J7ZIew6o9jvRwEShMqIx\n",
        "\n",
        "Funnel Mercado Pago: https://colab.research.google.com/drive/1rCcIizVgh8kIyrOAI7GRPY4n4Xsdru3z\n",
        "\n",
        "C17 Casos Practicos II: https://colab.research.google.com/drive/1I6AIKfSf28D9m-4IJ2S3f-a8bSq9ODLm\n",
        "\n",
        "RRHH IBM:https://colab.research.google.com/drive/1jySHGHHvDelAegqUNwg4_lLdCJcUuLmW\n",
        "\n",
        "\n",
        "\n",
        "\n",
        "C31 EDA: https://colab.research.google.com/drive/1bKCPNMe_TcjMtrsxDC0sVJJxEiLQjDzI\n",
        "\n"
      ],
      "metadata": {
        "id": "DA1H_n8Y-uv3"
      }
    },
    {
      "cell_type": "markdown",
      "source": [
        "### Nivel General df"
      ],
      "metadata": {
        "id": "gmch3OscdCjX"
      }
    },
    {
      "cell_type": "code",
      "source": [
        "##GENERAL DEL DATASET\n",
        "# Filas,Columnas\n",
        "df.shape\n",
        "#Primeras 5 columnas\n",
        "df.head()\n",
        "# Ultimas 5 Columnas\n",
        "df.tail()\n",
        "\n",
        "\n",
        "\n",
        "##POR COLUMNAS\n",
        "# Expone los Nulos y Type que tiene cada Columna\n",
        "df.info()\n",
        "#Nombre de las Columnas\n",
        "df.columns\n",
        "\n",
        "#Datos Nulos por columna\n",
        "df.isnull()\n",
        "#Suma de Datos Nulos por columna\n",
        "df.isnull().sum()\n",
        "\n",
        "#Filas Duplicadas\n",
        "df.duplicated()\n",
        "#Suma de Filas Duplicadas\n",
        "df.duplicated().sum()\n",
        "\n",
        "#Expone cuantos valores unicos tiene cada Columna\n",
        "df.nunique()\n",
        "\n",
        "\n",
        "\n",
        "##ESTADISTICOS\n",
        "# Principales valores estadisticos\n",
        "df.describe()\n",
        "#Correlaciones entre variables\n",
        "df.corr()\n",
        "\n",
        "#Girar el Dataframe\n",
        "df.T\n",
        "\n"
      ],
      "metadata": {
        "id": "QGTr_9-M-XtX"
      },
      "execution_count": null,
      "outputs": []
    },
    {
      "cell_type": "markdown",
      "source": [
        "## Nivel Columnas"
      ],
      "metadata": {
        "id": "lyeaPceDppTO"
      }
    },
    {
      "cell_type": "code",
      "source": [
        "#Mostrar los valores unicos de una determinada columna\n",
        "df.COLUMNAX.unique()\n",
        "#Contar la cantidad de  que aparece cada instancia de la columna\n",
        "df.COLUMNAX.value_counts()\n",
        "#Veces que aparece un valor determinado en un objeto(lista, dic, df)\n",
        "OBJETO.count(VALOR)"
      ],
      "metadata": {
        "id": "axj73rLpppb9"
      },
      "execution_count": null,
      "outputs": []
    },
    {
      "cell_type": "markdown",
      "source": [
        "## **Dashboard Data Profiling**"
      ],
      "metadata": {
        "id": "e0IPMR_ypQNP"
      }
    },
    {
      "cell_type": "code",
      "source": [
        "#Data Profiling\n",
        "!pip install pandas_profiling\n",
        "import pandas_profiling\n",
        "\n",
        "profile = pandas_profiling.ProfileReport(df)\n",
        "profile"
      ],
      "metadata": {
        "id": "IXzVVs8vpQZg"
      },
      "execution_count": null,
      "outputs": []
    },
    {
      "cell_type": "markdown",
      "source": [
        "## **Graficos**"
      ],
      "metadata": {
        "id": "UxVDnSacKgyO"
      }
    },
    {
      "cell_type": "markdown",
      "source": [
        "Graficos Generales Dataset"
      ],
      "metadata": {
        "id": "q6H6_p6OhcPH"
      }
    },
    {
      "cell_type": "code",
      "source": [
        "# Grafico Histograma de todas las variables\n",
        "df.hist(figsize= (20,20))"
      ],
      "metadata": {
        "id": "FT5ZgFNqq_Li"
      },
      "execution_count": null,
      "outputs": []
    },
    {
      "cell_type": "code",
      "source": [
        "#Correlacion entre variables\n",
        "plt.figure(figsize=(8,4))\n",
        "sns.heatmap(df.corr(), mask = np.triu(df.corr()), cmap = 'Blues')\n",
        "\n",
        "#Opcion 2\n",
        "f, ax = plt.subplots(figsize = (20,20))\n",
        "sns.heatmap(df.corr(), annot = True)\n",
        "\n",
        "#Opcion 3\n",
        "sns.heatmap(df.corr(), cmap='jet')"
      ],
      "metadata": {
        "id": "cVKGIURkKj1F"
      },
      "execution_count": null,
      "outputs": []
    },
    {
      "cell_type": "code",
      "source": [
        "#Pairplot del dataset\n",
        "plt.figure(dpi=120)\n",
        "sns.pairplot(df)\n",
        "plt.show()"
      ],
      "metadata": {
        "id": "l6gp9GNbhB4v"
      },
      "execution_count": null,
      "outputs": []
    },
    {
      "cell_type": "markdown",
      "source": [
        "Analizo Datos Nulos"
      ],
      "metadata": {
        "id": "fQvomy7Rg4gm"
      }
    },
    {
      "cell_type": "code",
      "source": [
        "#Analizo Datos Nulos\n",
        "pip install missingno\n",
        "\n",
        "import missingno as msno\n",
        "#Matrix\n",
        "msno.matrix(df)"
      ],
      "metadata": {
        "id": "2Nw9YSSAFUVx"
      },
      "execution_count": null,
      "outputs": []
    },
    {
      "cell_type": "markdown",
      "source": [
        "Analizo Outliers"
      ],
      "metadata": {
        "id": "Sb_b4DnHg9Cl"
      }
    },
    {
      "cell_type": "code",
      "source": [
        "# Con atipicos\n",
        "plt.figure(figsize=(12,6))\n",
        "sns.boxplot(data=df)"
      ],
      "metadata": {
        "id": "Vyz5joYhhGZ2"
      },
      "execution_count": null,
      "outputs": []
    },
    {
      "cell_type": "code",
      "source": [
        "# Sin atipicos\n",
        "plt.figure(figsize=(12,6))\n",
        "sns.boxplot(data=df, showfliers=False)"
      ],
      "metadata": {
        "id": "EVHn-8Mtg-th"
      },
      "execution_count": null,
      "outputs": []
    },
    {
      "cell_type": "markdown",
      "source": [
        "Otros"
      ],
      "metadata": {
        "id": "LzuecFqphJMH"
      }
    },
    {
      "cell_type": "code",
      "source": [
        "#Countplot\n",
        "sns.countplot(x=df['COL'])\n",
        "\n",
        "#Countplot con diferenciacion de booleanos\n",
        "plt.figure(figsize= (20,20))\n",
        "sns.countplot(x = 'COL', hue= 'COL_BOOLEANA', data=df)\n"
      ],
      "metadata": {
        "id": "GlSLlfBgLtjP"
      },
      "execution_count": null,
      "outputs": []
    },
    {
      "cell_type": "code",
      "source": [
        "#Muestro distribucion en un Boxplot y Distribucion\n",
        "fig = plt.figure(figsize=(12, 5))\n",
        "\n",
        "ax1 = fig.add_subplot(121)\n",
        "sns.boxplot(x='COL_CATEGORICA', y='COL_CUANTITATIVA', data=df, ax=ax1)\n",
        "\n",
        "ax2 = fig.add_subplot(122)\n",
        "sns.stripplot(x='conCOL_CATEGORICAdition', y='COL_CUANTITATIVA', data=df, ax=ax2)"
      ],
      "metadata": {
        "id": "Aukt_BCNDeGZ"
      },
      "execution_count": null,
      "outputs": []
    },
    {
      "cell_type": "code",
      "source": [
        "#Muestro distribucion en un Boxplot, Countplot y Distribucion\n",
        "fig = plt.figure(figsize=(18, 5))\n",
        "\n",
        "ax1 = fig.add_subplot(131)\n",
        "sns.boxplot(x='COL_CATEGORICA', y='COL_CUANTITATIVA', data=df, ax=ax1)\n",
        "\n",
        "ax2 = fig.add_subplot(132)\n",
        "sns.countplot(x='COL_CATEGORICA', data=df, ax=ax2)\n",
        "\n",
        "ax3 = fig.add_subplot(133)\n",
        "sns.stripplot(x='bedCOL_CATEGORICArooms', y='COL_CUANTITATIVA', data=df, ax=ax3)\n"
      ],
      "metadata": {
        "id": "6sLGxjTVDctF"
      },
      "execution_count": null,
      "outputs": []
    },
    {
      "cell_type": "code",
      "source": [
        "#Comparar dos Booleanas\n",
        "plt.figure(figsize= (20,20))\n",
        "sns.kdeplot(df['COL_BOOLEANA_1'], color='r', shade= True)\n",
        "sns.kdeplot(df['COL_BOOLEANA_2'], color='b', shade= True)"
      ],
      "metadata": {
        "id": "R-ShRqPRMmxO"
      },
      "execution_count": null,
      "outputs": []
    },
    {
      "cell_type": "code",
      "source": [
        "#kde Distribucionde frecuencias comparo 2 columnas\n",
        "plt.figure(figsize = (12,7))\n",
        "sns.kdeplot(df['COL1'], label = 'ETIQUETA_COL1', color = 'r', shade = True)\n",
        "sns.kdeplot(df['COL2'], label = 'ETIQUETA_COL1', color = 'b', shade = True)"
      ],
      "metadata": {
        "id": "Buuz_FRX9gVk"
      },
      "execution_count": null,
      "outputs": []
    },
    {
      "cell_type": "code",
      "source": [
        "#Boxplot: Comparo dos variables categoricas en relacion a una cuantitativa (HORIZONTAL)\n",
        "plt.figure(figsize= (20,20))\n",
        "sns.boxplot(x='COL_CUANTITATIVA', y=\"COL_CATEGORICA\", data=df )\n",
        "\n",
        "#Boxplot: Segunda Opcion VERTICAL y tipo BOXEN\n",
        "sns.catplot(x='COL_CATEGORICA', y='COL_CUANTITATIVA', data=df,\n",
        "            kind='boxen', height=5, aspect=2)\n",
        "\n"
      ],
      "metadata": {
        "id": "GMI8cLZbMm0y"
      },
      "execution_count": null,
      "outputs": []
    },
    {
      "cell_type": "code",
      "source": [
        "# Grafico todas las columnas que tengan \"sqft\" siendo 4 en este caso\n",
        "\n",
        "sqft_cols = df.columns[df.columns.str.contains('sqft')]\n",
        "sqft_cols\n",
        "\n",
        "def show_count_plots(data, cols):\n",
        "    fig = plt.figure(figsize=(10, 6))\n",
        "    grid = GridSpec(ncols=2,\n",
        "                    nrows=2, figure=fig)\n",
        "    for i, name in enumerate(cols):\n",
        "        ax = fig.add_subplot(grid[i])\n",
        "        sns.histplot(data[name], kde=True, ax=ax)\n",
        "\n",
        "show_count_plots(df, sqft_cols)"
      ],
      "metadata": {
        "id": "_ZadwErSAaNe"
      },
      "execution_count": null,
      "outputs": []
    },
    {
      "cell_type": "code",
      "source": [
        "#Defino Columnas con las variables Categoricas\n",
        "X_cat = df[[ 'COLUMN1', 'COLUMN3', 'COLUMN7']]\n",
        "X_cat =df.DataDrame(X_cat)"
      ],
      "metadata": {
        "id": "5T3XcvmoPMiw"
      },
      "execution_count": null,
      "outputs": []
    },
    {
      "cell_type": "markdown",
      "source": [
        "# **3) Data Wranling**\n",
        "\n",
        "C11:\n",
        "https://colab.research.google.com/drive/1PxnCWuryDeEh3t_Mhns-EygunEHJjjgT\n",
        "\n",
        "\n",
        "C28:https://colab.research.google.com/drive/1kI089JUE6jx5fbA9YSoNZqUExZB0Q66J\n",
        "\n",
        "C29 Ejemplo Completo, Dataset \"train\":\n",
        "https://colab.research.google.com/drive/15AcXgGTWL5T1aCFV0VReF3L6-4aK4JsB\n",
        "\n",
        "C29b: https://colab.research.google.com/drive/1qQc0sXs8qolG5JtWbGIdP_1IMAhbMSr5#scrollTo=6vaPZrGAYxiC\n",
        "\n",
        "C39: https://colab.research.google.com/drive/1i6hzNcbuRVi1bIpAEy7zQ_QwOL6w7OIm\n",
        "\n",
        "Ejemplo del proceso:\n",
        "https://www.kaggle.com/code/mafaisal007/data-wrangling-tutorial"
      ],
      "metadata": {
        "id": "WJ9_iTdE9sJ_"
      }
    },
    {
      "cell_type": "code",
      "source": [
        "#Importar librerias - Clase\n",
        "import pandas as pd\n",
        "import numpy as np\n",
        "#Montar en drive\n",
        "from google.colab import drive\n",
        "import os\n",
        "drive.mount('/content/drive')\n",
        "%cd '/content/drive/MyDrive/- DATA/DATA SCIENCE/Data Sets/CODER Clases DataSets/'\n",
        "%ls"
      ],
      "metadata": {
        "colab": {
          "base_uri": "https://localhost:8080/"
        },
        "id": "VZZD20FKA2n_",
        "outputId": "b9e8be08-ce46-4836-e2be-6ba25b5fb8c0"
      },
      "execution_count": null,
      "outputs": [
        {
          "output_type": "stream",
          "name": "stdout",
          "text": [
            "Drive already mounted at /content/drive; to attempt to forcibly remount, call drive.mount(\"/content/drive\", force_remount=True).\n",
            "/content/drive/MyDrive/- DATA/DATA SCIENCE/Data Sets/CODER Clases DataSets\n",
            "'Copia de bank-full (1).csv'      'Copia de pokemon_data.txt'\n",
            "'Copia de bank-full.csv'          'Copia de pune_1965_to_2002 (1).csv'\n",
            "'Copia de D.csv'                  'Copia de pune_1965_to_2002.csv'\n",
            "'Copia de DUK.csv'                'Copia de SO.csv'\n",
            "'Copia de ejemplo_1.json'         'Copia de train.csv'\n",
            "'Copia de EXC.csv'                'Copia de winequality-red.csv'\n",
            "'Copia de HRDataset_v14 (1).csv'   Mercado_Pago.csv\n",
            "'Copia de HRDataset_v14.csv'      'pokemon_data (1).txt'\n",
            "'Copia de Mall_Customers.csv'     'pokemon_data (2).txt'\n",
            "'Copia de nba_salary (1).sqlite'   pokemon_data.txt\n",
            "'Copia de nba_salary.sqlite'       precipitaciones_año.pdf\n",
            "'Copia de NEE.csv'                'Time Series Data.csv'\n",
            "'Copia de nested_json.json'        winequality-red.csv\n"
          ]
        }
      ]
    },
    {
      "cell_type": "code",
      "source": [
        "#CSV - Drive\n",
        "path='/content/drive/MyDrive/- DATA/DATA SCIENCE/Data Sets/CODER Clases DataSets/Copia de train.csv'\n",
        "df = pd.read_csv(path)\n",
        "df.head()"
      ],
      "metadata": {
        "colab": {
          "base_uri": "https://localhost:8080/",
          "height": 299
        },
        "id": "gv0BRqxhA8MV",
        "outputId": "854b5d5c-d665-4594-d581-471dfcdc9b43"
      },
      "execution_count": null,
      "outputs": [
        {
          "output_type": "execute_result",
          "data": {
            "text/plain": [
              "   Id  MSSubClass MSZoning  LotFrontage  LotArea Street Alley LotShape  \\\n",
              "0   1          60       RL         65.0     8450   Pave   NaN      Reg   \n",
              "1   2          20       RL         80.0     9600   Pave   NaN      Reg   \n",
              "2   3          60       RL         68.0    11250   Pave   NaN      IR1   \n",
              "3   4          70       RL         60.0     9550   Pave   NaN      IR1   \n",
              "4   5          60       RL         84.0    14260   Pave   NaN      IR1   \n",
              "\n",
              "  LandContour Utilities  ... PoolArea PoolQC Fence MiscFeature MiscVal MoSold  \\\n",
              "0         Lvl    AllPub  ...        0    NaN   NaN         NaN       0      2   \n",
              "1         Lvl    AllPub  ...        0    NaN   NaN         NaN       0      5   \n",
              "2         Lvl    AllPub  ...        0    NaN   NaN         NaN       0      9   \n",
              "3         Lvl    AllPub  ...        0    NaN   NaN         NaN       0      2   \n",
              "4         Lvl    AllPub  ...        0    NaN   NaN         NaN       0     12   \n",
              "\n",
              "  YrSold  SaleType  SaleCondition  SalePrice  \n",
              "0   2008        WD         Normal     208500  \n",
              "1   2007        WD         Normal     181500  \n",
              "2   2008        WD         Normal     223500  \n",
              "3   2006        WD        Abnorml     140000  \n",
              "4   2008        WD         Normal     250000  \n",
              "\n",
              "[5 rows x 81 columns]"
            ],
            "text/html": [
              "\n",
              "  <div id=\"df-be9d9470-addb-43e5-89fa-0b37187100b3\">\n",
              "    <div class=\"colab-df-container\">\n",
              "      <div>\n",
              "<style scoped>\n",
              "    .dataframe tbody tr th:only-of-type {\n",
              "        vertical-align: middle;\n",
              "    }\n",
              "\n",
              "    .dataframe tbody tr th {\n",
              "        vertical-align: top;\n",
              "    }\n",
              "\n",
              "    .dataframe thead th {\n",
              "        text-align: right;\n",
              "    }\n",
              "</style>\n",
              "<table border=\"1\" class=\"dataframe\">\n",
              "  <thead>\n",
              "    <tr style=\"text-align: right;\">\n",
              "      <th></th>\n",
              "      <th>Id</th>\n",
              "      <th>MSSubClass</th>\n",
              "      <th>MSZoning</th>\n",
              "      <th>LotFrontage</th>\n",
              "      <th>LotArea</th>\n",
              "      <th>Street</th>\n",
              "      <th>Alley</th>\n",
              "      <th>LotShape</th>\n",
              "      <th>LandContour</th>\n",
              "      <th>Utilities</th>\n",
              "      <th>...</th>\n",
              "      <th>PoolArea</th>\n",
              "      <th>PoolQC</th>\n",
              "      <th>Fence</th>\n",
              "      <th>MiscFeature</th>\n",
              "      <th>MiscVal</th>\n",
              "      <th>MoSold</th>\n",
              "      <th>YrSold</th>\n",
              "      <th>SaleType</th>\n",
              "      <th>SaleCondition</th>\n",
              "      <th>SalePrice</th>\n",
              "    </tr>\n",
              "  </thead>\n",
              "  <tbody>\n",
              "    <tr>\n",
              "      <th>0</th>\n",
              "      <td>1</td>\n",
              "      <td>60</td>\n",
              "      <td>RL</td>\n",
              "      <td>65.0</td>\n",
              "      <td>8450</td>\n",
              "      <td>Pave</td>\n",
              "      <td>NaN</td>\n",
              "      <td>Reg</td>\n",
              "      <td>Lvl</td>\n",
              "      <td>AllPub</td>\n",
              "      <td>...</td>\n",
              "      <td>0</td>\n",
              "      <td>NaN</td>\n",
              "      <td>NaN</td>\n",
              "      <td>NaN</td>\n",
              "      <td>0</td>\n",
              "      <td>2</td>\n",
              "      <td>2008</td>\n",
              "      <td>WD</td>\n",
              "      <td>Normal</td>\n",
              "      <td>208500</td>\n",
              "    </tr>\n",
              "    <tr>\n",
              "      <th>1</th>\n",
              "      <td>2</td>\n",
              "      <td>20</td>\n",
              "      <td>RL</td>\n",
              "      <td>80.0</td>\n",
              "      <td>9600</td>\n",
              "      <td>Pave</td>\n",
              "      <td>NaN</td>\n",
              "      <td>Reg</td>\n",
              "      <td>Lvl</td>\n",
              "      <td>AllPub</td>\n",
              "      <td>...</td>\n",
              "      <td>0</td>\n",
              "      <td>NaN</td>\n",
              "      <td>NaN</td>\n",
              "      <td>NaN</td>\n",
              "      <td>0</td>\n",
              "      <td>5</td>\n",
              "      <td>2007</td>\n",
              "      <td>WD</td>\n",
              "      <td>Normal</td>\n",
              "      <td>181500</td>\n",
              "    </tr>\n",
              "    <tr>\n",
              "      <th>2</th>\n",
              "      <td>3</td>\n",
              "      <td>60</td>\n",
              "      <td>RL</td>\n",
              "      <td>68.0</td>\n",
              "      <td>11250</td>\n",
              "      <td>Pave</td>\n",
              "      <td>NaN</td>\n",
              "      <td>IR1</td>\n",
              "      <td>Lvl</td>\n",
              "      <td>AllPub</td>\n",
              "      <td>...</td>\n",
              "      <td>0</td>\n",
              "      <td>NaN</td>\n",
              "      <td>NaN</td>\n",
              "      <td>NaN</td>\n",
              "      <td>0</td>\n",
              "      <td>9</td>\n",
              "      <td>2008</td>\n",
              "      <td>WD</td>\n",
              "      <td>Normal</td>\n",
              "      <td>223500</td>\n",
              "    </tr>\n",
              "    <tr>\n",
              "      <th>3</th>\n",
              "      <td>4</td>\n",
              "      <td>70</td>\n",
              "      <td>RL</td>\n",
              "      <td>60.0</td>\n",
              "      <td>9550</td>\n",
              "      <td>Pave</td>\n",
              "      <td>NaN</td>\n",
              "      <td>IR1</td>\n",
              "      <td>Lvl</td>\n",
              "      <td>AllPub</td>\n",
              "      <td>...</td>\n",
              "      <td>0</td>\n",
              "      <td>NaN</td>\n",
              "      <td>NaN</td>\n",
              "      <td>NaN</td>\n",
              "      <td>0</td>\n",
              "      <td>2</td>\n",
              "      <td>2006</td>\n",
              "      <td>WD</td>\n",
              "      <td>Abnorml</td>\n",
              "      <td>140000</td>\n",
              "    </tr>\n",
              "    <tr>\n",
              "      <th>4</th>\n",
              "      <td>5</td>\n",
              "      <td>60</td>\n",
              "      <td>RL</td>\n",
              "      <td>84.0</td>\n",
              "      <td>14260</td>\n",
              "      <td>Pave</td>\n",
              "      <td>NaN</td>\n",
              "      <td>IR1</td>\n",
              "      <td>Lvl</td>\n",
              "      <td>AllPub</td>\n",
              "      <td>...</td>\n",
              "      <td>0</td>\n",
              "      <td>NaN</td>\n",
              "      <td>NaN</td>\n",
              "      <td>NaN</td>\n",
              "      <td>0</td>\n",
              "      <td>12</td>\n",
              "      <td>2008</td>\n",
              "      <td>WD</td>\n",
              "      <td>Normal</td>\n",
              "      <td>250000</td>\n",
              "    </tr>\n",
              "  </tbody>\n",
              "</table>\n",
              "<p>5 rows × 81 columns</p>\n",
              "</div>\n",
              "      <button class=\"colab-df-convert\" onclick=\"convertToInteractive('df-be9d9470-addb-43e5-89fa-0b37187100b3')\"\n",
              "              title=\"Convert this dataframe to an interactive table.\"\n",
              "              style=\"display:none;\">\n",
              "        \n",
              "  <svg xmlns=\"http://www.w3.org/2000/svg\" height=\"24px\"viewBox=\"0 0 24 24\"\n",
              "       width=\"24px\">\n",
              "    <path d=\"M0 0h24v24H0V0z\" fill=\"none\"/>\n",
              "    <path d=\"M18.56 5.44l.94 2.06.94-2.06 2.06-.94-2.06-.94-.94-2.06-.94 2.06-2.06.94zm-11 1L8.5 8.5l.94-2.06 2.06-.94-2.06-.94L8.5 2.5l-.94 2.06-2.06.94zm10 10l.94 2.06.94-2.06 2.06-.94-2.06-.94-.94-2.06-.94 2.06-2.06.94z\"/><path d=\"M17.41 7.96l-1.37-1.37c-.4-.4-.92-.59-1.43-.59-.52 0-1.04.2-1.43.59L10.3 9.45l-7.72 7.72c-.78.78-.78 2.05 0 2.83L4 21.41c.39.39.9.59 1.41.59.51 0 1.02-.2 1.41-.59l7.78-7.78 2.81-2.81c.8-.78.8-2.07 0-2.86zM5.41 20L4 18.59l7.72-7.72 1.47 1.35L5.41 20z\"/>\n",
              "  </svg>\n",
              "      </button>\n",
              "      \n",
              "  <style>\n",
              "    .colab-df-container {\n",
              "      display:flex;\n",
              "      flex-wrap:wrap;\n",
              "      gap: 12px;\n",
              "    }\n",
              "\n",
              "    .colab-df-convert {\n",
              "      background-color: #E8F0FE;\n",
              "      border: none;\n",
              "      border-radius: 50%;\n",
              "      cursor: pointer;\n",
              "      display: none;\n",
              "      fill: #1967D2;\n",
              "      height: 32px;\n",
              "      padding: 0 0 0 0;\n",
              "      width: 32px;\n",
              "    }\n",
              "\n",
              "    .colab-df-convert:hover {\n",
              "      background-color: #E2EBFA;\n",
              "      box-shadow: 0px 1px 2px rgba(60, 64, 67, 0.3), 0px 1px 3px 1px rgba(60, 64, 67, 0.15);\n",
              "      fill: #174EA6;\n",
              "    }\n",
              "\n",
              "    [theme=dark] .colab-df-convert {\n",
              "      background-color: #3B4455;\n",
              "      fill: #D2E3FC;\n",
              "    }\n",
              "\n",
              "    [theme=dark] .colab-df-convert:hover {\n",
              "      background-color: #434B5C;\n",
              "      box-shadow: 0px 1px 3px 1px rgba(0, 0, 0, 0.15);\n",
              "      filter: drop-shadow(0px 1px 2px rgba(0, 0, 0, 0.3));\n",
              "      fill: #FFFFFF;\n",
              "    }\n",
              "  </style>\n",
              "\n",
              "      <script>\n",
              "        const buttonEl =\n",
              "          document.querySelector('#df-be9d9470-addb-43e5-89fa-0b37187100b3 button.colab-df-convert');\n",
              "        buttonEl.style.display =\n",
              "          google.colab.kernel.accessAllowed ? 'block' : 'none';\n",
              "\n",
              "        async function convertToInteractive(key) {\n",
              "          const element = document.querySelector('#df-be9d9470-addb-43e5-89fa-0b37187100b3');\n",
              "          const dataTable =\n",
              "            await google.colab.kernel.invokeFunction('convertToInteractive',\n",
              "                                                     [key], {});\n",
              "          if (!dataTable) return;\n",
              "\n",
              "          const docLinkHtml = 'Like what you see? Visit the ' +\n",
              "            '<a target=\"_blank\" href=https://colab.research.google.com/notebooks/data_table.ipynb>data table notebook</a>'\n",
              "            + ' to learn more about interactive tables.';\n",
              "          element.innerHTML = '';\n",
              "          dataTable['output_type'] = 'display_data';\n",
              "          await google.colab.output.renderOutput(dataTable, element);\n",
              "          const docLink = document.createElement('div');\n",
              "          docLink.innerHTML = docLinkHtml;\n",
              "          element.appendChild(docLink);\n",
              "        }\n",
              "      </script>\n",
              "    </div>\n",
              "  </div>\n",
              "  "
            ]
          },
          "metadata": {},
          "execution_count": 6
        }
      ]
    },
    {
      "cell_type": "markdown",
      "source": [
        "### Merge y Concat XXXXXXXXXXX\n",
        "\n",
        "C27: Merge\n",
        "https://colab.research.google.com/drive/1kI089JUE6jx5fbA9YSoNZqUExZB0Q66J"
      ],
      "metadata": {
        "id": "E6eZuNBg-yHT"
      }
    },
    {
      "cell_type": "markdown",
      "source": [
        "### Eliminar columnas"
      ],
      "metadata": {
        "id": "4JmS-1g-22WV"
      }
    },
    {
      "cell_type": "code",
      "source": [
        "#Eliminar Columna y que quede grabado en el dataset\n",
        "df.drop('COL1', axis=1, inplace=True)\n",
        "\n",
        "#Eliminar varias Columnas y que quede grabado en el dataset\n",
        "df.drop(['COL1','COL','COL8'], axis=1, inplace=True)"
      ],
      "metadata": {
        "id": "PJzrTwH8zXmj"
      },
      "execution_count": null,
      "outputs": []
    },
    {
      "cell_type": "markdown",
      "source": [
        "Opcion 2: df_x\n",
        "\n",
        "Cambio el nombre de DataFrame para mantener el original"
      ],
      "metadata": {
        "id": "mi52ua8V-dvJ"
      }
    },
    {
      "cell_type": "code",
      "source": [
        "# Borrar variables\n",
        "col_del=['PoolQC','MiscFeature','Alley','Fence','Id'] # Columnas a borrar que no aportan\n",
        "df_x=df.drop(labels=col_del, axis=1) # Borrando las columnas en col_del\n",
        "df_x.columns # Verificando las columnas que quedaron"
      ],
      "metadata": {
        "id": "A3enet6w-hFz"
      },
      "execution_count": null,
      "outputs": []
    },
    {
      "cell_type": "markdown",
      "source": [
        "### Eliminar por Correlacion"
      ],
      "metadata": {
        "id": "H3K2B8nT2LTV"
      }
    },
    {
      "cell_type": "code",
      "source": [
        "# Calcular la matriz de correlación\n",
        "matriz_correlacion = df.corr()\n",
        "\n",
        "# Encontrar columnas altamente correlacionadas\n",
        "columnas_duplicadas = set()\n",
        "\n",
        "for i in range(len(matriz_correlacion.columns)):\n",
        "    for j in range(i):\n",
        "        if abs(matriz_correlacion.iloc[i, j]) > 0.8:  # Puedes ajustar este umbral según tu necesidad\n",
        "            colname = matriz_correlacion.columns[i]\n",
        "            columnas_duplicadas.add(colname)\n",
        "\n",
        "# Eliminar las columnas duplicadas\n",
        "df_sin_duplicados = df.drop(columns=columnas_duplicadas)\n",
        "\n",
        "# Imprimir las columnas eliminadas\n",
        "print(\"Columnas eliminadas:\")\n",
        "print(list(columnas_duplicadas))"
      ],
      "metadata": {
        "id": "pzkc8SpG2LdS"
      },
      "execution_count": null,
      "outputs": []
    },
    {
      "cell_type": "markdown",
      "source": [
        "### Headers"
      ],
      "metadata": {
        "id": "1RytomMW_aL9"
      }
    },
    {
      "cell_type": "code",
      "source": [
        "#Archivo TXT: Elimino nombre de columnas\n",
        "pd.read_csv('nombre archivo.txt', sep=' ', header= None)"
      ],
      "metadata": {
        "id": "veHJ0NMO_rGO"
      },
      "execution_count": null,
      "outputs": []
    },
    {
      "cell_type": "code",
      "source": [
        "#Archivo TXT: Cambio nombre de columnas\n",
        "pd.read_csv('nombre archivo.txt', sep=' ', names=['COLUMNA1'. 'COLUMNA2', 'COLUMNA3'])"
      ],
      "metadata": {
        "id": "H4SUzvKrAoGX"
      },
      "execution_count": null,
      "outputs": []
    },
    {
      "cell_type": "markdown",
      "source": [
        "### Index"
      ],
      "metadata": {
        "id": "gjJIaBRF-y1_"
      }
    },
    {
      "cell_type": "code",
      "source": [
        "#Opcion 1\n",
        "df.set_index('Columna1', inplace=True)"
      ],
      "metadata": {
        "id": "Qn2k-Sib-0i4"
      },
      "execution_count": null,
      "outputs": []
    },
    {
      "cell_type": "code",
      "source": [
        "#Otra opcion\n",
        "df.index = df['Columna1']\n",
        "df = df.drop('Columna1', axis='columns')"
      ],
      "metadata": {
        "id": "_nxZHNp6_CEk"
      },
      "execution_count": null,
      "outputs": []
    },
    {
      "cell_type": "code",
      "source": [
        "# Resetar index\n",
        "df.reset_index()"
      ],
      "metadata": {
        "id": "YlpK-nmdHVnr"
      },
      "execution_count": null,
      "outputs": []
    },
    {
      "cell_type": "code",
      "source": [],
      "metadata": {
        "id": "-nego9lkaYZV"
      },
      "execution_count": null,
      "outputs": []
    },
    {
      "cell_type": "markdown",
      "source": [
        "**Indice Multinivel**"
      ],
      "metadata": {
        "id": "YfsE7uefaYu-"
      }
    },
    {
      "cell_type": "code",
      "source": [
        "#Multiindex\n",
        "df.unstack()\n",
        "df.loc[:,2]\n",
        "df.sum(level=0)"
      ],
      "metadata": {
        "id": "TWWOIy8jaY4D"
      },
      "execution_count": null,
      "outputs": []
    },
    {
      "cell_type": "markdown",
      "source": [
        "### Duplicados"
      ],
      "metadata": {
        "id": "6y0uVi9w4Cl2"
      }
    },
    {
      "cell_type": "code",
      "source": [
        "#Opcion Rapida\n",
        "\n",
        "#Reviso la cantidad de filas y columnas antes de eliminar\n",
        "print(df.shape)\n",
        "\n",
        "#Filas Duplicadas\n",
        "df.duplicated()\n",
        "\n",
        "#Suma de Filas Duplicadas\n",
        "df.duplicated().sum()\n",
        "\n",
        "#Elimino todas las filas duplicadas\n",
        "df= df.drop_duplicates()\n",
        "\n",
        "#Elimino duplicados de una o mas colummas en particular\n",
        "DF.drop_duplicates(['col 1'])\n",
        "\n",
        "#Reviso la cantidad de filas y columnas despues de eliminar\n",
        "print(df.shape)"
      ],
      "metadata": {
        "id": "C-CwZO2P9hI0"
      },
      "execution_count": null,
      "outputs": []
    },
    {
      "cell_type": "markdown",
      "source": [
        "Opcion 2"
      ],
      "metadata": {
        "id": "BxH8YiqmU2PD"
      }
    },
    {
      "cell_type": "code",
      "source": [
        "#Analizo la cantidad de instancias duplicadas\n",
        "df['COL'].duplicated().sum()\n",
        "\n",
        "#Creo un df de Duplicados\n",
        "df_duplicados= df[df['COLUMNX'].duplicated()==True]\n",
        "df_duplicados\n",
        "\n",
        "#Analizo uno de los duplicados en particular\n",
        "df[df['COLUMNX'] == 'CONTENIDO_UNA_COLUMNA']\n",
        "\n",
        "#Cuento la cantidad de filas ANTES DE ELIMINAR\n",
        "print('Cantidad de registros antes de eliminar duplicados:', len(df))\n",
        "\n",
        "#Eliminamos los duplicados si son considerados RUIDO\n",
        "df=df.drop_duplicates()\n",
        "\n",
        "#Cuento la cantidad de filas DESPUES DE ELIMINAR\n",
        "print('Cantidad de registros antes de eliminar duplicados:', len(df))\n"
      ],
      "metadata": {
        "id": "83ZPa-O24FKx"
      },
      "execution_count": null,
      "outputs": []
    },
    {
      "cell_type": "markdown",
      "source": [
        "### **Fechas**"
      ],
      "metadata": {
        "id": "EsbuiFWyio9O"
      }
    },
    {
      "cell_type": "markdown",
      "source": [
        "Lectura de archivos transformando una columna en fecha: Atributo parse_dates"
      ],
      "metadata": {
        "id": "VcAT3G19BIWD"
      }
    },
    {
      "cell_type": "code",
      "source": [
        "#Archivo TXT: Cambio una o varias columnas a tipo Fecha\n",
        "pd.read_csv('nombre archivo.txt', sep=' ', parse_dates=['COLUMNA_de_FECHA'])"
      ],
      "metadata": {
        "id": "chn-wWgyBDuF"
      },
      "execution_count": null,
      "outputs": []
    },
    {
      "cell_type": "code",
      "source": [
        "#Archivo CSV: Cambio una o varias  columnas a tipo Fecha\n",
        "path='COPIO Y PEGO ACA RUTA DEL ARCHIVO'\n",
        "pd.read_csv(path, parse_dates=[['year'. 'month', 'day']])"
      ],
      "metadata": {
        "id": "xK-10AwABldF"
      },
      "execution_count": null,
      "outputs": []
    },
    {
      "cell_type": "markdown",
      "source": [
        "Transformo una columna en date"
      ],
      "metadata": {
        "id": "s2NPOTvjeugp"
      }
    },
    {
      "cell_type": "code",
      "source": [
        "#Corroboro que de que tipo es la columna\n",
        "df['COLUMNA_FECHA'].dtype\n",
        "\n",
        "#convierto en tipo date\n",
        "df.COLUMNA_FECHA = pd.to_datetime(df.COLUMNA_FECHA)"
      ],
      "metadata": {
        "id": "Byl92K0Peq49"
      },
      "execution_count": null,
      "outputs": []
    },
    {
      "cell_type": "code",
      "source": [
        "# Convertir la columna \"date\" al formato de fecha en Pandas\n",
        "df['date'] = pd.to_datetime(df['date'])\n",
        "\n",
        "# Crear una nueva columna con el formato deseado\n",
        "df['date_'] = df['date'].dt.strftime('%Y-%m-%d')\n",
        "\n",
        "# Eliminar la columna original\n",
        "df = df.drop('date', axis=1)"
      ],
      "metadata": {
        "id": "HP5uHauHaH4H"
      },
      "execution_count": null,
      "outputs": []
    },
    {
      "cell_type": "markdown",
      "source": [
        "Transformo Varias columnas en date"
      ],
      "metadata": {
        "id": "IS4O_F8reMAE"
      }
    },
    {
      "cell_type": "code",
      "source": [
        "#Selecciono las columnas que deberian ser fecha\n",
        "cols_fechas = ['COLUMNA1', 'COLUMNA2', 'COLUMNA3', 'COLUMNA4', 'COLUMNA5']\n",
        "\n",
        "#Las convierto en fecha\n",
        "df[cols_fechas] = df[cols_fechas].apply(pd.to_datetime)"
      ],
      "metadata": {
        "id": "GtQWgf1YeMOb"
      },
      "execution_count": null,
      "outputs": []
    },
    {
      "cell_type": "markdown",
      "source": [
        "Inconsistencia de diferencia de Fechas:\n",
        "*   Ejemplo la fecha de nacimiento es posterior a la de ingeso al colegio"
      ],
      "metadata": {
        "id": "Gt0kANvTeMg2"
      }
    },
    {
      "cell_type": "code",
      "source": [
        "#Creo columnas con diferencia de dos fechas\n",
        "df['DIFERENCIA_COLUMNA_FECHA']= (df.COLUMN_FECHA_1 - df.COLUMN_FECHA_2).dt.days\n",
        "\n",
        "#Imprimo las diferencias de fechas negativas\n",
        "df_FECHA_NEGATIVA= df[df['COLUMN_FECHA_1']<0 ]\n",
        "\n",
        "#Etiqueto las filas incosistentes para eliminarlas\n",
        "drop = df_FECHA_NEGATIVA['ID']\n",
        "\n",
        "#Elimino esas filas por ser incosistentes\n",
        "df = df[~df['ID'].isin(drop)]\n",
        "\n"
      ],
      "metadata": {
        "id": "mpnD_qCC6oL7"
      },
      "execution_count": null,
      "outputs": []
    },
    {
      "cell_type": "code",
      "source": [
        "#Creo columnas con diferencia de dos fechas\n",
        "df['dif-COL1-COL0'] = (df.COL1 - df.COL0).dt.days\n",
        "df['dif-COL2-COL0'] = (df.COL2 - df.COL0).dt.days\n",
        "df['dif-COL3-COL0'] = (df.COL3 - df.COL0).dt.days\n",
        "\n",
        "\n",
        "#Creo df con las diferencias de fechas negativas\n",
        "df_fechas_erroneas = df[df['dif-COL1-COL0'] < 0] | df[df['dif-COL2-COL0'] < 0] | df[df['dif-COL3-COL0'] < 0]\n",
        "df_fechas_erroneas\n",
        "\n",
        "#Etiqueto las filas incosistentes para eliminarlas\n",
        "id_drop = df_fechas_erroneas['COL_ID']\n",
        "id_drop\n",
        "\n",
        "#Elimino esas filas por ser incosistentes\n",
        "df = df[~df['id'].isin(_id_drop)]\n"
      ],
      "metadata": {
        "id": "b9e1TekJi0LE"
      },
      "execution_count": null,
      "outputs": []
    },
    {
      "cell_type": "markdown",
      "source": [
        "### Convertir Tipo"
      ],
      "metadata": {
        "id": "Q5fjl5UnmQnv"
      }
    },
    {
      "cell_type": "code",
      "source": [
        "# Convertir la columna 'COL3' a tipo float\n",
        "df['COL3'] = df['COL3'].astype(float)"
      ],
      "metadata": {
        "id": "e3rq1xXRmUqy"
      },
      "execution_count": null,
      "outputs": []
    },
    {
      "cell_type": "code",
      "source": [
        "#Aplicadno funcion repicable a cada columna\n",
        "\n",
        "import math\n",
        "\n",
        "#Defino funcion\n",
        "def float_to_int(value):\n",
        "    return math.floor(value)\n",
        "\n",
        "#Aplico for\n",
        "for i in [\"bedrooms\"]:\n",
        "    df[i] = df[i].apply(float_to_int)"
      ],
      "metadata": {
        "id": "nDKTfAVyrE7l"
      },
      "execution_count": null,
      "outputs": []
    },
    {
      "cell_type": "markdown",
      "source": [
        "### Redondeo"
      ],
      "metadata": {
        "id": "fo4oEPEKyl3x"
      }
    },
    {
      "cell_type": "code",
      "source": [
        "#Las filas iguales a 0.75 o 1.25 se transforman en 1\n",
        "df.COL1 = df.COL.apply(lambda x: 1 if (x == 0.75)\n",
        "                                                      or\n",
        "                                                     (x == 1.25)\n",
        "                                                  else x)"
      ],
      "metadata": {
        "id": "FWsEg6tBymHc"
      },
      "execution_count": null,
      "outputs": []
    },
    {
      "cell_type": "code",
      "source": [
        "# Redondeo\n",
        "df.COL = df.COL.map({0.75:1, 1:1, 1.25:1, 1.5:1, 1.75:2,\n",
        "                                 2:2, 2.25:2, 2.5:2, 2.75:3,\n",
        "                                 3:3, 3.25:3, 3.5:3, 3.75:4,\n",
        "                                 4:4, 4.25:4, 4.5:4, 4.75:5,\n",
        "                                 5:5, 5.25:5, 5.5:5})"
      ],
      "metadata": {
        "id": "bGi2_lFG4m6t"
      },
      "execution_count": null,
      "outputs": []
    },
    {
      "cell_type": "code",
      "source": [
        "#OPCION 2: Las filas iguales a 0.75 o 1.25 se transforman en 1\n",
        "df.COL = df.COL.apply(lambda x: 1 if (x == 0.75)\n",
        "                                                      or\n",
        "                                                     (x == 1.25)\n",
        "                                                  else x)"
      ],
      "metadata": {
        "id": "dGa2n9DA67u4"
      },
      "execution_count": null,
      "outputs": []
    },
    {
      "cell_type": "markdown",
      "source": [
        "### Booleanos\n"
      ],
      "metadata": {
        "id": "_bGvBlW0hw2_"
      }
    },
    {
      "cell_type": "markdown",
      "source": [
        "Lectura de archivo convirtiendo columnas a booleanas"
      ],
      "metadata": {
        "id": "WPRysgiSC7Xr"
      }
    },
    {
      "cell_type": "code",
      "source": [
        "#Archivo TXT: Transformo columas a booleanas\n",
        "pd.read_csv('nombre archivo.txt', sep=' ', dtype= {'COLUMNA1': bool,'COLUMNA2': bool})"
      ],
      "metadata": {
        "id": "sM_E1bHPC33N"
      },
      "execution_count": null,
      "outputs": []
    },
    {
      "cell_type": "markdown",
      "source": [
        "Transformar en una columna de booleanos"
      ],
      "metadata": {
        "id": "MOyBueeOC5Zt"
      }
    },
    {
      "cell_type": "code",
      "source": [
        "#Transformo YES y NO en 1 y 0\n",
        "df['COL'] = df['COL'].aply(lambda x: 1 if x== 'Yes' else 0)\n",
        "\n",
        "# Otro ejemplo: Transformo todas las variables que no sean cero en 1\n",
        "df.COL = df.COL.apply(lambda x: 0 if x==0 else 1)\n"
      ],
      "metadata": {
        "id": "7CRo3Kndpj8D"
      },
      "execution_count": null,
      "outputs": []
    },
    {
      "cell_type": "code",
      "source": [
        "#Creo un df para cada uno\n",
        "df_no = df[df['COL'] == 0]\n",
        "df_yes = df[df['COL'] == 1]\n",
        "\n",
        "#Veo las Cantidades\n",
        "print('No:', len(df_no), ' y ', 'Yes:', len(df_yes))\n",
        "#Veo las proporciones\n",
        "print('No:', len(df_no)/ len(df) * 100, ' y ', 'Yes:', len(df_yes)/ len(df) * 100)\n",
        "\n",
        "#Analizo las diferencias: las medias y medianas, maximos y minimos de cada uno\n",
        "df_no.describe()\n",
        "df_yesdescribe()\n",
        "\n",
        "#Grafico KDE para ver una caracteristica\n",
        "plt.figure(figsize = (12,7))\n",
        "sns.kdeplot(df_no['COLX'], label = 'No', color = 'r', shade = True)\n",
        "sns.kdeplot(df_yes['COLX'], label = 'Yes', color = 'b', shade = True)"
      ],
      "metadata": {
        "id": "wLtQN9wCpkAZ"
      },
      "execution_count": null,
      "outputs": []
    },
    {
      "cell_type": "markdown",
      "source": [],
      "metadata": {
        "id": "G9ZEiP4v_qMy"
      }
    },
    {
      "cell_type": "markdown",
      "source": [
        "Opcion 1"
      ],
      "metadata": {
        "id": "qxVbYbj4Ct43"
      }
    },
    {
      "cell_type": "code",
      "source": [
        "# Columnas con porcentaje de nulos\n",
        "pd.set_option('display.max_rows', None)  # or 1000\n",
        "serie=(df.isnull().sum()/df.shape[0])*100\n",
        "serie=serie.sort_values(ascending=False)\n",
        "serie= serie[serie>0]\n",
        "serie"
      ],
      "metadata": {
        "id": "EQh_sfSI-Aol"
      },
      "execution_count": null,
      "outputs": []
    },
    {
      "cell_type": "code",
      "source": [
        "# Graficamente\n",
        "import matplotlib.pyplot as plt\n",
        "plt.figure(figsize=(10,6))\n",
        "serie.plot(kind='bar')"
      ],
      "metadata": {
        "id": "VFoQPYXFCs0q"
      },
      "execution_count": null,
      "outputs": []
    },
    {
      "cell_type": "markdown",
      "source": [
        "Opcion 2"
      ],
      "metadata": {
        "id": "LKo7xb-xCvW3"
      }
    },
    {
      "cell_type": "code",
      "source": [
        "#Busco que valores hay en la Columna\n",
        "df.COLUMNA.unique()\n",
        "\n",
        "#Sumo los nulos de la columna\n",
        "df.COLUMNA.isnull().sum()\n",
        "\n",
        "#Creo df de NULOS\n",
        "COLUMNA_NAN = df[df['COL'].isnull()]\n",
        "#Creo df de NULOS de dos columnas (OPCION 2)\n",
        "COLUMNAS_NAN = df[df['COL1'].isnull() & df['COL2'].isnull()]\n"
      ],
      "metadata": {
        "id": "ASYIQzhKObyB"
      },
      "execution_count": null,
      "outputs": []
    },
    {
      "cell_type": "markdown",
      "source": [
        "## Nulos: Nan\n",
        "\n",
        "C6:https://colab.research.google.com/drive/1LTGn4XNxYwlnNouc6wtbXZ4TxN3W4DWR"
      ],
      "metadata": {
        "id": "nZp9TDzREnCS"
      }
    },
    {
      "cell_type": "markdown",
      "source": [
        "### Tratamiento Manual"
      ],
      "metadata": {
        "id": "UAQT5oEKJJQO"
      }
    },
    {
      "cell_type": "code",
      "source": [
        "# Creo dataset que tenga datos nulos\n",
        "\n",
        "import pandas as pd\n",
        "import numpy as np\n",
        "\n",
        "# Create a DataFrame\n",
        "data = {\n",
        "    \"col1\": [1, 2, None, 4, 5],\n",
        "    \"col2\": [\"a\", \"b\", None, \"d\", \"e\"],\n",
        "    \"col3\": [True, False, None, True, False],\n",
        "}\n",
        "df = pd.DataFrame(data)\n",
        "\n",
        "# Print the DataFrame\n",
        "print(df)\n",
        "print('---------------------')\n",
        "print(df.shape)"
      ],
      "metadata": {
        "colab": {
          "base_uri": "https://localhost:8080/"
        },
        "id": "1HSltDSzIrTe",
        "outputId": "5b38510a-b216-47d9-e1f6-668201b3dcc3"
      },
      "execution_count": null,
      "outputs": [
        {
          "output_type": "stream",
          "name": "stdout",
          "text": [
            "   col1  col2   col3\n",
            "0   1.0     a   True\n",
            "1   2.0     b  False\n",
            "2   NaN  None   None\n",
            "3   4.0     d   True\n",
            "4   5.0     e  False\n",
            "---------------------\n",
            "(5, 3)\n"
          ]
        }
      ]
    },
    {
      "cell_type": "code",
      "source": [
        "#Detecto NaN\n",
        "df.isnull()"
      ],
      "metadata": {
        "colab": {
          "base_uri": "https://localhost:8080/",
          "height": 206
        },
        "id": "PARiZCpHG7M_",
        "outputId": "e648ca07-c2c7-4221-e39f-47a89d4b85a1"
      },
      "execution_count": null,
      "outputs": [
        {
          "output_type": "execute_result",
          "data": {
            "text/plain": [
              "    col1   col2   col3\n",
              "0  False  False  False\n",
              "1  False  False  False\n",
              "2   True   True   True\n",
              "3  False  False  False\n",
              "4  False  False  False"
            ],
            "text/html": [
              "\n",
              "  <div id=\"df-ef1c2754-4ada-4468-9a2a-5522799882b2\" class=\"colab-df-container\">\n",
              "    <div>\n",
              "<style scoped>\n",
              "    .dataframe tbody tr th:only-of-type {\n",
              "        vertical-align: middle;\n",
              "    }\n",
              "\n",
              "    .dataframe tbody tr th {\n",
              "        vertical-align: top;\n",
              "    }\n",
              "\n",
              "    .dataframe thead th {\n",
              "        text-align: right;\n",
              "    }\n",
              "</style>\n",
              "<table border=\"1\" class=\"dataframe\">\n",
              "  <thead>\n",
              "    <tr style=\"text-align: right;\">\n",
              "      <th></th>\n",
              "      <th>col1</th>\n",
              "      <th>col2</th>\n",
              "      <th>col3</th>\n",
              "    </tr>\n",
              "  </thead>\n",
              "  <tbody>\n",
              "    <tr>\n",
              "      <th>0</th>\n",
              "      <td>False</td>\n",
              "      <td>False</td>\n",
              "      <td>False</td>\n",
              "    </tr>\n",
              "    <tr>\n",
              "      <th>1</th>\n",
              "      <td>False</td>\n",
              "      <td>False</td>\n",
              "      <td>False</td>\n",
              "    </tr>\n",
              "    <tr>\n",
              "      <th>2</th>\n",
              "      <td>True</td>\n",
              "      <td>True</td>\n",
              "      <td>True</td>\n",
              "    </tr>\n",
              "    <tr>\n",
              "      <th>3</th>\n",
              "      <td>False</td>\n",
              "      <td>False</td>\n",
              "      <td>False</td>\n",
              "    </tr>\n",
              "    <tr>\n",
              "      <th>4</th>\n",
              "      <td>False</td>\n",
              "      <td>False</td>\n",
              "      <td>False</td>\n",
              "    </tr>\n",
              "  </tbody>\n",
              "</table>\n",
              "</div>\n",
              "    <div class=\"colab-df-buttons\">\n",
              "\n",
              "  <div class=\"colab-df-container\">\n",
              "    <button class=\"colab-df-convert\" onclick=\"convertToInteractive('df-ef1c2754-4ada-4468-9a2a-5522799882b2')\"\n",
              "            title=\"Convert this dataframe to an interactive table.\"\n",
              "            style=\"display:none;\">\n",
              "\n",
              "  <svg xmlns=\"http://www.w3.org/2000/svg\" height=\"24px\" viewBox=\"0 -960 960 960\">\n",
              "    <path d=\"M120-120v-720h720v720H120Zm60-500h600v-160H180v160Zm220 220h160v-160H400v160Zm0 220h160v-160H400v160ZM180-400h160v-160H180v160Zm440 0h160v-160H620v160ZM180-180h160v-160H180v160Zm440 0h160v-160H620v160Z\"/>\n",
              "  </svg>\n",
              "    </button>\n",
              "\n",
              "  <style>\n",
              "    .colab-df-container {\n",
              "      display:flex;\n",
              "      gap: 12px;\n",
              "    }\n",
              "\n",
              "    .colab-df-convert {\n",
              "      background-color: #E8F0FE;\n",
              "      border: none;\n",
              "      border-radius: 50%;\n",
              "      cursor: pointer;\n",
              "      display: none;\n",
              "      fill: #1967D2;\n",
              "      height: 32px;\n",
              "      padding: 0 0 0 0;\n",
              "      width: 32px;\n",
              "    }\n",
              "\n",
              "    .colab-df-convert:hover {\n",
              "      background-color: #E2EBFA;\n",
              "      box-shadow: 0px 1px 2px rgba(60, 64, 67, 0.3), 0px 1px 3px 1px rgba(60, 64, 67, 0.15);\n",
              "      fill: #174EA6;\n",
              "    }\n",
              "\n",
              "    .colab-df-buttons div {\n",
              "      margin-bottom: 4px;\n",
              "    }\n",
              "\n",
              "    [theme=dark] .colab-df-convert {\n",
              "      background-color: #3B4455;\n",
              "      fill: #D2E3FC;\n",
              "    }\n",
              "\n",
              "    [theme=dark] .colab-df-convert:hover {\n",
              "      background-color: #434B5C;\n",
              "      box-shadow: 0px 1px 3px 1px rgba(0, 0, 0, 0.15);\n",
              "      filter: drop-shadow(0px 1px 2px rgba(0, 0, 0, 0.3));\n",
              "      fill: #FFFFFF;\n",
              "    }\n",
              "  </style>\n",
              "\n",
              "    <script>\n",
              "      const buttonEl =\n",
              "        document.querySelector('#df-ef1c2754-4ada-4468-9a2a-5522799882b2 button.colab-df-convert');\n",
              "      buttonEl.style.display =\n",
              "        google.colab.kernel.accessAllowed ? 'block' : 'none';\n",
              "\n",
              "      async function convertToInteractive(key) {\n",
              "        const element = document.querySelector('#df-ef1c2754-4ada-4468-9a2a-5522799882b2');\n",
              "        const dataTable =\n",
              "          await google.colab.kernel.invokeFunction('convertToInteractive',\n",
              "                                                    [key], {});\n",
              "        if (!dataTable) return;\n",
              "\n",
              "        const docLinkHtml = 'Like what you see? Visit the ' +\n",
              "          '<a target=\"_blank\" href=https://colab.research.google.com/notebooks/data_table.ipynb>data table notebook</a>'\n",
              "          + ' to learn more about interactive tables.';\n",
              "        element.innerHTML = '';\n",
              "        dataTable['output_type'] = 'display_data';\n",
              "        await google.colab.output.renderOutput(dataTable, element);\n",
              "        const docLink = document.createElement('div');\n",
              "        docLink.innerHTML = docLinkHtml;\n",
              "        element.appendChild(docLink);\n",
              "      }\n",
              "    </script>\n",
              "  </div>\n",
              "\n",
              "\n",
              "<div id=\"df-8790c286-fb02-4fc6-8f4b-fb88e091a23d\">\n",
              "  <button class=\"colab-df-quickchart\" onclick=\"quickchart('df-8790c286-fb02-4fc6-8f4b-fb88e091a23d')\"\n",
              "            title=\"Suggest charts\"\n",
              "            style=\"display:none;\">\n",
              "\n",
              "<svg xmlns=\"http://www.w3.org/2000/svg\" height=\"24px\"viewBox=\"0 0 24 24\"\n",
              "     width=\"24px\">\n",
              "    <g>\n",
              "        <path d=\"M19 3H5c-1.1 0-2 .9-2 2v14c0 1.1.9 2 2 2h14c1.1 0 2-.9 2-2V5c0-1.1-.9-2-2-2zM9 17H7v-7h2v7zm4 0h-2V7h2v10zm4 0h-2v-4h2v4z\"/>\n",
              "    </g>\n",
              "</svg>\n",
              "  </button>\n",
              "\n",
              "<style>\n",
              "  .colab-df-quickchart {\n",
              "      --bg-color: #E8F0FE;\n",
              "      --fill-color: #1967D2;\n",
              "      --hover-bg-color: #E2EBFA;\n",
              "      --hover-fill-color: #174EA6;\n",
              "      --disabled-fill-color: #AAA;\n",
              "      --disabled-bg-color: #DDD;\n",
              "  }\n",
              "\n",
              "  [theme=dark] .colab-df-quickchart {\n",
              "      --bg-color: #3B4455;\n",
              "      --fill-color: #D2E3FC;\n",
              "      --hover-bg-color: #434B5C;\n",
              "      --hover-fill-color: #FFFFFF;\n",
              "      --disabled-bg-color: #3B4455;\n",
              "      --disabled-fill-color: #666;\n",
              "  }\n",
              "\n",
              "  .colab-df-quickchart {\n",
              "    background-color: var(--bg-color);\n",
              "    border: none;\n",
              "    border-radius: 50%;\n",
              "    cursor: pointer;\n",
              "    display: none;\n",
              "    fill: var(--fill-color);\n",
              "    height: 32px;\n",
              "    padding: 0;\n",
              "    width: 32px;\n",
              "  }\n",
              "\n",
              "  .colab-df-quickchart:hover {\n",
              "    background-color: var(--hover-bg-color);\n",
              "    box-shadow: 0 1px 2px rgba(60, 64, 67, 0.3), 0 1px 3px 1px rgba(60, 64, 67, 0.15);\n",
              "    fill: var(--button-hover-fill-color);\n",
              "  }\n",
              "\n",
              "  .colab-df-quickchart-complete:disabled,\n",
              "  .colab-df-quickchart-complete:disabled:hover {\n",
              "    background-color: var(--disabled-bg-color);\n",
              "    fill: var(--disabled-fill-color);\n",
              "    box-shadow: none;\n",
              "  }\n",
              "\n",
              "  .colab-df-spinner {\n",
              "    border: 2px solid var(--fill-color);\n",
              "    border-color: transparent;\n",
              "    border-bottom-color: var(--fill-color);\n",
              "    animation:\n",
              "      spin 1s steps(1) infinite;\n",
              "  }\n",
              "\n",
              "  @keyframes spin {\n",
              "    0% {\n",
              "      border-color: transparent;\n",
              "      border-bottom-color: var(--fill-color);\n",
              "      border-left-color: var(--fill-color);\n",
              "    }\n",
              "    20% {\n",
              "      border-color: transparent;\n",
              "      border-left-color: var(--fill-color);\n",
              "      border-top-color: var(--fill-color);\n",
              "    }\n",
              "    30% {\n",
              "      border-color: transparent;\n",
              "      border-left-color: var(--fill-color);\n",
              "      border-top-color: var(--fill-color);\n",
              "      border-right-color: var(--fill-color);\n",
              "    }\n",
              "    40% {\n",
              "      border-color: transparent;\n",
              "      border-right-color: var(--fill-color);\n",
              "      border-top-color: var(--fill-color);\n",
              "    }\n",
              "    60% {\n",
              "      border-color: transparent;\n",
              "      border-right-color: var(--fill-color);\n",
              "    }\n",
              "    80% {\n",
              "      border-color: transparent;\n",
              "      border-right-color: var(--fill-color);\n",
              "      border-bottom-color: var(--fill-color);\n",
              "    }\n",
              "    90% {\n",
              "      border-color: transparent;\n",
              "      border-bottom-color: var(--fill-color);\n",
              "    }\n",
              "  }\n",
              "</style>\n",
              "\n",
              "  <script>\n",
              "    async function quickchart(key) {\n",
              "      const quickchartButtonEl =\n",
              "        document.querySelector('#' + key + ' button');\n",
              "      quickchartButtonEl.disabled = true;  // To prevent multiple clicks.\n",
              "      quickchartButtonEl.classList.add('colab-df-spinner');\n",
              "      try {\n",
              "        const charts = await google.colab.kernel.invokeFunction(\n",
              "            'suggestCharts', [key], {});\n",
              "      } catch (error) {\n",
              "        console.error('Error during call to suggestCharts:', error);\n",
              "      }\n",
              "      quickchartButtonEl.classList.remove('colab-df-spinner');\n",
              "      quickchartButtonEl.classList.add('colab-df-quickchart-complete');\n",
              "    }\n",
              "    (() => {\n",
              "      let quickchartButtonEl =\n",
              "        document.querySelector('#df-8790c286-fb02-4fc6-8f4b-fb88e091a23d button');\n",
              "      quickchartButtonEl.style.display =\n",
              "        google.colab.kernel.accessAllowed ? 'block' : 'none';\n",
              "    })();\n",
              "  </script>\n",
              "</div>\n",
              "\n",
              "    </div>\n",
              "  </div>\n"
            ]
          },
          "metadata": {},
          "execution_count": 16
        }
      ]
    },
    {
      "cell_type": "code",
      "source": [
        "# Identificar cuantos datos nulos hay en df por COLUMNA\n",
        "df.isnull().sum()"
      ],
      "metadata": {
        "colab": {
          "base_uri": "https://localhost:8080/"
        },
        "id": "UAvicn1nJd7w",
        "outputId": "78b0e945-2ef3-4d2e-daa9-e5dc6628f8a1"
      },
      "execution_count": null,
      "outputs": [
        {
          "output_type": "execute_result",
          "data": {
            "text/plain": [
              "col1    1\n",
              "col2    1\n",
              "col3    1\n",
              "dtype: int64"
            ]
          },
          "metadata": {},
          "execution_count": 18
        }
      ]
    },
    {
      "cell_type": "code",
      "source": [
        "# Identificar cuantos datos nulos hay en df en TOTAL\n",
        "df.isnull().sum().sum()"
      ],
      "metadata": {
        "colab": {
          "base_uri": "https://localhost:8080/"
        },
        "id": "NfWG3mbdHui-",
        "outputId": "2ab744bd-a6ef-4e69-d307-9f9bf24d41a8"
      },
      "execution_count": null,
      "outputs": [
        {
          "output_type": "execute_result",
          "data": {
            "text/plain": [
              "3"
            ]
          },
          "metadata": {},
          "execution_count": 19
        }
      ]
    },
    {
      "cell_type": "markdown",
      "source": [
        "Eliminar Filas con NUlos"
      ],
      "metadata": {
        "id": "Gg-vFfrCNXqX"
      }
    },
    {
      "cell_type": "code",
      "source": [
        "# Eliminar filas con nulos\n",
        "df.dropna(inplace = True)"
      ],
      "metadata": {
        "id": "0weeBhn6G7Sz"
      },
      "execution_count": null,
      "outputs": []
    },
    {
      "cell_type": "code",
      "source": [
        "print(df)\n",
        "print('---------------------')\n",
        "print(df.shape)"
      ],
      "metadata": {
        "colab": {
          "base_uri": "https://localhost:8080/"
        },
        "id": "8oArPLi8KcMg",
        "outputId": "72a5272a-a48e-43fa-9aac-1a7ea9033c50"
      },
      "execution_count": null,
      "outputs": [
        {
          "output_type": "stream",
          "name": "stdout",
          "text": [
            "   col1 col2   col3\n",
            "0   1.0    a   True\n",
            "1   2.0    b  False\n",
            "3   4.0    d   True\n",
            "4   5.0    e  False\n",
            "---------------------\n",
            "(4, 3)\n"
          ]
        }
      ]
    },
    {
      "cell_type": "markdown",
      "source": [
        "Rellenar nulos con una constante: .fillna()"
      ],
      "metadata": {
        "id": "RRJUopifNa0W"
      }
    },
    {
      "cell_type": "code",
      "source": [
        "#Relleno faltantes con un numero constante. En este caso cero\n",
        "df.fillna(0)"
      ],
      "metadata": {
        "colab": {
          "base_uri": "https://localhost:8080/",
          "height": 206
        },
        "id": "ScG6Vhf_G7t2",
        "outputId": "291b0d0d-42c8-44ef-d8a0-01937e236cb8"
      },
      "execution_count": null,
      "outputs": [
        {
          "output_type": "execute_result",
          "data": {
            "text/plain": [
              "   col1 col2   col3\n",
              "0   1.0    a   True\n",
              "1   2.0    b  False\n",
              "2   0.0    0      0\n",
              "3   4.0    d   True\n",
              "4   5.0    e  False"
            ],
            "text/html": [
              "\n",
              "  <div id=\"df-7c091950-5d83-40bb-92c4-23169e789217\" class=\"colab-df-container\">\n",
              "    <div>\n",
              "<style scoped>\n",
              "    .dataframe tbody tr th:only-of-type {\n",
              "        vertical-align: middle;\n",
              "    }\n",
              "\n",
              "    .dataframe tbody tr th {\n",
              "        vertical-align: top;\n",
              "    }\n",
              "\n",
              "    .dataframe thead th {\n",
              "        text-align: right;\n",
              "    }\n",
              "</style>\n",
              "<table border=\"1\" class=\"dataframe\">\n",
              "  <thead>\n",
              "    <tr style=\"text-align: right;\">\n",
              "      <th></th>\n",
              "      <th>col1</th>\n",
              "      <th>col2</th>\n",
              "      <th>col3</th>\n",
              "    </tr>\n",
              "  </thead>\n",
              "  <tbody>\n",
              "    <tr>\n",
              "      <th>0</th>\n",
              "      <td>1.0</td>\n",
              "      <td>a</td>\n",
              "      <td>True</td>\n",
              "    </tr>\n",
              "    <tr>\n",
              "      <th>1</th>\n",
              "      <td>2.0</td>\n",
              "      <td>b</td>\n",
              "      <td>False</td>\n",
              "    </tr>\n",
              "    <tr>\n",
              "      <th>2</th>\n",
              "      <td>0.0</td>\n",
              "      <td>0</td>\n",
              "      <td>0</td>\n",
              "    </tr>\n",
              "    <tr>\n",
              "      <th>3</th>\n",
              "      <td>4.0</td>\n",
              "      <td>d</td>\n",
              "      <td>True</td>\n",
              "    </tr>\n",
              "    <tr>\n",
              "      <th>4</th>\n",
              "      <td>5.0</td>\n",
              "      <td>e</td>\n",
              "      <td>False</td>\n",
              "    </tr>\n",
              "  </tbody>\n",
              "</table>\n",
              "</div>\n",
              "    <div class=\"colab-df-buttons\">\n",
              "\n",
              "  <div class=\"colab-df-container\">\n",
              "    <button class=\"colab-df-convert\" onclick=\"convertToInteractive('df-7c091950-5d83-40bb-92c4-23169e789217')\"\n",
              "            title=\"Convert this dataframe to an interactive table.\"\n",
              "            style=\"display:none;\">\n",
              "\n",
              "  <svg xmlns=\"http://www.w3.org/2000/svg\" height=\"24px\" viewBox=\"0 -960 960 960\">\n",
              "    <path d=\"M120-120v-720h720v720H120Zm60-500h600v-160H180v160Zm220 220h160v-160H400v160Zm0 220h160v-160H400v160ZM180-400h160v-160H180v160Zm440 0h160v-160H620v160ZM180-180h160v-160H180v160Zm440 0h160v-160H620v160Z\"/>\n",
              "  </svg>\n",
              "    </button>\n",
              "\n",
              "  <style>\n",
              "    .colab-df-container {\n",
              "      display:flex;\n",
              "      gap: 12px;\n",
              "    }\n",
              "\n",
              "    .colab-df-convert {\n",
              "      background-color: #E8F0FE;\n",
              "      border: none;\n",
              "      border-radius: 50%;\n",
              "      cursor: pointer;\n",
              "      display: none;\n",
              "      fill: #1967D2;\n",
              "      height: 32px;\n",
              "      padding: 0 0 0 0;\n",
              "      width: 32px;\n",
              "    }\n",
              "\n",
              "    .colab-df-convert:hover {\n",
              "      background-color: #E2EBFA;\n",
              "      box-shadow: 0px 1px 2px rgba(60, 64, 67, 0.3), 0px 1px 3px 1px rgba(60, 64, 67, 0.15);\n",
              "      fill: #174EA6;\n",
              "    }\n",
              "\n",
              "    .colab-df-buttons div {\n",
              "      margin-bottom: 4px;\n",
              "    }\n",
              "\n",
              "    [theme=dark] .colab-df-convert {\n",
              "      background-color: #3B4455;\n",
              "      fill: #D2E3FC;\n",
              "    }\n",
              "\n",
              "    [theme=dark] .colab-df-convert:hover {\n",
              "      background-color: #434B5C;\n",
              "      box-shadow: 0px 1px 3px 1px rgba(0, 0, 0, 0.15);\n",
              "      filter: drop-shadow(0px 1px 2px rgba(0, 0, 0, 0.3));\n",
              "      fill: #FFFFFF;\n",
              "    }\n",
              "  </style>\n",
              "\n",
              "    <script>\n",
              "      const buttonEl =\n",
              "        document.querySelector('#df-7c091950-5d83-40bb-92c4-23169e789217 button.colab-df-convert');\n",
              "      buttonEl.style.display =\n",
              "        google.colab.kernel.accessAllowed ? 'block' : 'none';\n",
              "\n",
              "      async function convertToInteractive(key) {\n",
              "        const element = document.querySelector('#df-7c091950-5d83-40bb-92c4-23169e789217');\n",
              "        const dataTable =\n",
              "          await google.colab.kernel.invokeFunction('convertToInteractive',\n",
              "                                                    [key], {});\n",
              "        if (!dataTable) return;\n",
              "\n",
              "        const docLinkHtml = 'Like what you see? Visit the ' +\n",
              "          '<a target=\"_blank\" href=https://colab.research.google.com/notebooks/data_table.ipynb>data table notebook</a>'\n",
              "          + ' to learn more about interactive tables.';\n",
              "        element.innerHTML = '';\n",
              "        dataTable['output_type'] = 'display_data';\n",
              "        await google.colab.output.renderOutput(dataTable, element);\n",
              "        const docLink = document.createElement('div');\n",
              "        docLink.innerHTML = docLinkHtml;\n",
              "        element.appendChild(docLink);\n",
              "      }\n",
              "    </script>\n",
              "  </div>\n",
              "\n",
              "\n",
              "<div id=\"df-b9921061-e5c3-410f-8129-716865e39f6a\">\n",
              "  <button class=\"colab-df-quickchart\" onclick=\"quickchart('df-b9921061-e5c3-410f-8129-716865e39f6a')\"\n",
              "            title=\"Suggest charts\"\n",
              "            style=\"display:none;\">\n",
              "\n",
              "<svg xmlns=\"http://www.w3.org/2000/svg\" height=\"24px\"viewBox=\"0 0 24 24\"\n",
              "     width=\"24px\">\n",
              "    <g>\n",
              "        <path d=\"M19 3H5c-1.1 0-2 .9-2 2v14c0 1.1.9 2 2 2h14c1.1 0 2-.9 2-2V5c0-1.1-.9-2-2-2zM9 17H7v-7h2v7zm4 0h-2V7h2v10zm4 0h-2v-4h2v4z\"/>\n",
              "    </g>\n",
              "</svg>\n",
              "  </button>\n",
              "\n",
              "<style>\n",
              "  .colab-df-quickchart {\n",
              "      --bg-color: #E8F0FE;\n",
              "      --fill-color: #1967D2;\n",
              "      --hover-bg-color: #E2EBFA;\n",
              "      --hover-fill-color: #174EA6;\n",
              "      --disabled-fill-color: #AAA;\n",
              "      --disabled-bg-color: #DDD;\n",
              "  }\n",
              "\n",
              "  [theme=dark] .colab-df-quickchart {\n",
              "      --bg-color: #3B4455;\n",
              "      --fill-color: #D2E3FC;\n",
              "      --hover-bg-color: #434B5C;\n",
              "      --hover-fill-color: #FFFFFF;\n",
              "      --disabled-bg-color: #3B4455;\n",
              "      --disabled-fill-color: #666;\n",
              "  }\n",
              "\n",
              "  .colab-df-quickchart {\n",
              "    background-color: var(--bg-color);\n",
              "    border: none;\n",
              "    border-radius: 50%;\n",
              "    cursor: pointer;\n",
              "    display: none;\n",
              "    fill: var(--fill-color);\n",
              "    height: 32px;\n",
              "    padding: 0;\n",
              "    width: 32px;\n",
              "  }\n",
              "\n",
              "  .colab-df-quickchart:hover {\n",
              "    background-color: var(--hover-bg-color);\n",
              "    box-shadow: 0 1px 2px rgba(60, 64, 67, 0.3), 0 1px 3px 1px rgba(60, 64, 67, 0.15);\n",
              "    fill: var(--button-hover-fill-color);\n",
              "  }\n",
              "\n",
              "  .colab-df-quickchart-complete:disabled,\n",
              "  .colab-df-quickchart-complete:disabled:hover {\n",
              "    background-color: var(--disabled-bg-color);\n",
              "    fill: var(--disabled-fill-color);\n",
              "    box-shadow: none;\n",
              "  }\n",
              "\n",
              "  .colab-df-spinner {\n",
              "    border: 2px solid var(--fill-color);\n",
              "    border-color: transparent;\n",
              "    border-bottom-color: var(--fill-color);\n",
              "    animation:\n",
              "      spin 1s steps(1) infinite;\n",
              "  }\n",
              "\n",
              "  @keyframes spin {\n",
              "    0% {\n",
              "      border-color: transparent;\n",
              "      border-bottom-color: var(--fill-color);\n",
              "      border-left-color: var(--fill-color);\n",
              "    }\n",
              "    20% {\n",
              "      border-color: transparent;\n",
              "      border-left-color: var(--fill-color);\n",
              "      border-top-color: var(--fill-color);\n",
              "    }\n",
              "    30% {\n",
              "      border-color: transparent;\n",
              "      border-left-color: var(--fill-color);\n",
              "      border-top-color: var(--fill-color);\n",
              "      border-right-color: var(--fill-color);\n",
              "    }\n",
              "    40% {\n",
              "      border-color: transparent;\n",
              "      border-right-color: var(--fill-color);\n",
              "      border-top-color: var(--fill-color);\n",
              "    }\n",
              "    60% {\n",
              "      border-color: transparent;\n",
              "      border-right-color: var(--fill-color);\n",
              "    }\n",
              "    80% {\n",
              "      border-color: transparent;\n",
              "      border-right-color: var(--fill-color);\n",
              "      border-bottom-color: var(--fill-color);\n",
              "    }\n",
              "    90% {\n",
              "      border-color: transparent;\n",
              "      border-bottom-color: var(--fill-color);\n",
              "    }\n",
              "  }\n",
              "</style>\n",
              "\n",
              "  <script>\n",
              "    async function quickchart(key) {\n",
              "      const quickchartButtonEl =\n",
              "        document.querySelector('#' + key + ' button');\n",
              "      quickchartButtonEl.disabled = true;  // To prevent multiple clicks.\n",
              "      quickchartButtonEl.classList.add('colab-df-spinner');\n",
              "      try {\n",
              "        const charts = await google.colab.kernel.invokeFunction(\n",
              "            'suggestCharts', [key], {});\n",
              "      } catch (error) {\n",
              "        console.error('Error during call to suggestCharts:', error);\n",
              "      }\n",
              "      quickchartButtonEl.classList.remove('colab-df-spinner');\n",
              "      quickchartButtonEl.classList.add('colab-df-quickchart-complete');\n",
              "    }\n",
              "    (() => {\n",
              "      let quickchartButtonEl =\n",
              "        document.querySelector('#df-b9921061-e5c3-410f-8129-716865e39f6a button');\n",
              "      quickchartButtonEl.style.display =\n",
              "        google.colab.kernel.accessAllowed ? 'block' : 'none';\n",
              "    })();\n",
              "  </script>\n",
              "</div>\n",
              "\n",
              "    </div>\n",
              "  </div>\n"
            ]
          },
          "metadata": {},
          "execution_count": 14
        }
      ]
    },
    {
      "cell_type": "code",
      "source": [
        "#Remplazo por columna\n",
        "df['col1'].fillna(0, inplace=True)\n",
        "df['col2'].fillna('X', inplace=True)\n",
        "df['col3'].fillna('DIFF', inplace=True)\n",
        "df"
      ],
      "metadata": {
        "colab": {
          "base_uri": "https://localhost:8080/",
          "height": 206
        },
        "id": "nPBFW4KqG7wz",
        "outputId": "cc652cc9-7226-42ef-e068-e565340d1bcf"
      },
      "execution_count": null,
      "outputs": [
        {
          "output_type": "execute_result",
          "data": {
            "text/plain": [
              "   col1 col2   col3\n",
              "0   1.0    a   True\n",
              "1   2.0    b  False\n",
              "2   0.0    X   DIFF\n",
              "3   4.0    d   True\n",
              "4   5.0    e  False"
            ],
            "text/html": [
              "\n",
              "  <div id=\"df-1d05601b-b6c9-484f-aef6-8cf61a498935\" class=\"colab-df-container\">\n",
              "    <div>\n",
              "<style scoped>\n",
              "    .dataframe tbody tr th:only-of-type {\n",
              "        vertical-align: middle;\n",
              "    }\n",
              "\n",
              "    .dataframe tbody tr th {\n",
              "        vertical-align: top;\n",
              "    }\n",
              "\n",
              "    .dataframe thead th {\n",
              "        text-align: right;\n",
              "    }\n",
              "</style>\n",
              "<table border=\"1\" class=\"dataframe\">\n",
              "  <thead>\n",
              "    <tr style=\"text-align: right;\">\n",
              "      <th></th>\n",
              "      <th>col1</th>\n",
              "      <th>col2</th>\n",
              "      <th>col3</th>\n",
              "    </tr>\n",
              "  </thead>\n",
              "  <tbody>\n",
              "    <tr>\n",
              "      <th>0</th>\n",
              "      <td>1.0</td>\n",
              "      <td>a</td>\n",
              "      <td>True</td>\n",
              "    </tr>\n",
              "    <tr>\n",
              "      <th>1</th>\n",
              "      <td>2.0</td>\n",
              "      <td>b</td>\n",
              "      <td>False</td>\n",
              "    </tr>\n",
              "    <tr>\n",
              "      <th>2</th>\n",
              "      <td>0.0</td>\n",
              "      <td>X</td>\n",
              "      <td>DIFF</td>\n",
              "    </tr>\n",
              "    <tr>\n",
              "      <th>3</th>\n",
              "      <td>4.0</td>\n",
              "      <td>d</td>\n",
              "      <td>True</td>\n",
              "    </tr>\n",
              "    <tr>\n",
              "      <th>4</th>\n",
              "      <td>5.0</td>\n",
              "      <td>e</td>\n",
              "      <td>False</td>\n",
              "    </tr>\n",
              "  </tbody>\n",
              "</table>\n",
              "</div>\n",
              "    <div class=\"colab-df-buttons\">\n",
              "\n",
              "  <div class=\"colab-df-container\">\n",
              "    <button class=\"colab-df-convert\" onclick=\"convertToInteractive('df-1d05601b-b6c9-484f-aef6-8cf61a498935')\"\n",
              "            title=\"Convert this dataframe to an interactive table.\"\n",
              "            style=\"display:none;\">\n",
              "\n",
              "  <svg xmlns=\"http://www.w3.org/2000/svg\" height=\"24px\" viewBox=\"0 -960 960 960\">\n",
              "    <path d=\"M120-120v-720h720v720H120Zm60-500h600v-160H180v160Zm220 220h160v-160H400v160Zm0 220h160v-160H400v160ZM180-400h160v-160H180v160Zm440 0h160v-160H620v160ZM180-180h160v-160H180v160Zm440 0h160v-160H620v160Z\"/>\n",
              "  </svg>\n",
              "    </button>\n",
              "\n",
              "  <style>\n",
              "    .colab-df-container {\n",
              "      display:flex;\n",
              "      gap: 12px;\n",
              "    }\n",
              "\n",
              "    .colab-df-convert {\n",
              "      background-color: #E8F0FE;\n",
              "      border: none;\n",
              "      border-radius: 50%;\n",
              "      cursor: pointer;\n",
              "      display: none;\n",
              "      fill: #1967D2;\n",
              "      height: 32px;\n",
              "      padding: 0 0 0 0;\n",
              "      width: 32px;\n",
              "    }\n",
              "\n",
              "    .colab-df-convert:hover {\n",
              "      background-color: #E2EBFA;\n",
              "      box-shadow: 0px 1px 2px rgba(60, 64, 67, 0.3), 0px 1px 3px 1px rgba(60, 64, 67, 0.15);\n",
              "      fill: #174EA6;\n",
              "    }\n",
              "\n",
              "    .colab-df-buttons div {\n",
              "      margin-bottom: 4px;\n",
              "    }\n",
              "\n",
              "    [theme=dark] .colab-df-convert {\n",
              "      background-color: #3B4455;\n",
              "      fill: #D2E3FC;\n",
              "    }\n",
              "\n",
              "    [theme=dark] .colab-df-convert:hover {\n",
              "      background-color: #434B5C;\n",
              "      box-shadow: 0px 1px 3px 1px rgba(0, 0, 0, 0.15);\n",
              "      filter: drop-shadow(0px 1px 2px rgba(0, 0, 0, 0.3));\n",
              "      fill: #FFFFFF;\n",
              "    }\n",
              "  </style>\n",
              "\n",
              "    <script>\n",
              "      const buttonEl =\n",
              "        document.querySelector('#df-1d05601b-b6c9-484f-aef6-8cf61a498935 button.colab-df-convert');\n",
              "      buttonEl.style.display =\n",
              "        google.colab.kernel.accessAllowed ? 'block' : 'none';\n",
              "\n",
              "      async function convertToInteractive(key) {\n",
              "        const element = document.querySelector('#df-1d05601b-b6c9-484f-aef6-8cf61a498935');\n",
              "        const dataTable =\n",
              "          await google.colab.kernel.invokeFunction('convertToInteractive',\n",
              "                                                    [key], {});\n",
              "        if (!dataTable) return;\n",
              "\n",
              "        const docLinkHtml = 'Like what you see? Visit the ' +\n",
              "          '<a target=\"_blank\" href=https://colab.research.google.com/notebooks/data_table.ipynb>data table notebook</a>'\n",
              "          + ' to learn more about interactive tables.';\n",
              "        element.innerHTML = '';\n",
              "        dataTable['output_type'] = 'display_data';\n",
              "        await google.colab.output.renderOutput(dataTable, element);\n",
              "        const docLink = document.createElement('div');\n",
              "        docLink.innerHTML = docLinkHtml;\n",
              "        element.appendChild(docLink);\n",
              "      }\n",
              "    </script>\n",
              "  </div>\n",
              "\n",
              "\n",
              "<div id=\"df-b95b1d82-d860-4fe4-8e77-1d590b168c98\">\n",
              "  <button class=\"colab-df-quickchart\" onclick=\"quickchart('df-b95b1d82-d860-4fe4-8e77-1d590b168c98')\"\n",
              "            title=\"Suggest charts\"\n",
              "            style=\"display:none;\">\n",
              "\n",
              "<svg xmlns=\"http://www.w3.org/2000/svg\" height=\"24px\"viewBox=\"0 0 24 24\"\n",
              "     width=\"24px\">\n",
              "    <g>\n",
              "        <path d=\"M19 3H5c-1.1 0-2 .9-2 2v14c0 1.1.9 2 2 2h14c1.1 0 2-.9 2-2V5c0-1.1-.9-2-2-2zM9 17H7v-7h2v7zm4 0h-2V7h2v10zm4 0h-2v-4h2v4z\"/>\n",
              "    </g>\n",
              "</svg>\n",
              "  </button>\n",
              "\n",
              "<style>\n",
              "  .colab-df-quickchart {\n",
              "      --bg-color: #E8F0FE;\n",
              "      --fill-color: #1967D2;\n",
              "      --hover-bg-color: #E2EBFA;\n",
              "      --hover-fill-color: #174EA6;\n",
              "      --disabled-fill-color: #AAA;\n",
              "      --disabled-bg-color: #DDD;\n",
              "  }\n",
              "\n",
              "  [theme=dark] .colab-df-quickchart {\n",
              "      --bg-color: #3B4455;\n",
              "      --fill-color: #D2E3FC;\n",
              "      --hover-bg-color: #434B5C;\n",
              "      --hover-fill-color: #FFFFFF;\n",
              "      --disabled-bg-color: #3B4455;\n",
              "      --disabled-fill-color: #666;\n",
              "  }\n",
              "\n",
              "  .colab-df-quickchart {\n",
              "    background-color: var(--bg-color);\n",
              "    border: none;\n",
              "    border-radius: 50%;\n",
              "    cursor: pointer;\n",
              "    display: none;\n",
              "    fill: var(--fill-color);\n",
              "    height: 32px;\n",
              "    padding: 0;\n",
              "    width: 32px;\n",
              "  }\n",
              "\n",
              "  .colab-df-quickchart:hover {\n",
              "    background-color: var(--hover-bg-color);\n",
              "    box-shadow: 0 1px 2px rgba(60, 64, 67, 0.3), 0 1px 3px 1px rgba(60, 64, 67, 0.15);\n",
              "    fill: var(--button-hover-fill-color);\n",
              "  }\n",
              "\n",
              "  .colab-df-quickchart-complete:disabled,\n",
              "  .colab-df-quickchart-complete:disabled:hover {\n",
              "    background-color: var(--disabled-bg-color);\n",
              "    fill: var(--disabled-fill-color);\n",
              "    box-shadow: none;\n",
              "  }\n",
              "\n",
              "  .colab-df-spinner {\n",
              "    border: 2px solid var(--fill-color);\n",
              "    border-color: transparent;\n",
              "    border-bottom-color: var(--fill-color);\n",
              "    animation:\n",
              "      spin 1s steps(1) infinite;\n",
              "  }\n",
              "\n",
              "  @keyframes spin {\n",
              "    0% {\n",
              "      border-color: transparent;\n",
              "      border-bottom-color: var(--fill-color);\n",
              "      border-left-color: var(--fill-color);\n",
              "    }\n",
              "    20% {\n",
              "      border-color: transparent;\n",
              "      border-left-color: var(--fill-color);\n",
              "      border-top-color: var(--fill-color);\n",
              "    }\n",
              "    30% {\n",
              "      border-color: transparent;\n",
              "      border-left-color: var(--fill-color);\n",
              "      border-top-color: var(--fill-color);\n",
              "      border-right-color: var(--fill-color);\n",
              "    }\n",
              "    40% {\n",
              "      border-color: transparent;\n",
              "      border-right-color: var(--fill-color);\n",
              "      border-top-color: var(--fill-color);\n",
              "    }\n",
              "    60% {\n",
              "      border-color: transparent;\n",
              "      border-right-color: var(--fill-color);\n",
              "    }\n",
              "    80% {\n",
              "      border-color: transparent;\n",
              "      border-right-color: var(--fill-color);\n",
              "      border-bottom-color: var(--fill-color);\n",
              "    }\n",
              "    90% {\n",
              "      border-color: transparent;\n",
              "      border-bottom-color: var(--fill-color);\n",
              "    }\n",
              "  }\n",
              "</style>\n",
              "\n",
              "  <script>\n",
              "    async function quickchart(key) {\n",
              "      const quickchartButtonEl =\n",
              "        document.querySelector('#' + key + ' button');\n",
              "      quickchartButtonEl.disabled = true;  // To prevent multiple clicks.\n",
              "      quickchartButtonEl.classList.add('colab-df-spinner');\n",
              "      try {\n",
              "        const charts = await google.colab.kernel.invokeFunction(\n",
              "            'suggestCharts', [key], {});\n",
              "      } catch (error) {\n",
              "        console.error('Error during call to suggestCharts:', error);\n",
              "      }\n",
              "      quickchartButtonEl.classList.remove('colab-df-spinner');\n",
              "      quickchartButtonEl.classList.add('colab-df-quickchart-complete');\n",
              "    }\n",
              "    (() => {\n",
              "      let quickchartButtonEl =\n",
              "        document.querySelector('#df-b95b1d82-d860-4fe4-8e77-1d590b168c98 button');\n",
              "      quickchartButtonEl.style.display =\n",
              "        google.colab.kernel.accessAllowed ? 'block' : 'none';\n",
              "    })();\n",
              "  </script>\n",
              "</div>\n",
              "\n",
              "  <div id=\"id_e2b7359c-4201-4b0b-a1b6-84b752171ca6\">\n",
              "    <style>\n",
              "      .colab-df-generate {\n",
              "        background-color: #E8F0FE;\n",
              "        border: none;\n",
              "        border-radius: 50%;\n",
              "        cursor: pointer;\n",
              "        display: none;\n",
              "        fill: #1967D2;\n",
              "        height: 32px;\n",
              "        padding: 0 0 0 0;\n",
              "        width: 32px;\n",
              "      }\n",
              "\n",
              "      .colab-df-generate:hover {\n",
              "        background-color: #E2EBFA;\n",
              "        box-shadow: 0px 1px 2px rgba(60, 64, 67, 0.3), 0px 1px 3px 1px rgba(60, 64, 67, 0.15);\n",
              "        fill: #174EA6;\n",
              "      }\n",
              "\n",
              "      [theme=dark] .colab-df-generate {\n",
              "        background-color: #3B4455;\n",
              "        fill: #D2E3FC;\n",
              "      }\n",
              "\n",
              "      [theme=dark] .colab-df-generate:hover {\n",
              "        background-color: #434B5C;\n",
              "        box-shadow: 0px 1px 3px 1px rgba(0, 0, 0, 0.15);\n",
              "        filter: drop-shadow(0px 1px 2px rgba(0, 0, 0, 0.3));\n",
              "        fill: #FFFFFF;\n",
              "      }\n",
              "    </style>\n",
              "    <button class=\"colab-df-generate\" onclick=\"generateWithVariable('df')\"\n",
              "            title=\"Generate code using this dataframe.\"\n",
              "            style=\"display:none;\">\n",
              "\n",
              "  <svg xmlns=\"http://www.w3.org/2000/svg\" height=\"24px\"viewBox=\"0 0 24 24\"\n",
              "       width=\"24px\">\n",
              "    <path d=\"M7,19H8.4L18.45,9,17,7.55,7,17.6ZM5,21V16.75L18.45,3.32a2,2,0,0,1,2.83,0l1.4,1.43a1.91,1.91,0,0,1,.58,1.4,1.91,1.91,0,0,1-.58,1.4L9.25,21ZM18.45,9,17,7.55Zm-12,3A5.31,5.31,0,0,0,4.9,8.1,5.31,5.31,0,0,0,1,6.5,5.31,5.31,0,0,0,4.9,4.9,5.31,5.31,0,0,0,6.5,1,5.31,5.31,0,0,0,8.1,4.9,5.31,5.31,0,0,0,12,6.5,5.46,5.46,0,0,0,6.5,12Z\"/>\n",
              "  </svg>\n",
              "    </button>\n",
              "    <script>\n",
              "      (() => {\n",
              "      const buttonEl =\n",
              "        document.querySelector('#id_e2b7359c-4201-4b0b-a1b6-84b752171ca6 button.colab-df-generate');\n",
              "      buttonEl.style.display =\n",
              "        google.colab.kernel.accessAllowed ? 'block' : 'none';\n",
              "\n",
              "      buttonEl.onclick = () => {\n",
              "        google.colab.notebook.generateWithVariable('df');\n",
              "      }\n",
              "      })();\n",
              "    </script>\n",
              "  </div>\n",
              "\n",
              "    </div>\n",
              "  </div>\n"
            ]
          },
          "metadata": {},
          "execution_count": 50
        }
      ]
    },
    {
      "cell_type": "code",
      "source": [
        "# Reemplazar con la media\n",
        "df.fillna(df.mean(), inplace = True)\n",
        "\n",
        "print(df.head().round(2))"
      ],
      "metadata": {
        "colab": {
          "base_uri": "https://localhost:8080/"
        },
        "id": "_vm5fJVNNFN_",
        "outputId": "79615797-3dbd-47c7-d64e-af654d5ca5e3"
      },
      "execution_count": null,
      "outputs": [
        {
          "output_type": "stream",
          "name": "stdout",
          "text": [
            "   col1  col2   col3\n",
            "0   1.0     a   True\n",
            "1   2.0     b  False\n",
            "2   3.0  None    0.5\n",
            "3   4.0     d   True\n",
            "4   5.0     e  False\n"
          ]
        },
        {
          "output_type": "stream",
          "name": "stderr",
          "text": [
            "<ipython-input-62-c23dd841967c>:2: FutureWarning: The default value of numeric_only in DataFrame.mean is deprecated. In a future version, it will default to False. In addition, specifying 'numeric_only=None' is deprecated. Select only valid columns or specify the value of numeric_only to silence this warning.\n",
            "  df.fillna(df.mean(), inplace = True)\n"
          ]
        }
      ]
    },
    {
      "cell_type": "markdown",
      "source": [
        "### Simple Imputer"
      ],
      "metadata": {
        "id": "joqNCT4COKGR"
      }
    },
    {
      "cell_type": "code",
      "source": [
        "from sklearn.impute import SimpleImputer"
      ],
      "metadata": {
        "id": "1TJ745mSORXd"
      },
      "execution_count": null,
      "outputs": []
    },
    {
      "cell_type": "code",
      "source": [
        "# Para obtener ayuda\n",
        "SimpleImputer?"
      ],
      "metadata": {
        "id": "BJQ3TguHQlMG"
      },
      "execution_count": null,
      "outputs": []
    },
    {
      "cell_type": "code",
      "source": [
        "# Creo dataset que tenga datos nulos\n",
        "import pandas as pd\n",
        "import numpy as np\n",
        "\n",
        "# Create a DataFrame\n",
        "data = {\n",
        "    \"col1\": [1, 2, None, 4, 5],\n",
        "    \"col2\": [\"a\", \"b\", None, \"d\", \"e\"],\n",
        "    \"col3\": [True, False, None, True, False],\n",
        "}\n",
        "df = pd.DataFrame(data)\n",
        "\n",
        "# Print the DataFrame\n",
        "print(df)\n",
        "print('---------------------')\n",
        "print(df.shape)"
      ],
      "metadata": {
        "colab": {
          "base_uri": "https://localhost:8080/"
        },
        "id": "QPomt73YOT8Z",
        "outputId": "d0671bf5-eb54-4876-d5f5-780578042dcc"
      },
      "execution_count": null,
      "outputs": [
        {
          "output_type": "stream",
          "name": "stdout",
          "text": [
            "   col1  col2   col3\n",
            "0   1.0     a   True\n",
            "1   2.0     b  False\n",
            "2   NaN  None   None\n",
            "3   4.0     d   True\n",
            "4   5.0     e  False\n",
            "---------------------\n",
            "(5, 3)\n"
          ]
        }
      ]
    },
    {
      "cell_type": "code",
      "source": [
        "#Creo data set\n",
        "import pandas as pd\n",
        "import numpy as np\n",
        "\n",
        "# Create a DataFrame with 5 rows and 5 columns\n",
        "df = pd.DataFrame(np.random.randn(5, 5))\n",
        "\n",
        "# Make 50% of the values NaN\n",
        "df[np.random.rand(5, 5) < 0.5] = np.nan\n",
        "\n",
        "# Print the DataFrame\n",
        "print(df.head())"
      ],
      "metadata": {
        "colab": {
          "base_uri": "https://localhost:8080/"
        },
        "id": "d4YJWDHaOgqD",
        "outputId": "36d5a48d-ecbc-4506-b820-f77336964896"
      },
      "execution_count": null,
      "outputs": [
        {
          "output_type": "stream",
          "name": "stdout",
          "text": [
            "          0         1        2         3         4\n",
            "0       NaN       NaN      NaN -0.993522 -0.937348\n",
            "1       NaN -1.005321      NaN       NaN       NaN\n",
            "2       NaN  1.188345      NaN -0.346119       NaN\n",
            "3 -0.833625       NaN      NaN -1.587304  2.020656\n",
            "4       NaN       NaN  0.25609  0.888558       NaN\n"
          ]
        }
      ]
    },
    {
      "cell_type": "markdown",
      "source": [
        "Relleno con media"
      ],
      "metadata": {
        "id": "gcAYFPMYPooV"
      }
    },
    {
      "cell_type": "code",
      "source": [
        "# Crear un numpy array con los valores\n",
        "valores = df.values\n",
        "\n",
        "# Definir el imputador\n",
        "imputador = SimpleImputer(missing_values=np.nan, strategy='mean')\n",
        "\n",
        "# Transformar el dataset\n",
        "transformados = imputador.fit_transform(valores)\n",
        "\n",
        "#Transformo a Data Frame\n",
        "df_transformado =pd.DataFrame(transformados)\n",
        "\n",
        "\n",
        "print(df_transformado.head().round(2))\n",
        "print('---------------------')\n",
        "print(df.sum().sum())"
      ],
      "metadata": {
        "colab": {
          "base_uri": "https://localhost:8080/"
        },
        "id": "D_tpNNtKORgs",
        "outputId": "49f0bc83-2c7c-4c3d-c5a3-26c9073ceade"
      },
      "execution_count": null,
      "outputs": [
        {
          "output_type": "stream",
          "name": "stdout",
          "text": [
            "      0     1     2     3\n",
            "0 -0.59 -0.65  0.30 -0.05\n",
            "1 -0.60 -0.65 -0.58 -1.86\n",
            "2 -2.05 -0.65 -0.58 -0.80\n",
            "3  0.88 -0.65 -0.58 -0.90\n",
            "4 -0.59 -0.65 -1.47 -0.90\n",
            "---------------------\n",
            "-6.302172678283577\n"
          ]
        }
      ]
    },
    {
      "cell_type": "markdown",
      "source": [
        "Remplazo por la mediana"
      ],
      "metadata": {
        "id": "hD87jAe9QJsV"
      }
    },
    {
      "cell_type": "code",
      "source": [
        "# Crear un numpy array con los valores\n",
        "valores = df.values\n",
        "\n",
        "# Definir el imputador\n",
        "imputador = SimpleImputer(missing_values=np.nan, strategy='median')\n",
        "\n",
        "# Transformar el dataset\n",
        "transformados = imputador.fit_transform(valores)\n",
        "\n",
        "#Transformo a Data Frame\n",
        "df_transformado=pd.DataFrame(transformados)\n",
        "\n",
        "\n",
        "print(df_transformado.head().round(2))\n",
        "print('---------------------')\n",
        "print(df.sum().sum())"
      ],
      "metadata": {
        "colab": {
          "base_uri": "https://localhost:8080/"
        },
        "id": "iQBQNG8XP8WN",
        "outputId": "83b2a6c7-d68b-47b9-e210-b80386be5ad5"
      },
      "execution_count": null,
      "outputs": [
        {
          "output_type": "stream",
          "name": "stdout",
          "text": [
            "      0     1     2     3\n",
            "0 -0.60 -0.65  0.30 -0.05\n",
            "1 -0.60 -0.65 -0.58 -1.86\n",
            "2 -2.05 -0.65 -0.58 -0.80\n",
            "3  0.88 -0.65 -0.58 -0.80\n",
            "4 -0.60 -0.65 -1.47 -0.80\n",
            "---------------------\n",
            "-6.302172678283577\n"
          ]
        }
      ]
    },
    {
      "cell_type": "markdown",
      "source": [
        "Remplazo por la moda"
      ],
      "metadata": {
        "id": "5iC7rWtlQL_S"
      }
    },
    {
      "cell_type": "code",
      "source": [
        "# Crear un numpy array con los valores\n",
        "valores = df.values\n",
        "\n",
        "# Definir el imputador\n",
        "imputador = SimpleImputer(missing_values=np.nan, strategy='most_frequent')\n",
        "\n",
        "# Transformar el dataset\n",
        "transformados = imputador.fit_transform(valores)\n",
        "\n",
        "#Transformo a Data Frame\n",
        "df_transformado =pd.DataFrame(transformados)\n",
        "\n",
        "\n",
        "print(df_transformado.head().round(2))\n",
        "print('---------------------')\n",
        "print(df.sum().sum())"
      ],
      "metadata": {
        "colab": {
          "base_uri": "https://localhost:8080/"
        },
        "id": "wfNueujxPZgy",
        "outputId": "460c2a26-7950-4016-87ef-6f66055bb147"
      },
      "execution_count": null,
      "outputs": [
        {
          "output_type": "stream",
          "name": "stdout",
          "text": [
            "      0     1     2     3\n",
            "0 -2.05 -0.65  0.30 -0.05\n",
            "1 -0.60 -0.65 -1.47 -1.86\n",
            "2 -2.05 -0.65 -1.47 -0.80\n",
            "3  0.88 -0.65 -1.47 -1.86\n",
            "4 -2.05 -0.65 -1.47 -1.86\n",
            "---------------------\n",
            "-6.302172678283577\n"
          ]
        }
      ]
    },
    {
      "cell_type": "markdown",
      "source": [
        "### **Missingo** : Detecto Nulos"
      ],
      "metadata": {
        "id": "p0axR6OLdSHB"
      }
    },
    {
      "cell_type": "code",
      "source": [
        "pip install missingno"
      ],
      "metadata": {
        "id": "ZCRJCd6JdWEC",
        "colab": {
          "base_uri": "https://localhost:8080/"
        },
        "outputId": "3f489563-861d-4ed3-c6f3-896900240e62"
      },
      "execution_count": null,
      "outputs": [
        {
          "output_type": "stream",
          "name": "stdout",
          "text": [
            "Requirement already satisfied: missingno in /usr/local/lib/python3.10/dist-packages (0.5.2)\n",
            "Requirement already satisfied: numpy in /usr/local/lib/python3.10/dist-packages (from missingno) (1.25.2)\n",
            "Requirement already satisfied: matplotlib in /usr/local/lib/python3.10/dist-packages (from missingno) (3.7.1)\n",
            "Requirement already satisfied: scipy in /usr/local/lib/python3.10/dist-packages (from missingno) (1.11.4)\n",
            "Requirement already satisfied: seaborn in /usr/local/lib/python3.10/dist-packages (from missingno) (0.13.1)\n",
            "Requirement already satisfied: contourpy>=1.0.1 in /usr/local/lib/python3.10/dist-packages (from matplotlib->missingno) (1.2.0)\n",
            "Requirement already satisfied: cycler>=0.10 in /usr/local/lib/python3.10/dist-packages (from matplotlib->missingno) (0.12.1)\n",
            "Requirement already satisfied: fonttools>=4.22.0 in /usr/local/lib/python3.10/dist-packages (from matplotlib->missingno) (4.48.1)\n",
            "Requirement already satisfied: kiwisolver>=1.0.1 in /usr/local/lib/python3.10/dist-packages (from matplotlib->missingno) (1.4.5)\n",
            "Requirement already satisfied: packaging>=20.0 in /usr/local/lib/python3.10/dist-packages (from matplotlib->missingno) (23.2)\n",
            "Requirement already satisfied: pillow>=6.2.0 in /usr/local/lib/python3.10/dist-packages (from matplotlib->missingno) (9.4.0)\n",
            "Requirement already satisfied: pyparsing>=2.3.1 in /usr/local/lib/python3.10/dist-packages (from matplotlib->missingno) (3.1.1)\n",
            "Requirement already satisfied: python-dateutil>=2.7 in /usr/local/lib/python3.10/dist-packages (from matplotlib->missingno) (2.8.2)\n",
            "Requirement already satisfied: pandas>=1.2 in /usr/local/lib/python3.10/dist-packages (from seaborn->missingno) (1.5.3)\n",
            "Requirement already satisfied: pytz>=2020.1 in /usr/local/lib/python3.10/dist-packages (from pandas>=1.2->seaborn->missingno) (2023.4)\n",
            "Requirement already satisfied: six>=1.5 in /usr/local/lib/python3.10/dist-packages (from python-dateutil>=2.7->matplotlib->missingno) (1.16.0)\n"
          ]
        }
      ]
    },
    {
      "cell_type": "code",
      "source": [
        "import missingno as msno"
      ],
      "metadata": {
        "id": "xpUP7BxhDTF6"
      },
      "execution_count": null,
      "outputs": []
    },
    {
      "cell_type": "code",
      "source": [
        "#Creo data set\n",
        "import pandas as pd\n",
        "import numpy as np\n",
        "\n",
        "# Create a DataFrame with 5 rows and 5 columns\n",
        "df = pd.DataFrame(np.random.randn(5, 5))\n",
        "\n",
        "# Make 50% of the values NaN\n",
        "df[np.random.rand(5, 5) < 0.5] = np.nan\n",
        "\n",
        "# Print the DataFrame\n",
        "print(df.head())"
      ],
      "metadata": {
        "colab": {
          "base_uri": "https://localhost:8080/"
        },
        "id": "LfSIHQGz9OvI",
        "outputId": "c6e0a40d-4967-429c-9506-9c33f20763d3"
      },
      "execution_count": null,
      "outputs": [
        {
          "output_type": "stream",
          "name": "stdout",
          "text": [
            "          0         1         2         3         4\n",
            "0  0.405423       NaN -0.485935       NaN       NaN\n",
            "1 -1.627159       NaN -0.061286 -0.124040 -0.553743\n",
            "2 -1.107934  1.369104       NaN       NaN -0.753063\n",
            "3  0.019347       NaN       NaN -0.436488       NaN\n",
            "4 -0.590900 -0.392064       NaN       NaN       NaN\n"
          ]
        }
      ]
    },
    {
      "cell_type": "code",
      "source": [
        "#Matrix\n",
        "msno.matrix(df)"
      ],
      "metadata": {
        "colab": {
          "base_uri": "https://localhost:8080/",
          "height": 498
        },
        "id": "KMA6E3Yo9D9S",
        "outputId": "417f17bc-51b4-4e67-ff3c-2d6435505a6e"
      },
      "execution_count": null,
      "outputs": [
        {
          "output_type": "execute_result",
          "data": {
            "text/plain": [
              "<Axes: >"
            ]
          },
          "metadata": {},
          "execution_count": 23
        },
        {
          "output_type": "display_data",
          "data": {
            "text/plain": [
              "<Figure size 2500x1000 with 2 Axes>"
            ],
            "image/png": "[encoded data removed]"
          },
          "metadata": {}
        }
      ]
    },
    {
      "cell_type": "code",
      "source": [
        "#Heatmap\n",
        "msno.heatmap(df)"
      ],
      "metadata": {
        "colab": {
          "base_uri": "https://localhost:8080/",
          "height": 784
        },
        "id": "pVTJwt5I9EA8",
        "outputId": "062805d1-157a-4935-8381-733e6993a2d3"
      },
      "execution_count": null,
      "outputs": [
        {
          "output_type": "execute_result",
          "data": {
            "text/plain": [
              "<Axes: >"
            ]
          },
          "metadata": {},
          "execution_count": 24
        },
        {
          "output_type": "display_data",
          "data": {
            "text/plain": [
              "<Figure size 2000x1200 with 2 Axes>"
            ],
            "image/png": "[encoded data removed]"
          },
          "metadata": {}
        }
      ]
    },
    {
      "cell_type": "code",
      "source": [
        "#Dendrogram\n",
        "msno.dendrogram(df)"
      ],
      "metadata": {
        "colab": {
          "base_uri": "https://localhost:8080/",
          "height": 486
        },
        "id": "QfnhN4wH9EFT",
        "outputId": "9bf3a0f2-2e4c-4d53-b42a-566ffe08e5ed"
      },
      "execution_count": null,
      "outputs": [
        {
          "output_type": "execute_result",
          "data": {
            "text/plain": [
              "<Axes: >"
            ]
          },
          "metadata": {},
          "execution_count": 26
        },
        {
          "output_type": "display_data",
          "data": {
            "text/plain": [
              "<Figure size 2500x1000 with 1 Axes>"
            ],
            "image/png": "[encoded data removed]"
          },
          "metadata": {}
        }
      ]
    },
    {
      "cell_type": "markdown",
      "source": [
        "### Imputacion: Numericos\n",
        "\n",
        "*   Media o Mediana o Moda\n",
        "*   Valor Constante\n",
        "*   Valor al Azar\n"
      ],
      "metadata": {
        "id": "DUwGfOsUTLrk"
      }
    },
    {
      "cell_type": "markdown",
      "source": [
        "Columnas Numericas con nulos\n",
        "\n",
        "Relleno con la Mediana"
      ],
      "metadata": {
        "id": "CRC9HcBL-uM6"
      }
    },
    {
      "cell_type": "code",
      "source": [
        "#Parto de df_x que es el df habiendo borrado los columnas que no servian\n",
        "\n",
        "#Selecciono las columnas numericas a interpolar\n",
        "col_inter= ['LotFrontage','GarageYrBlt','MasVnrArea'] # Columnas a interpolar\n",
        "\n",
        "# reemplazar por la mediana en las columnas numericas en col_inter\n",
        "for i in col_inter:\n",
        "  df_x[i] = df_x[i].fillna(df_x[i].median())"
      ],
      "metadata": {
        "id": "_vse1Wxg-vxI"
      },
      "execution_count": null,
      "outputs": []
    },
    {
      "cell_type": "markdown",
      "source": [
        "**Simple Imputer**\n",
        "\n",
        "Columnas Numericas con nulos\n",
        "\n",
        "Relleno con la Media"
      ],
      "metadata": {
        "id": "rr1eQ1AwAmxp"
      }
    },
    {
      "cell_type": "code",
      "source": [
        "#Relleno con le media\n",
        "\n",
        "from sklearn.impute import SimpleImputer\n",
        "imputer = SimpleImputer(strategy = 'mean')\n",
        "\n",
        "imputer.fit(df_num[['surface_total']])\n",
        "train['surface_total'] = imputer.transform(train[['surface_total']])"
      ],
      "metadata": {
        "id": "NFDHn4ufAm6H"
      },
      "execution_count": null,
      "outputs": []
    },
    {
      "cell_type": "markdown",
      "source": [
        "Relleno con valor Constante al azar"
      ],
      "metadata": {
        "id": "qOTI5anXBZia"
      }
    },
    {
      "cell_type": "code",
      "source": [
        "# Relleno los nulos con VALOR CONTANTE o AL AZAR: cero\n",
        "df['COL'] = df['COL'].fillna(0)\n"
      ],
      "metadata": {
        "id": "kyzZdBOJBZoU"
      },
      "execution_count": null,
      "outputs": []
    },
    {
      "cell_type": "markdown",
      "source": [
        "### **Imputacion: Categoricas**\n",
        "\n",
        "Relleno con valor consante \"Desconocido\""
      ],
      "metadata": {
        "id": "btlfS81V_9uJ"
      }
    },
    {
      "cell_type": "code",
      "source": [
        "#Parto de df_x que es el df habiendo borrado los columnas que no servian\n",
        "\n",
        "#Selecciono Columnas cateogoricas a rellenar\n",
        "col_cat= ['FireplaceQu','GarageFinish','GarageCond','GarageType','BsmtExposure','BsmtFinType2','BsmtFinType1','BsmtCond',\n",
        "          'BsmtQual','MasVnrType','Electrical'] # Columnas cateogoricas\n",
        "\n",
        "for i in col_cat: # Reemplazar los vacios por Desconocido\n",
        "  train_x[i] = train_x[i].fillna('Desconocido')"
      ],
      "metadata": {
        "id": "Vu72e4TiFESg"
      },
      "execution_count": null,
      "outputs": []
    },
    {
      "cell_type": "code",
      "source": [
        "train_x.COLUMNX.isnull().sum() # Verificando que funciona"
      ],
      "metadata": {
        "id": "_2F0yj3pF0FK"
      },
      "execution_count": null,
      "outputs": []
    },
    {
      "cell_type": "code",
      "source": [
        "train_x.COLUMNX.dtype # Verificando que funciona"
      ],
      "metadata": {
        "id": "JR_kWSN8F0Xp"
      },
      "execution_count": null,
      "outputs": []
    },
    {
      "cell_type": "code",
      "source": [
        "train_x.COLUMNX.value_counts() # Verificando que funciona"
      ],
      "metadata": {
        "id": "Qkh3zku8F0bS"
      },
      "execution_count": null,
      "outputs": []
    },
    {
      "cell_type": "markdown",
      "source": [
        "## Outliers\n",
        "\n",
        "\n",
        "C44 I: https://colab.research.google.com/drive/1QsU8yRXdlFIYs5AK2hokq84FQrHDlQYP\n",
        "\n",
        "C44 II: https://colab.research.google.com/drive/1bMBfbxGK4Wjhc11rt6Qfhm_YzDadsIxK"
      ],
      "metadata": {
        "id": "CdO1BklUOnM9"
      }
    },
    {
      "cell_type": "markdown",
      "source": [
        "### Visualizo Outliers\n",
        "**Diagrama de Caja de Bigotes**"
      ],
      "metadata": {
        "id": "yv2XKmv_Oq3G"
      }
    },
    {
      "cell_type": "code",
      "source": [
        "# Con atipicos\n",
        "plt.figure(figsize=(12,6))\n",
        "sns.boxplot(data=df)"
      ],
      "metadata": {
        "id": "oaCiYXP4RULx"
      },
      "execution_count": null,
      "outputs": []
    },
    {
      "cell_type": "code",
      "source": [
        "# Sin atipicos\n",
        "plt.figure(figsize=(12,6))\n",
        "sns.boxplot(data=df, showfliers=False)"
      ],
      "metadata": {
        "id": "53nNyvyCG2kx"
      },
      "execution_count": null,
      "outputs": []
    },
    {
      "cell_type": "markdown",
      "source": [
        "### **IQR**"
      ],
      "metadata": {
        "id": "B4qPV69GOq68"
      }
    },
    {
      "cell_type": "markdown",
      "source": [
        "Kaggle"
      ],
      "metadata": {
        "id": "pfZSvGAZlIeG"
      }
    },
    {
      "cell_type": "code",
      "source": [
        "#Mediante IQR eliminamos filas con outliers\n",
        "def remove_outliers(df, x):\n",
        "    q25 = np.percentile(df[x], 25)\n",
        "    q75 = np.percentile(df[x], 75)\n",
        "    iqr = q75 - q25\n",
        "    cut_off = iqr * 1.5\n",
        "    lower, upper = 1, (q75 + cut_off)\n",
        "    df = df[(df[x] < upper) & (df[x] > lower)]\n",
        "    print(f\"Outliers of {x} are removed.\\n\")\n",
        "    return df"
      ],
      "metadata": {
        "id": "hT_BKBiOOspV"
      },
      "execution_count": null,
      "outputs": []
    },
    {
      "cell_type": "markdown",
      "source": [
        "ChatGPT"
      ],
      "metadata": {
        "id": "vUe3gQ19lNH5"
      }
    },
    {
      "cell_type": "code",
      "source": [
        "# Definir los percentiles para eliminar los outliers (por ejemplo, percentil 5 y percentil 95)\n",
        "percentile_low = 5\n",
        "percentile_high = 95\n",
        "\n",
        "# Calcular los percentiles\n",
        "low_threshold = df['COLUMNA_CON_OUTLIERS'].quantile(percentile_low/100)\n",
        "high_threshold = df['COLUMNA_CON_OUTLIERS'].quantile(percentile_high/100)\n",
        "\n",
        "# Eliminar los outliers\n",
        "df = df[(df['COLUMNA_CON_OUTLIERS'] >= low_threshold) & (df['COLUMNA_CON_OUTLIERS'] <= high_threshold)]\n",
        "\n",
        "df.head()"
      ],
      "metadata": {
        "id": "bkB9a0gWlNOv"
      },
      "execution_count": null,
      "outputs": []
    },
    {
      "cell_type": "markdown",
      "source": [
        "### **Z Score**\n",
        "Desviaciones Estandard"
      ],
      "metadata": {
        "id": "NtrF5R_mOrAE"
      }
    },
    {
      "cell_type": "markdown",
      "source": [
        "CHatGPT"
      ],
      "metadata": {
        "id": "GJIkdCBlml9q"
      }
    },
    {
      "cell_type": "code",
      "source": [
        "# Calcular la media y la desviación estándar\n",
        "mean = df['COLUMNA_CON_OUTLIERS'].mean()\n",
        "std = df['COLUMNA_CON_OUTLIERS'].std()\n",
        "\n",
        "# Definir el umbral para eliminar los outliers (por ejemplo, 3 desviaciones estándar)\n",
        "threshold = 3\n",
        "\n",
        "# Eliminar los outliers\n",
        "df = df[(df['COLUMNA_CON_OUTLIERS'] - mean) / std < threshold]\n",
        "\n",
        "df.head()"
      ],
      "metadata": {
        "id": "NxiyrHyHOtTt"
      },
      "execution_count": null,
      "outputs": []
    },
    {
      "cell_type": "markdown",
      "source": [
        "### **Distancia Media**\n",
        "\n",
        "(Bivariados)"
      ],
      "metadata": {
        "id": "mP1q7_D2PQe2"
      }
    },
    {
      "cell_type": "code",
      "source": [],
      "metadata": {
        "id": "-Ebu5QkYQ-0s"
      },
      "execution_count": null,
      "outputs": []
    }
  ]
}